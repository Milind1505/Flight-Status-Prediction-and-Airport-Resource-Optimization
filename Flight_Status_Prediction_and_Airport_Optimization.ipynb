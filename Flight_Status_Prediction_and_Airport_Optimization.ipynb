{
  "nbformat": 4,
  "nbformat_minor": 0,
  "metadata": {
    "colab": {
      "provenance": [],
      "authorship_tag": "ABX9TyMgRAdhScDZnedjlh1aHV4C",
      "include_colab_link": true
    },
    "kernelspec": {
      "name": "python3",
      "display_name": "Python 3"
    },
    "language_info": {
      "name": "python"
    }
  },
  "cells": [
    {
      "cell_type": "markdown",
      "metadata": {
        "id": "view-in-github",
        "colab_type": "text"
      },
      "source": [
        "<a href=\"https://colab.research.google.com/github/Milind1505/Flight-Status-Prediction-and-Airport-Resource-Optimization/blob/main/Flight_Status_Prediction_and_Airport_Optimization.ipynb\" target=\"_parent\"><img src=\"https://colab.research.google.com/assets/colab-badge.svg\" alt=\"Open In Colab\"/></a>"
      ]
    },
    {
      "cell_type": "markdown",
      "source": [
        "# **Flight Status Prediction and Airport Optimization**\n",
        "\n"
      ],
      "metadata": {
        "id": "yOukijNDtc3S"
      }
    },
    {
      "cell_type": "markdown",
      "source": [
        "# Introduction\n",
        "\n",
        "In the dynamic and complex world of air travel, predicting flight status and optimizing airport operations are crucial for minimizing delays, enhancing passenger satisfaction, and improving overall efficiency. This project leverages the power of machine learning and optimization techniques to achieve these goals.\n",
        "\n",
        "P**roject Objectives:**\n",
        "\n",
        "**Predict Flight Status:** Develop a model to predict the \"scheduled\" status of flights, providing valuable information to airlines, airports, and passengers.\n",
        "\n",
        "**Optimize Airport Resources:** Utilize optimization methods to strategically allocate airport resources, such as gates, with the aim of minimizing turnaround time and potential delays.\n",
        "\n",
        "**Simulate Airport Operations:** Create a simulation to assess the effectiveness of the optimization strategy and understand its impact on airport performance.\n",
        "\n",
        "**Interpret Model Predictions:** Employ model interpretability techniques to gain insights into the factors driving flight predictions and the relationship between features and outcomes.\n",
        "\n",
        "# Methodology\n",
        "\n",
        "The project follows a structured approach, encompassing the following steps:"
      ],
      "metadata": {
        "id": "7QWJZsPTttyx"
      }
    },
    {
      "cell_type": "markdown",
      "source": [
        "# Data Collection and Preparation"
      ],
      "metadata": {
        "id": "ZrDXzt4KuAev"
      }
    },
    {
      "cell_type": "code",
      "execution_count": null,
      "metadata": {
        "colab": {
          "base_uri": "https://localhost:8080/"
        },
        "id": "Ld-21o3ww19a",
        "outputId": "2a79b5a8-ef34-4beb-b888-42ed23adbcfb"
      },
      "outputs": [
        {
          "output_type": "stream",
          "name": "stdout",
          "text": [
            "Requirement already satisfied: requests in /usr/local/lib/python3.11/dist-packages (2.32.3)\n",
            "Requirement already satisfied: charset-normalizer<4,>=2 in /usr/local/lib/python3.11/dist-packages (from requests) (3.4.1)\n",
            "Requirement already satisfied: idna<4,>=2.5 in /usr/local/lib/python3.11/dist-packages (from requests) (3.10)\n",
            "Requirement already satisfied: urllib3<3,>=1.21.1 in /usr/local/lib/python3.11/dist-packages (from requests) (2.3.0)\n",
            "Requirement already satisfied: certifi>=2017.4.17 in /usr/local/lib/python3.11/dist-packages (from requests) (2025.1.31)\n"
          ]
        }
      ],
      "source": [
        "!pip install requests"
      ]
    },
    {
      "cell_type": "code",
      "source": [
        "import requests\n",
        "import pandas as pd\n",
        "\n",
        "# Replace YOUR_API_KEY with your actual API key\n",
        "api_key = \"Y11070befee246d1a59a5e966e9a59f6d\"\n",
        "url = f\"http://api.aviationstack.com/v1/flights?access_key=11070befee246d1a59a5e966e9a59f6d&airline_icao=BAW\"  # BAW is the ICAO code for British Airways\n",
        "\n",
        "response = requests.get(url)\n",
        "\n",
        "if response.status_code == 200:\n",
        "    data = response.json()\n",
        "    flight_data = pd.DataFrame(data['data'])  # Create DataFrame from 'data' key\n",
        "    print(flight_data.head())  # Display first few rows of DataFrame\n",
        "else:\n",
        "    print(f\"Error: {response.status_code}\")"
      ],
      "metadata": {
        "colab": {
          "base_uri": "https://localhost:8080/"
        },
        "id": "BdyEAvH3yQcV",
        "outputId": "51500ef7-9d71-4733-d643-b9b7bb176fc6"
      },
      "execution_count": null,
      "outputs": [
        {
          "output_type": "stream",
          "name": "stdout",
          "text": [
            "  flight_date flight_status  \\\n",
            "0  2025-03-24     scheduled   \n",
            "1  2025-03-24        landed   \n",
            "2  2025-03-24        landed   \n",
            "3  2025-03-24        landed   \n",
            "4  2025-03-24     scheduled   \n",
            "\n",
            "                                           departure  \\\n",
            "0  {'airport': 'London City Airport', 'timezone':...   \n",
            "1  {'airport': 'Leonardo Da Vinci (Fiumicino)', '...   \n",
            "2  {'airport': 'Leonardo Da Vinci (Fiumicino)', '...   \n",
            "3  {'airport': 'Queen Alia International', 'timez...   \n",
            "4  {'airport': 'Eglinton (City of Derry)', 'timez...   \n",
            "\n",
            "                                             arrival  \\\n",
            "0  {'airport': 'Peretola', 'timezone': 'Europe/Ro...   \n",
            "1  {'airport': 'Heathrow', 'timezone': 'Europe/Lo...   \n",
            "2  {'airport': 'Heathrow', 'timezone': 'Europe/Lo...   \n",
            "3  {'airport': 'Heathrow', 'timezone': 'Europe/Lo...   \n",
            "4  {'airport': 'Heathrow', 'timezone': 'Europe/Lo...   \n",
            "\n",
            "                                             airline  \\\n",
            "0  {'name': 'British Airways', 'iata': 'BA', 'ica...   \n",
            "1  {'name': 'British Airways', 'iata': 'BA', 'ica...   \n",
            "2  {'name': 'British Airways', 'iata': 'BA', 'ica...   \n",
            "3  {'name': 'British Airways', 'iata': 'BA', 'ica...   \n",
            "4  {'name': 'British Airways', 'iata': 'BA', 'ica...   \n",
            "\n",
            "                                              flight  \\\n",
            "0  {'number': None, 'iata': 'BA', 'icao': 'BAW', ...   \n",
            "1  {'number': '551', 'iata': 'BA551', 'icao': 'BA...   \n",
            "2  {'number': '539', 'iata': 'BA539', 'icao': 'BA...   \n",
            "3  {'number': '313', 'iata': 'BA313', 'icao': 'BA...   \n",
            "4  {'number': '4001', 'iata': 'BA4001', 'icao': '...   \n",
            "\n",
            "                                            aircraft  live  \n",
            "0                                               None  None  \n",
            "1  {'registration': 'G-DBCB', 'iata': 'A319', 'ic...  None  \n",
            "2  {'registration': 'G-EUYC', 'iata': 'A320', 'ic...  None  \n",
            "3  {'registration': 'G-TTNY', 'iata': 'A20N', 'ic...  None  \n",
            "4                                               None  None  \n"
          ]
        }
      ]
    },
    {
      "cell_type": "markdown",
      "source": [
        "Flight data is collected using the AviationStack API. The requests library is used to make API calls, and the data is converted into a pandas DataFrame."
      ],
      "metadata": {
        "id": "j4QkS8S7uSqN"
      }
    },
    {
      "cell_type": "markdown",
      "source": [
        "# Exploratory Data Analysis and Cleaning"
      ],
      "metadata": {
        "id": "OHptfdNauOcP"
      }
    },
    {
      "cell_type": "markdown",
      "source": [
        "The data is explored to understand its structure, dimensions, and data types. Basic data cleaning is performed, such as handling missing values by filling them with 0."
      ],
      "metadata": {
        "id": "M1Yw3D8EubFE"
      }
    },
    {
      "cell_type": "code",
      "source": [
        "# Explore the data\n",
        "print(flight_data.shape)  # Get the dimensions of the DataFrame\n",
        "print(flight_data.columns)  # Get the column names\n",
        "print(flight_data.dtypes)  # Get the data types of each column\n",
        "\n",
        "# Clean the data (example: handling missing values)\n",
        "flight_data.fillna(0, inplace=True)  # Replace NaN values with 0"
      ],
      "metadata": {
        "colab": {
          "base_uri": "https://localhost:8080/"
        },
        "id": "LBZpW-6xzdyZ",
        "outputId": "1fa3508f-9696-4a2f-891c-36080b8a91a6"
      },
      "execution_count": null,
      "outputs": [
        {
          "output_type": "stream",
          "name": "stdout",
          "text": [
            "(100, 8)\n",
            "Index(['flight_date', 'flight_status', 'departure', 'arrival', 'airline',\n",
            "       'flight', 'aircraft', 'live'],\n",
            "      dtype='object')\n",
            "flight_date      object\n",
            "flight_status    object\n",
            "departure        object\n",
            "arrival          object\n",
            "airline          object\n",
            "flight           object\n",
            "aircraft         object\n",
            "live             object\n",
            "dtype: object\n"
          ]
        }
      ]
    },
    {
      "cell_type": "markdown",
      "source": [
        "# Feature Engineering\n",
        "\n",
        "New features are engineered from the existing data, such as departure hour, flight distance, duration, day of week, and month. This step enhances the predictive power of the model."
      ],
      "metadata": {
        "id": "dXLKxaLXueZ-"
      }
    },
    {
      "cell_type": "code",
      "source": [
        "# Extract hour of day from departure time, handling missing 'estimated' key\n",
        "flight_data['departure_hour'] = pd.to_datetime(flight_data['departure'].apply(lambda x: x.get('estimated', None))).dt.hour\n",
        "\n",
        "# Calculate flight distance (if not already present)\n",
        "# You'll need a library like geopy for this\n",
        "from geopy.distance import geodesic\n",
        "\n",
        "# Function to calculate distance, handling missing coordinates\n",
        "def calculate_distance(row):\n",
        "    try:\n",
        "        departure_coords = (row['departure'].get('latitude'), row['departure'].get('longitude'))\n",
        "        arrival_coords = (row['arrival'].get('latitude'), row['arrival'].get('longitude'))\n",
        "        # Check if coordinates are valid (not None)\n",
        "        if all(coord is not None for coord in departure_coords + arrival_coords):\n",
        "            return geodesic(departure_coords, arrival_coords).km\n",
        "        else:\n",
        "            return None  # Return None for missing coordinates\n",
        "    except (KeyError, TypeError):\n",
        "        return None  # Return None for any other errors\n",
        "\n",
        "flight_data['flight_distance'] = flight_data.apply(calculate_distance, axis=1)\n",
        "\n",
        "# 1. Flight Duration\n",
        "# Assuming 'arrival' and 'departure' have 'estimated' time in them\n",
        "flight_data['flight_duration'] = pd.to_datetime(flight_data['arrival'].apply(lambda x: x.get('estimated', None))) - pd.to_datetime(flight_data['departure'].apply(lambda x: x.get('estimated', None)))\n",
        "flight_data['flight_duration'] = flight_data['flight_duration'].dt.total_seconds() / 3600  # Convert to hours\n",
        "\n",
        "# 2. Day of Week and Month of Year\n",
        "flight_data['departure_dayofweek'] = pd.to_datetime(flight_data['departure'].apply(lambda x: x.get('estimated', None))).dt.dayofweek  # Monday=0, Sunday=6\n",
        "flight_data['departure_month'] = pd.to_datetime(flight_data['departure'].apply(lambda x: x.get('estimated', None))).dt.month\n",
        "\n",
        "# 3. Airline (if not already present)\n",
        "# Assuming 'airline' is a dictionary with an 'name' key\n",
        "flight_data['airline_name'] = flight_data['airline'].apply(lambda x: x.get('name', None))\n",
        "\n",
        "# 4. Airport Codes (if not already present)\n",
        "flight_data['departure_airport'] = flight_data['departure'].apply(lambda x: x.get('iata', None))\n",
        "flight_data['arrival_airport'] = flight_data['arrival'].apply(lambda x: x.get('iata', None))\n",
        "\n",
        "# 5. Flight Status (Categorical) - if available\n",
        "# Assuming 'flight_status' is a column with values like 'scheduled', 'active', etc.\n",
        "flight_data = pd.get_dummies(flight_data, columns=['flight_status'], prefix=['status'])  # One-hot encoding\n"
      ],
      "metadata": {
        "id": "cQmdgPbb0o3R"
      },
      "execution_count": null,
      "outputs": []
    },
    {
      "cell_type": "code",
      "source": [
        "print(flight_data)"
      ],
      "metadata": {
        "colab": {
          "base_uri": "https://localhost:8080/"
        },
        "id": "-VUfvH4D1nE2",
        "outputId": "96ea2868-b297-4e94-91f9-a76fd305035c"
      },
      "execution_count": null,
      "outputs": [
        {
          "output_type": "stream",
          "name": "stdout",
          "text": [
            "   flight_date                                          departure  \\\n",
            "0   2025-03-24  {'airport': 'London City Airport', 'timezone':...   \n",
            "1   2025-03-24  {'airport': 'Leonardo Da Vinci (Fiumicino)', '...   \n",
            "2   2025-03-24  {'airport': 'Leonardo Da Vinci (Fiumicino)', '...   \n",
            "3   2025-03-24  {'airport': 'Queen Alia International', 'timez...   \n",
            "4   2025-03-24  {'airport': 'Eglinton (City of Derry)', 'timez...   \n",
            "..         ...                                                ...   \n",
            "95  2025-03-24  {'airport': 'Dyce', 'timezone': 'Europe/London...   \n",
            "96  2025-03-24  {'airport': 'Dyce', 'timezone': 'Europe/London...   \n",
            "97  2025-03-24  {'airport': 'Dyce', 'timezone': 'Europe/London...   \n",
            "98  2025-03-24  {'airport': 'Perth International', 'timezone':...   \n",
            "99  2025-03-24  {'airport': 'Edinburgh', 'timezone': 'Europe/L...   \n",
            "\n",
            "                                              arrival  \\\n",
            "0   {'airport': 'Peretola', 'timezone': 'Europe/Ro...   \n",
            "1   {'airport': 'Heathrow', 'timezone': 'Europe/Lo...   \n",
            "2   {'airport': 'Heathrow', 'timezone': 'Europe/Lo...   \n",
            "3   {'airport': 'Heathrow', 'timezone': 'Europe/Lo...   \n",
            "4   {'airport': 'Heathrow', 'timezone': 'Europe/Lo...   \n",
            "..                                                ...   \n",
            "95  {'airport': 'Manchester Airport', 'timezone': ...   \n",
            "96  {'airport': 'Sumburgh', 'timezone': 'Europe/Lo...   \n",
            "97  {'airport': 'Birmingham Airport', 'timezone': ...   \n",
            "98  {'airport': 'Singapore Changi', 'timezone': 'A...   \n",
            "99  {'airport': 'London City Airport', 'timezone':...   \n",
            "\n",
            "                                              airline  \\\n",
            "0   {'name': 'British Airways', 'iata': 'BA', 'ica...   \n",
            "1   {'name': 'British Airways', 'iata': 'BA', 'ica...   \n",
            "2   {'name': 'British Airways', 'iata': 'BA', 'ica...   \n",
            "3   {'name': 'British Airways', 'iata': 'BA', 'ica...   \n",
            "4   {'name': 'British Airways', 'iata': 'BA', 'ica...   \n",
            "..                                                ...   \n",
            "95  {'name': 'British Airways', 'iata': 'BA', 'ica...   \n",
            "96  {'name': 'British Airways', 'iata': 'BA', 'ica...   \n",
            "97  {'name': 'British Airways', 'iata': 'BA', 'ica...   \n",
            "98  {'name': 'British Airways', 'iata': 'BA', 'ica...   \n",
            "99  {'name': 'British Airways', 'iata': 'BA', 'ica...   \n",
            "\n",
            "                                               flight  \\\n",
            "0   {'number': None, 'iata': 'BA', 'icao': 'BAW', ...   \n",
            "1   {'number': '551', 'iata': 'BA551', 'icao': 'BA...   \n",
            "2   {'number': '539', 'iata': 'BA539', 'icao': 'BA...   \n",
            "3   {'number': '313', 'iata': 'BA313', 'icao': 'BA...   \n",
            "4   {'number': '4001', 'iata': 'BA4001', 'icao': '...   \n",
            "..                                                ...   \n",
            "95  {'number': '7821', 'iata': 'BA7821', 'icao': '...   \n",
            "96  {'number': '4070', 'iata': 'BA4070', 'icao': '...   \n",
            "97  {'number': '7831', 'iata': 'BA7831', 'icao': '...   \n",
            "98  {'number': '7405', 'iata': 'BA7405', 'icao': '...   \n",
            "99  {'number': '8711', 'iata': 'BA8711', 'icao': '...   \n",
            "\n",
            "                                             aircraft live  departure_hour  \\\n",
            "0                                                   0    0               8   \n",
            "1   {'registration': 'G-DBCB', 'iata': 'A319', 'ic...    0               7   \n",
            "2   {'registration': 'G-EUYC', 'iata': 'A320', 'ic...    0               7   \n",
            "3   {'registration': 'G-TTNY', 'iata': 'A20N', 'ic...    0               9   \n",
            "4                                                   0    0               6   \n",
            "..                                                ...  ...             ...   \n",
            "95                                                  0    0               6   \n",
            "96                                                  0    0               6   \n",
            "97                                                  0    0               6   \n",
            "98                                                  0    0              12   \n",
            "99  {'registration': 'G-LCAG', 'iata': 'E190', 'ic...    0               7   \n",
            "\n",
            "   flight_distance  flight_duration  departure_dayofweek  departure_month  \\\n",
            "0             None              NaN                    0                3   \n",
            "1             None              NaN                    0                3   \n",
            "2             None              NaN                    0                3   \n",
            "3             None              NaN                    0                3   \n",
            "4             None              NaN                    0                3   \n",
            "..             ...              ...                  ...              ...   \n",
            "95            None              NaN                    0                3   \n",
            "96            None              NaN                    0                3   \n",
            "97            None              NaN                    0                3   \n",
            "98            None              NaN                    0                3   \n",
            "99            None              NaN                    0                3   \n",
            "\n",
            "       airline_name departure_airport arrival_airport  status_active  \\\n",
            "0   British Airways               LCY             FLR          False   \n",
            "1   British Airways               FCO             LHR          False   \n",
            "2   British Airways               FCO             LHR          False   \n",
            "3   British Airways               AMM             LHR          False   \n",
            "4   British Airways               LDY             LHR          False   \n",
            "..              ...               ...             ...            ...   \n",
            "95  British Airways               ABZ             MAN          False   \n",
            "96  British Airways               ABZ             LSI          False   \n",
            "97  British Airways               ABZ             BHX          False   \n",
            "98  British Airways               PER             SIN          False   \n",
            "99  British Airways               EDI             LCY          False   \n",
            "\n",
            "    status_cancelled  status_landed  status_scheduled  \n",
            "0              False          False              True  \n",
            "1              False           True             False  \n",
            "2              False           True             False  \n",
            "3              False           True             False  \n",
            "4              False          False              True  \n",
            "..               ...            ...               ...  \n",
            "95             False          False              True  \n",
            "96             False          False              True  \n",
            "97             False          False              True  \n",
            "98             False          False              True  \n",
            "99             False           True             False  \n",
            "\n",
            "[100 rows x 19 columns]\n"
          ]
        }
      ]
    },
    {
      "cell_type": "markdown",
      "source": [
        "# Feature Selection and Correlation Analysis\n",
        "\n",
        "Correlation analysis is conducted to identify relationships between features and the target variable ('status_scheduled'). This helps in selecting relevant features for the model.\n",
        "\n"
      ],
      "metadata": {
        "id": "uMXQHDFsux5D"
      }
    },
    {
      "cell_type": "code",
      "source": [
        "from scipy.stats import pointbiserialr\n",
        "\n",
        "# ... (your existing code for data loading, cleaning, and feature engineering)\n",
        "\n",
        "# Assuming 'flight_status_scheduled' is your target variable (one-hot encoded)\n",
        "target_variable = 'status_scheduled'  # Replace with the actual column name\n",
        "\n",
        "# Calculate point-biserial correlation for each numeric feature\n",
        "correlations = {}\n",
        "for column in flight_data.select_dtypes(include=['number']):\n",
        "    if column != target_variable:  # Exclude the target variable itself\n",
        "        correlation, p_value = pointbiserialr(flight_data[target_variable], flight_data[column])\n",
        "        correlations[column] = correlation\n",
        "\n",
        "# Print the correlations\n",
        "print(\"Point-Biserial Correlation with\", target_variable + \":\")\n",
        "for column, correlation in correlations.items():\n",
        "    print(column, \":\", correlation)"
      ],
      "metadata": {
        "colab": {
          "base_uri": "https://localhost:8080/"
        },
        "id": "hPJ3pU_V2ZD2",
        "outputId": "309304c1-b927-4163-8864-8802211e7c4c"
      },
      "execution_count": null,
      "outputs": [
        {
          "output_type": "stream",
          "name": "stdout",
          "text": [
            "Point-Biserial Correlation with status_scheduled:\n",
            "departure_hour : 0.19215032805408275\n",
            "flight_duration : nan\n",
            "departure_dayofweek : nan\n",
            "departure_month : nan\n"
          ]
        },
        {
          "output_type": "stream",
          "name": "stderr",
          "text": [
            "/usr/local/lib/python3.11/dist-packages/scipy/stats/_stats_py.py:5657: ConstantInputWarning: An input array is constant; the correlation coefficient is not defined.\n",
            "  rpb, prob = pearsonr(x, y)\n"
          ]
        }
      ]
    },
    {
      "cell_type": "code",
      "source": [
        "# Calculate correlation matrix for numeric columns only\n",
        "correlation_matrix = flight_data.select_dtypes(include=['number']).corr()\n",
        "\n",
        "# Display correlation with target variable (if it's numeric)\n",
        "if 'target_variable' in correlation_matrix.columns:\n",
        "    print(correlation_matrix['target_variable'])  # Replace 'target_variable' with your target variable name\n",
        "else:\n",
        "    print(\"Target variable is not numeric and cannot be included in correlation analysis.\")"
      ],
      "metadata": {
        "colab": {
          "base_uri": "https://localhost:8080/"
        },
        "id": "6n_Ynp1z1_Im",
        "outputId": "2d71c430-b3b5-4649-8ee2-c09f4efd767b"
      },
      "execution_count": null,
      "outputs": [
        {
          "output_type": "stream",
          "name": "stdout",
          "text": [
            "Target variable is not numeric and cannot be included in correlation analysis.\n"
          ]
        }
      ]
    },
    {
      "cell_type": "markdown",
      "source": [
        "# Model Training and Evaluation\n",
        "\n",
        "The data is split into training, validation, and testing sets. A Random Forest model is trained, and hyperparameter tuning is performed using GridSearchCV to optimize model performance. Model accuracy is evaluated on the validation and test sets."
      ],
      "metadata": {
        "id": "XLTkfjFEvBs6"
      }
    },
    {
      "cell_type": "code",
      "source": [
        "from sklearn.model_selection import train_test_split\n",
        "\n",
        "# Select the features you want to use for your model\n",
        "# Replace with the actual column names you want to use\n",
        "features = flight_data[['departure_hour', 'flight_distance', 'flight_duration',\n",
        "                        'departure_dayofweek', 'departure_month', 'status_scheduled']]\n",
        "\n",
        "# Assuming 'status_scheduled' is your target variable\n",
        "target = flight_data['status_scheduled']\n",
        "\n",
        "# Split the data into training and testing sets\n",
        "X_train, X_test, y_train, y_test = train_test_split(features, target, test_size=0.3, random_state=42)  # 70/30 split\n",
        "X_val, X_test, y_val, y_test = train_test_split(X_temp, y_temp, test_size=0.5, random_state=42) # Further split 30% into 15% each"
      ],
      "metadata": {
        "id": "5kX5CFya0OVA"
      },
      "execution_count": null,
      "outputs": []
    },
    {
      "cell_type": "code",
      "source": [
        "from sklearn.ensemble import RandomForestClassifier\n",
        "from sklearn.metrics import accuracy_score\n",
        "\n",
        "# Create a Random Forest classifier\n",
        "rf_model = RandomForestClassifier(random_state=42)\n",
        "\n",
        "# Train the model\n",
        "rf_model.fit(X_train, y_train)\n",
        "\n",
        "# Make predictions on the validation set\n",
        "y_pred_val = rf_model.predict(X_val)\n",
        "\n",
        "# Evaluate performance (e.g., using accuracy)\n",
        "accuracy = accuracy_score(y_val, y_pred_val)\n",
        "print(\"Validation Accuracy:\", accuracy)\n",
        "\n"
      ],
      "metadata": {
        "colab": {
          "base_uri": "https://localhost:8080/"
        },
        "id": "0rHdS_su3Q1x",
        "outputId": "dd7f87f8-ea98-4998-a870-75f851ab0030"
      },
      "execution_count": null,
      "outputs": [
        {
          "output_type": "stream",
          "name": "stdout",
          "text": [
            "Validation Accuracy: 1.0\n"
          ]
        }
      ]
    },
    {
      "cell_type": "code",
      "source": [
        "from sklearn.model_selection import GridSearchCV # Import GridSearchCV\n",
        "\n",
        "# Define the hyperparameter grid to search\n",
        "param_grid = {\n",
        "    'n_estimators': [100, 200, 300],\n",
        "    'max_depth': [None, 10, 20],\n",
        "    'min_samples_split': [2, 5, 10],\n",
        "    'min_samples_leaf': [1, 2, 4]\n",
        "}\n",
        "\n",
        "# Create a Random Forest classifier\n",
        "rf_model = RandomForestClassifier(random_state=42)\n",
        "\n",
        "\n",
        "# Create a GridSearchCV object\n",
        "grid_search = GridSearchCV(estimator=rf_model, param_grid=param_grid,\n",
        "                           scoring='accuracy', cv=5, n_jobs=-1) # cv: cross-validation folds, n_jobs: use all CPU cores\n",
        "\n",
        "# Train the model using GridSearchCV\n",
        "grid_search.fit(X_train, y_train)\n",
        "\n",
        "# Get the best model and its hyperparameters\n",
        "best_model = grid_search.best_estimator_\n",
        "best_params = grid_search.best_params_\n",
        "\n",
        "# Make predictions on the validation set using the best model\n",
        "y_pred_val = best_model.predict(X_val)\n",
        "\n",
        "# Evaluate performance (e.g., using accuracy)\n",
        "accuracy = accuracy_score(y_val, y_pred_val)\n",
        "print(\"Validation Accuracy:\", accuracy)\n",
        "print(\"Best Hyperparameters:\", best_params)"
      ],
      "metadata": {
        "colab": {
          "base_uri": "https://localhost:8080/"
        },
        "id": "LmF_5y1M3dJZ",
        "outputId": "68e40bdb-3be3-4d90-b838-8cb8e9e837ca"
      },
      "execution_count": null,
      "outputs": [
        {
          "output_type": "stream",
          "name": "stdout",
          "text": [
            "Validation Accuracy: 1.0\n",
            "Best Hyperparameters: {'max_depth': None, 'min_samples_leaf': 1, 'min_samples_split': 2, 'n_estimators': 100}\n"
          ]
        }
      ]
    },
    {
      "cell_type": "code",
      "source": [
        "# Make predictions on the test set using the best model from GridSearchCV\n",
        "y_pred_test = best_model.predict(X_test)\n",
        "\n",
        "# Evaluate performance on the test set\n",
        "accuracy_test = accuracy_score(y_test, y_pred_test)\n",
        "print(\"Test Accuracy:\", accuracy_test)"
      ],
      "metadata": {
        "colab": {
          "base_uri": "https://localhost:8080/"
        },
        "id": "IpBNNa8d3ynS",
        "outputId": "f53e8435-651b-48da-ee75-fe176e9abead"
      },
      "execution_count": null,
      "outputs": [
        {
          "output_type": "stream",
          "name": "stdout",
          "text": [
            "Test Accuracy: 1.0\n"
          ]
        }
      ]
    },
    {
      "cell_type": "code",
      "source": [
        "#Remove Target Leakage:\n",
        "features = flight_data[['departure_hour', 'flight_distance', 'flight_duration',\n",
        "                            'departure_dayofweek', 'departure_month']]  # Remove 'status_scheduled'\n",
        "target = flight_data['status_scheduled']"
      ],
      "metadata": {
        "id": "ATSM7GlA485O"
      },
      "execution_count": null,
      "outputs": []
    },
    {
      "cell_type": "code",
      "source": [
        "#Split Data:\n",
        "X_train, X_test, y_train, y_test = train_test_split(features, target, test_size=0.3, random_state=42)\n",
        "X_val, X_test, y_val, y_test = train_test_split(X_test, y_test, test_size=0.5, random_state=42)\n"
      ],
      "metadata": {
        "id": "6QfTKmnY5Qn6"
      },
      "execution_count": null,
      "outputs": []
    },
    {
      "cell_type": "code",
      "source": [
        "# Define Model and Hyperparameter Grid:\n",
        "rf_model = RandomForestClassifier(random_state=42)\n",
        "param_grid = {\n",
        "    'n_estimators': [100, 200, 300],\n",
        "    'max_depth': [None, 10, 20],\n",
        "    'min_samples_split': [2, 5, 10],\n",
        "    'min_samples_leaf': [1, 2, 4]\n",
        "}"
      ],
      "metadata": {
        "id": "A-Wpv3XR5VuI"
      },
      "execution_count": null,
      "outputs": []
    },
    {
      "cell_type": "code",
      "source": [
        "#Grid Search with Cross-Validation:\n",
        "grid_search = GridSearchCV(estimator=rf_model, param_grid=param_grid,\n",
        "                           scoring='accuracy', cv=5, n_jobs=-1)\n",
        "grid_search.fit(X_train, y_train)"
      ],
      "metadata": {
        "colab": {
          "base_uri": "https://localhost:8080/",
          "height": 170
        },
        "id": "y4CseJ6-5eXs",
        "outputId": "691a4426-39c1-4f33-fbca-534374bad8cc"
      },
      "execution_count": null,
      "outputs": [
        {
          "output_type": "execute_result",
          "data": {
            "text/plain": [
              "GridSearchCV(cv=5, estimator=RandomForestClassifier(random_state=42), n_jobs=-1,\n",
              "             param_grid={'max_depth': [None, 10, 20],\n",
              "                         'min_samples_leaf': [1, 2, 4],\n",
              "                         'min_samples_split': [2, 5, 10],\n",
              "                         'n_estimators': [100, 200, 300]},\n",
              "             scoring='accuracy')"
            ],
            "text/html": [
              "<style>#sk-container-id-1 {\n",
              "  /* Definition of color scheme common for light and dark mode */\n",
              "  --sklearn-color-text: #000;\n",
              "  --sklearn-color-text-muted: #666;\n",
              "  --sklearn-color-line: gray;\n",
              "  /* Definition of color scheme for unfitted estimators */\n",
              "  --sklearn-color-unfitted-level-0: #fff5e6;\n",
              "  --sklearn-color-unfitted-level-1: #f6e4d2;\n",
              "  --sklearn-color-unfitted-level-2: #ffe0b3;\n",
              "  --sklearn-color-unfitted-level-3: chocolate;\n",
              "  /* Definition of color scheme for fitted estimators */\n",
              "  --sklearn-color-fitted-level-0: #f0f8ff;\n",
              "  --sklearn-color-fitted-level-1: #d4ebff;\n",
              "  --sklearn-color-fitted-level-2: #b3dbfd;\n",
              "  --sklearn-color-fitted-level-3: cornflowerblue;\n",
              "\n",
              "  /* Specific color for light theme */\n",
              "  --sklearn-color-text-on-default-background: var(--sg-text-color, var(--theme-code-foreground, var(--jp-content-font-color1, black)));\n",
              "  --sklearn-color-background: var(--sg-background-color, var(--theme-background, var(--jp-layout-color0, white)));\n",
              "  --sklearn-color-border-box: var(--sg-text-color, var(--theme-code-foreground, var(--jp-content-font-color1, black)));\n",
              "  --sklearn-color-icon: #696969;\n",
              "\n",
              "  @media (prefers-color-scheme: dark) {\n",
              "    /* Redefinition of color scheme for dark theme */\n",
              "    --sklearn-color-text-on-default-background: var(--sg-text-color, var(--theme-code-foreground, var(--jp-content-font-color1, white)));\n",
              "    --sklearn-color-background: var(--sg-background-color, var(--theme-background, var(--jp-layout-color0, #111)));\n",
              "    --sklearn-color-border-box: var(--sg-text-color, var(--theme-code-foreground, var(--jp-content-font-color1, white)));\n",
              "    --sklearn-color-icon: #878787;\n",
              "  }\n",
              "}\n",
              "\n",
              "#sk-container-id-1 {\n",
              "  color: var(--sklearn-color-text);\n",
              "}\n",
              "\n",
              "#sk-container-id-1 pre {\n",
              "  padding: 0;\n",
              "}\n",
              "\n",
              "#sk-container-id-1 input.sk-hidden--visually {\n",
              "  border: 0;\n",
              "  clip: rect(1px 1px 1px 1px);\n",
              "  clip: rect(1px, 1px, 1px, 1px);\n",
              "  height: 1px;\n",
              "  margin: -1px;\n",
              "  overflow: hidden;\n",
              "  padding: 0;\n",
              "  position: absolute;\n",
              "  width: 1px;\n",
              "}\n",
              "\n",
              "#sk-container-id-1 div.sk-dashed-wrapped {\n",
              "  border: 1px dashed var(--sklearn-color-line);\n",
              "  margin: 0 0.4em 0.5em 0.4em;\n",
              "  box-sizing: border-box;\n",
              "  padding-bottom: 0.4em;\n",
              "  background-color: var(--sklearn-color-background);\n",
              "}\n",
              "\n",
              "#sk-container-id-1 div.sk-container {\n",
              "  /* jupyter's `normalize.less` sets `[hidden] { display: none; }`\n",
              "     but bootstrap.min.css set `[hidden] { display: none !important; }`\n",
              "     so we also need the `!important` here to be able to override the\n",
              "     default hidden behavior on the sphinx rendered scikit-learn.org.\n",
              "     See: https://github.com/scikit-learn/scikit-learn/issues/21755 */\n",
              "  display: inline-block !important;\n",
              "  position: relative;\n",
              "}\n",
              "\n",
              "#sk-container-id-1 div.sk-text-repr-fallback {\n",
              "  display: none;\n",
              "}\n",
              "\n",
              "div.sk-parallel-item,\n",
              "div.sk-serial,\n",
              "div.sk-item {\n",
              "  /* draw centered vertical line to link estimators */\n",
              "  background-image: linear-gradient(var(--sklearn-color-text-on-default-background), var(--sklearn-color-text-on-default-background));\n",
              "  background-size: 2px 100%;\n",
              "  background-repeat: no-repeat;\n",
              "  background-position: center center;\n",
              "}\n",
              "\n",
              "/* Parallel-specific style estimator block */\n",
              "\n",
              "#sk-container-id-1 div.sk-parallel-item::after {\n",
              "  content: \"\";\n",
              "  width: 100%;\n",
              "  border-bottom: 2px solid var(--sklearn-color-text-on-default-background);\n",
              "  flex-grow: 1;\n",
              "}\n",
              "\n",
              "#sk-container-id-1 div.sk-parallel {\n",
              "  display: flex;\n",
              "  align-items: stretch;\n",
              "  justify-content: center;\n",
              "  background-color: var(--sklearn-color-background);\n",
              "  position: relative;\n",
              "}\n",
              "\n",
              "#sk-container-id-1 div.sk-parallel-item {\n",
              "  display: flex;\n",
              "  flex-direction: column;\n",
              "}\n",
              "\n",
              "#sk-container-id-1 div.sk-parallel-item:first-child::after {\n",
              "  align-self: flex-end;\n",
              "  width: 50%;\n",
              "}\n",
              "\n",
              "#sk-container-id-1 div.sk-parallel-item:last-child::after {\n",
              "  align-self: flex-start;\n",
              "  width: 50%;\n",
              "}\n",
              "\n",
              "#sk-container-id-1 div.sk-parallel-item:only-child::after {\n",
              "  width: 0;\n",
              "}\n",
              "\n",
              "/* Serial-specific style estimator block */\n",
              "\n",
              "#sk-container-id-1 div.sk-serial {\n",
              "  display: flex;\n",
              "  flex-direction: column;\n",
              "  align-items: center;\n",
              "  background-color: var(--sklearn-color-background);\n",
              "  padding-right: 1em;\n",
              "  padding-left: 1em;\n",
              "}\n",
              "\n",
              "\n",
              "/* Toggleable style: style used for estimator/Pipeline/ColumnTransformer box that is\n",
              "clickable and can be expanded/collapsed.\n",
              "- Pipeline and ColumnTransformer use this feature and define the default style\n",
              "- Estimators will overwrite some part of the style using the `sk-estimator` class\n",
              "*/\n",
              "\n",
              "/* Pipeline and ColumnTransformer style (default) */\n",
              "\n",
              "#sk-container-id-1 div.sk-toggleable {\n",
              "  /* Default theme specific background. It is overwritten whether we have a\n",
              "  specific estimator or a Pipeline/ColumnTransformer */\n",
              "  background-color: var(--sklearn-color-background);\n",
              "}\n",
              "\n",
              "/* Toggleable label */\n",
              "#sk-container-id-1 label.sk-toggleable__label {\n",
              "  cursor: pointer;\n",
              "  display: flex;\n",
              "  width: 100%;\n",
              "  margin-bottom: 0;\n",
              "  padding: 0.5em;\n",
              "  box-sizing: border-box;\n",
              "  text-align: center;\n",
              "  align-items: start;\n",
              "  justify-content: space-between;\n",
              "  gap: 0.5em;\n",
              "}\n",
              "\n",
              "#sk-container-id-1 label.sk-toggleable__label .caption {\n",
              "  font-size: 0.6rem;\n",
              "  font-weight: lighter;\n",
              "  color: var(--sklearn-color-text-muted);\n",
              "}\n",
              "\n",
              "#sk-container-id-1 label.sk-toggleable__label-arrow:before {\n",
              "  /* Arrow on the left of the label */\n",
              "  content: \"▸\";\n",
              "  float: left;\n",
              "  margin-right: 0.25em;\n",
              "  color: var(--sklearn-color-icon);\n",
              "}\n",
              "\n",
              "#sk-container-id-1 label.sk-toggleable__label-arrow:hover:before {\n",
              "  color: var(--sklearn-color-text);\n",
              "}\n",
              "\n",
              "/* Toggleable content - dropdown */\n",
              "\n",
              "#sk-container-id-1 div.sk-toggleable__content {\n",
              "  max-height: 0;\n",
              "  max-width: 0;\n",
              "  overflow: hidden;\n",
              "  text-align: left;\n",
              "  /* unfitted */\n",
              "  background-color: var(--sklearn-color-unfitted-level-0);\n",
              "}\n",
              "\n",
              "#sk-container-id-1 div.sk-toggleable__content.fitted {\n",
              "  /* fitted */\n",
              "  background-color: var(--sklearn-color-fitted-level-0);\n",
              "}\n",
              "\n",
              "#sk-container-id-1 div.sk-toggleable__content pre {\n",
              "  margin: 0.2em;\n",
              "  border-radius: 0.25em;\n",
              "  color: var(--sklearn-color-text);\n",
              "  /* unfitted */\n",
              "  background-color: var(--sklearn-color-unfitted-level-0);\n",
              "}\n",
              "\n",
              "#sk-container-id-1 div.sk-toggleable__content.fitted pre {\n",
              "  /* unfitted */\n",
              "  background-color: var(--sklearn-color-fitted-level-0);\n",
              "}\n",
              "\n",
              "#sk-container-id-1 input.sk-toggleable__control:checked~div.sk-toggleable__content {\n",
              "  /* Expand drop-down */\n",
              "  max-height: 200px;\n",
              "  max-width: 100%;\n",
              "  overflow: auto;\n",
              "}\n",
              "\n",
              "#sk-container-id-1 input.sk-toggleable__control:checked~label.sk-toggleable__label-arrow:before {\n",
              "  content: \"▾\";\n",
              "}\n",
              "\n",
              "/* Pipeline/ColumnTransformer-specific style */\n",
              "\n",
              "#sk-container-id-1 div.sk-label input.sk-toggleable__control:checked~label.sk-toggleable__label {\n",
              "  color: var(--sklearn-color-text);\n",
              "  background-color: var(--sklearn-color-unfitted-level-2);\n",
              "}\n",
              "\n",
              "#sk-container-id-1 div.sk-label.fitted input.sk-toggleable__control:checked~label.sk-toggleable__label {\n",
              "  background-color: var(--sklearn-color-fitted-level-2);\n",
              "}\n",
              "\n",
              "/* Estimator-specific style */\n",
              "\n",
              "/* Colorize estimator box */\n",
              "#sk-container-id-1 div.sk-estimator input.sk-toggleable__control:checked~label.sk-toggleable__label {\n",
              "  /* unfitted */\n",
              "  background-color: var(--sklearn-color-unfitted-level-2);\n",
              "}\n",
              "\n",
              "#sk-container-id-1 div.sk-estimator.fitted input.sk-toggleable__control:checked~label.sk-toggleable__label {\n",
              "  /* fitted */\n",
              "  background-color: var(--sklearn-color-fitted-level-2);\n",
              "}\n",
              "\n",
              "#sk-container-id-1 div.sk-label label.sk-toggleable__label,\n",
              "#sk-container-id-1 div.sk-label label {\n",
              "  /* The background is the default theme color */\n",
              "  color: var(--sklearn-color-text-on-default-background);\n",
              "}\n",
              "\n",
              "/* On hover, darken the color of the background */\n",
              "#sk-container-id-1 div.sk-label:hover label.sk-toggleable__label {\n",
              "  color: var(--sklearn-color-text);\n",
              "  background-color: var(--sklearn-color-unfitted-level-2);\n",
              "}\n",
              "\n",
              "/* Label box, darken color on hover, fitted */\n",
              "#sk-container-id-1 div.sk-label.fitted:hover label.sk-toggleable__label.fitted {\n",
              "  color: var(--sklearn-color-text);\n",
              "  background-color: var(--sklearn-color-fitted-level-2);\n",
              "}\n",
              "\n",
              "/* Estimator label */\n",
              "\n",
              "#sk-container-id-1 div.sk-label label {\n",
              "  font-family: monospace;\n",
              "  font-weight: bold;\n",
              "  display: inline-block;\n",
              "  line-height: 1.2em;\n",
              "}\n",
              "\n",
              "#sk-container-id-1 div.sk-label-container {\n",
              "  text-align: center;\n",
              "}\n",
              "\n",
              "/* Estimator-specific */\n",
              "#sk-container-id-1 div.sk-estimator {\n",
              "  font-family: monospace;\n",
              "  border: 1px dotted var(--sklearn-color-border-box);\n",
              "  border-radius: 0.25em;\n",
              "  box-sizing: border-box;\n",
              "  margin-bottom: 0.5em;\n",
              "  /* unfitted */\n",
              "  background-color: var(--sklearn-color-unfitted-level-0);\n",
              "}\n",
              "\n",
              "#sk-container-id-1 div.sk-estimator.fitted {\n",
              "  /* fitted */\n",
              "  background-color: var(--sklearn-color-fitted-level-0);\n",
              "}\n",
              "\n",
              "/* on hover */\n",
              "#sk-container-id-1 div.sk-estimator:hover {\n",
              "  /* unfitted */\n",
              "  background-color: var(--sklearn-color-unfitted-level-2);\n",
              "}\n",
              "\n",
              "#sk-container-id-1 div.sk-estimator.fitted:hover {\n",
              "  /* fitted */\n",
              "  background-color: var(--sklearn-color-fitted-level-2);\n",
              "}\n",
              "\n",
              "/* Specification for estimator info (e.g. \"i\" and \"?\") */\n",
              "\n",
              "/* Common style for \"i\" and \"?\" */\n",
              "\n",
              ".sk-estimator-doc-link,\n",
              "a:link.sk-estimator-doc-link,\n",
              "a:visited.sk-estimator-doc-link {\n",
              "  float: right;\n",
              "  font-size: smaller;\n",
              "  line-height: 1em;\n",
              "  font-family: monospace;\n",
              "  background-color: var(--sklearn-color-background);\n",
              "  border-radius: 1em;\n",
              "  height: 1em;\n",
              "  width: 1em;\n",
              "  text-decoration: none !important;\n",
              "  margin-left: 0.5em;\n",
              "  text-align: center;\n",
              "  /* unfitted */\n",
              "  border: var(--sklearn-color-unfitted-level-1) 1pt solid;\n",
              "  color: var(--sklearn-color-unfitted-level-1);\n",
              "}\n",
              "\n",
              ".sk-estimator-doc-link.fitted,\n",
              "a:link.sk-estimator-doc-link.fitted,\n",
              "a:visited.sk-estimator-doc-link.fitted {\n",
              "  /* fitted */\n",
              "  border: var(--sklearn-color-fitted-level-1) 1pt solid;\n",
              "  color: var(--sklearn-color-fitted-level-1);\n",
              "}\n",
              "\n",
              "/* On hover */\n",
              "div.sk-estimator:hover .sk-estimator-doc-link:hover,\n",
              ".sk-estimator-doc-link:hover,\n",
              "div.sk-label-container:hover .sk-estimator-doc-link:hover,\n",
              ".sk-estimator-doc-link:hover {\n",
              "  /* unfitted */\n",
              "  background-color: var(--sklearn-color-unfitted-level-3);\n",
              "  color: var(--sklearn-color-background);\n",
              "  text-decoration: none;\n",
              "}\n",
              "\n",
              "div.sk-estimator.fitted:hover .sk-estimator-doc-link.fitted:hover,\n",
              ".sk-estimator-doc-link.fitted:hover,\n",
              "div.sk-label-container:hover .sk-estimator-doc-link.fitted:hover,\n",
              ".sk-estimator-doc-link.fitted:hover {\n",
              "  /* fitted */\n",
              "  background-color: var(--sklearn-color-fitted-level-3);\n",
              "  color: var(--sklearn-color-background);\n",
              "  text-decoration: none;\n",
              "}\n",
              "\n",
              "/* Span, style for the box shown on hovering the info icon */\n",
              ".sk-estimator-doc-link span {\n",
              "  display: none;\n",
              "  z-index: 9999;\n",
              "  position: relative;\n",
              "  font-weight: normal;\n",
              "  right: .2ex;\n",
              "  padding: .5ex;\n",
              "  margin: .5ex;\n",
              "  width: min-content;\n",
              "  min-width: 20ex;\n",
              "  max-width: 50ex;\n",
              "  color: var(--sklearn-color-text);\n",
              "  box-shadow: 2pt 2pt 4pt #999;\n",
              "  /* unfitted */\n",
              "  background: var(--sklearn-color-unfitted-level-0);\n",
              "  border: .5pt solid var(--sklearn-color-unfitted-level-3);\n",
              "}\n",
              "\n",
              ".sk-estimator-doc-link.fitted span {\n",
              "  /* fitted */\n",
              "  background: var(--sklearn-color-fitted-level-0);\n",
              "  border: var(--sklearn-color-fitted-level-3);\n",
              "}\n",
              "\n",
              ".sk-estimator-doc-link:hover span {\n",
              "  display: block;\n",
              "}\n",
              "\n",
              "/* \"?\"-specific style due to the `<a>` HTML tag */\n",
              "\n",
              "#sk-container-id-1 a.estimator_doc_link {\n",
              "  float: right;\n",
              "  font-size: 1rem;\n",
              "  line-height: 1em;\n",
              "  font-family: monospace;\n",
              "  background-color: var(--sklearn-color-background);\n",
              "  border-radius: 1rem;\n",
              "  height: 1rem;\n",
              "  width: 1rem;\n",
              "  text-decoration: none;\n",
              "  /* unfitted */\n",
              "  color: var(--sklearn-color-unfitted-level-1);\n",
              "  border: var(--sklearn-color-unfitted-level-1) 1pt solid;\n",
              "}\n",
              "\n",
              "#sk-container-id-1 a.estimator_doc_link.fitted {\n",
              "  /* fitted */\n",
              "  border: var(--sklearn-color-fitted-level-1) 1pt solid;\n",
              "  color: var(--sklearn-color-fitted-level-1);\n",
              "}\n",
              "\n",
              "/* On hover */\n",
              "#sk-container-id-1 a.estimator_doc_link:hover {\n",
              "  /* unfitted */\n",
              "  background-color: var(--sklearn-color-unfitted-level-3);\n",
              "  color: var(--sklearn-color-background);\n",
              "  text-decoration: none;\n",
              "}\n",
              "\n",
              "#sk-container-id-1 a.estimator_doc_link.fitted:hover {\n",
              "  /* fitted */\n",
              "  background-color: var(--sklearn-color-fitted-level-3);\n",
              "}\n",
              "</style><div id=\"sk-container-id-1\" class=\"sk-top-container\"><div class=\"sk-text-repr-fallback\"><pre>GridSearchCV(cv=5, estimator=RandomForestClassifier(random_state=42), n_jobs=-1,\n",
              "             param_grid={&#x27;max_depth&#x27;: [None, 10, 20],\n",
              "                         &#x27;min_samples_leaf&#x27;: [1, 2, 4],\n",
              "                         &#x27;min_samples_split&#x27;: [2, 5, 10],\n",
              "                         &#x27;n_estimators&#x27;: [100, 200, 300]},\n",
              "             scoring=&#x27;accuracy&#x27;)</pre><b>In a Jupyter environment, please rerun this cell to show the HTML representation or trust the notebook. <br />On GitHub, the HTML representation is unable to render, please try loading this page with nbviewer.org.</b></div><div class=\"sk-container\" hidden><div class=\"sk-item sk-dashed-wrapped\"><div class=\"sk-label-container\"><div class=\"sk-label fitted sk-toggleable\"><input class=\"sk-toggleable__control sk-hidden--visually\" id=\"sk-estimator-id-1\" type=\"checkbox\" ><label for=\"sk-estimator-id-1\" class=\"sk-toggleable__label fitted sk-toggleable__label-arrow\"><div><div>GridSearchCV</div></div><div><a class=\"sk-estimator-doc-link fitted\" rel=\"noreferrer\" target=\"_blank\" href=\"https://scikit-learn.org/1.6/modules/generated/sklearn.model_selection.GridSearchCV.html\">?<span>Documentation for GridSearchCV</span></a><span class=\"sk-estimator-doc-link fitted\">i<span>Fitted</span></span></div></label><div class=\"sk-toggleable__content fitted\"><pre>GridSearchCV(cv=5, estimator=RandomForestClassifier(random_state=42), n_jobs=-1,\n",
              "             param_grid={&#x27;max_depth&#x27;: [None, 10, 20],\n",
              "                         &#x27;min_samples_leaf&#x27;: [1, 2, 4],\n",
              "                         &#x27;min_samples_split&#x27;: [2, 5, 10],\n",
              "                         &#x27;n_estimators&#x27;: [100, 200, 300]},\n",
              "             scoring=&#x27;accuracy&#x27;)</pre></div> </div></div><div class=\"sk-parallel\"><div class=\"sk-parallel-item\"><div class=\"sk-item\"><div class=\"sk-label-container\"><div class=\"sk-label fitted sk-toggleable\"><input class=\"sk-toggleable__control sk-hidden--visually\" id=\"sk-estimator-id-2\" type=\"checkbox\" ><label for=\"sk-estimator-id-2\" class=\"sk-toggleable__label fitted sk-toggleable__label-arrow\"><div><div>best_estimator_: RandomForestClassifier</div></div></label><div class=\"sk-toggleable__content fitted\"><pre>RandomForestClassifier(min_samples_leaf=4, random_state=42)</pre></div> </div></div><div class=\"sk-serial\"><div class=\"sk-item\"><div class=\"sk-estimator fitted sk-toggleable\"><input class=\"sk-toggleable__control sk-hidden--visually\" id=\"sk-estimator-id-3\" type=\"checkbox\" ><label for=\"sk-estimator-id-3\" class=\"sk-toggleable__label fitted sk-toggleable__label-arrow\"><div><div>RandomForestClassifier</div></div><div><a class=\"sk-estimator-doc-link fitted\" rel=\"noreferrer\" target=\"_blank\" href=\"https://scikit-learn.org/1.6/modules/generated/sklearn.ensemble.RandomForestClassifier.html\">?<span>Documentation for RandomForestClassifier</span></a></div></label><div class=\"sk-toggleable__content fitted\"><pre>RandomForestClassifier(min_samples_leaf=4, random_state=42)</pre></div> </div></div></div></div></div></div></div></div></div>"
            ]
          },
          "metadata": {},
          "execution_count": 32
        }
      ]
    },
    {
      "cell_type": "code",
      "source": [
        "#Get Best Model and Evaluate:\n",
        "best_model = grid_search.best_estimator_\n",
        "y_pred_val = best_model.predict(X_val)\n",
        "accuracy_val = accuracy_score(y_val, y_pred_val)\n",
        "print(\"Validation Accuracy:\", accuracy_val)"
      ],
      "metadata": {
        "colab": {
          "base_uri": "https://localhost:8080/"
        },
        "id": "7mzJ0zFs5gPB",
        "outputId": "2d8880a3-54d7-433b-cfd2-6101b57389b2"
      },
      "execution_count": null,
      "outputs": [
        {
          "output_type": "stream",
          "name": "stdout",
          "text": [
            "Validation Accuracy: 0.4666666666666667\n"
          ]
        }
      ]
    },
    {
      "cell_type": "code",
      "source": [
        "#Evaluate on Test Set:\n",
        "y_pred_test = best_model.predict(X_test)\n",
        "accuracy_test = accuracy_score(y_test, y_pred_test)\n",
        "print(\"Test Accuracy:\", accuracy_test)"
      ],
      "metadata": {
        "colab": {
          "base_uri": "https://localhost:8080/"
        },
        "id": "M3FziqYf5nRU",
        "outputId": "8eae2038-184c-462d-d0b4-ba94fc85e34f"
      },
      "execution_count": null,
      "outputs": [
        {
          "output_type": "stream",
          "name": "stdout",
          "text": [
            "Test Accuracy: 0.7333333333333333\n"
          ]
        }
      ]
    },
    {
      "cell_type": "code",
      "source": [
        "print(flight_data)"
      ],
      "metadata": {
        "colab": {
          "base_uri": "https://localhost:8080/"
        },
        "id": "iFXcAk_T-psg",
        "outputId": "2f17961c-6209-4afa-ee9b-499aef9d7b32"
      },
      "execution_count": null,
      "outputs": [
        {
          "output_type": "stream",
          "name": "stdout",
          "text": [
            "   flight_date                                          departure  \\\n",
            "0   2025-03-24  {'airport': 'London City Airport', 'timezone':...   \n",
            "1   2025-03-24  {'airport': 'Leonardo Da Vinci (Fiumicino)', '...   \n",
            "2   2025-03-24  {'airport': 'Leonardo Da Vinci (Fiumicino)', '...   \n",
            "3   2025-03-24  {'airport': 'Queen Alia International', 'timez...   \n",
            "4   2025-03-24  {'airport': 'Eglinton (City of Derry)', 'timez...   \n",
            "..         ...                                                ...   \n",
            "95  2025-03-24  {'airport': 'Dyce', 'timezone': 'Europe/London...   \n",
            "96  2025-03-24  {'airport': 'Dyce', 'timezone': 'Europe/London...   \n",
            "97  2025-03-24  {'airport': 'Dyce', 'timezone': 'Europe/London...   \n",
            "98  2025-03-24  {'airport': 'Perth International', 'timezone':...   \n",
            "99  2025-03-24  {'airport': 'Edinburgh', 'timezone': 'Europe/L...   \n",
            "\n",
            "                                              arrival  \\\n",
            "0   {'airport': 'Peretola', 'timezone': 'Europe/Ro...   \n",
            "1   {'airport': 'Heathrow', 'timezone': 'Europe/Lo...   \n",
            "2   {'airport': 'Heathrow', 'timezone': 'Europe/Lo...   \n",
            "3   {'airport': 'Heathrow', 'timezone': 'Europe/Lo...   \n",
            "4   {'airport': 'Heathrow', 'timezone': 'Europe/Lo...   \n",
            "..                                                ...   \n",
            "95  {'airport': 'Manchester Airport', 'timezone': ...   \n",
            "96  {'airport': 'Sumburgh', 'timezone': 'Europe/Lo...   \n",
            "97  {'airport': 'Birmingham Airport', 'timezone': ...   \n",
            "98  {'airport': 'Singapore Changi', 'timezone': 'A...   \n",
            "99  {'airport': 'London City Airport', 'timezone':...   \n",
            "\n",
            "                                              airline  \\\n",
            "0   {'name': 'British Airways', 'iata': 'BA', 'ica...   \n",
            "1   {'name': 'British Airways', 'iata': 'BA', 'ica...   \n",
            "2   {'name': 'British Airways', 'iata': 'BA', 'ica...   \n",
            "3   {'name': 'British Airways', 'iata': 'BA', 'ica...   \n",
            "4   {'name': 'British Airways', 'iata': 'BA', 'ica...   \n",
            "..                                                ...   \n",
            "95  {'name': 'British Airways', 'iata': 'BA', 'ica...   \n",
            "96  {'name': 'British Airways', 'iata': 'BA', 'ica...   \n",
            "97  {'name': 'British Airways', 'iata': 'BA', 'ica...   \n",
            "98  {'name': 'British Airways', 'iata': 'BA', 'ica...   \n",
            "99  {'name': 'British Airways', 'iata': 'BA', 'ica...   \n",
            "\n",
            "                                               flight  \\\n",
            "0   {'number': None, 'iata': 'BA', 'icao': 'BAW', ...   \n",
            "1   {'number': '551', 'iata': 'BA551', 'icao': 'BA...   \n",
            "2   {'number': '539', 'iata': 'BA539', 'icao': 'BA...   \n",
            "3   {'number': '313', 'iata': 'BA313', 'icao': 'BA...   \n",
            "4   {'number': '4001', 'iata': 'BA4001', 'icao': '...   \n",
            "..                                                ...   \n",
            "95  {'number': '7821', 'iata': 'BA7821', 'icao': '...   \n",
            "96  {'number': '4070', 'iata': 'BA4070', 'icao': '...   \n",
            "97  {'number': '7831', 'iata': 'BA7831', 'icao': '...   \n",
            "98  {'number': '7405', 'iata': 'BA7405', 'icao': '...   \n",
            "99  {'number': '8711', 'iata': 'BA8711', 'icao': '...   \n",
            "\n",
            "                                             aircraft live  departure_hour  \\\n",
            "0                                                   0    0               8   \n",
            "1   {'registration': 'G-DBCB', 'iata': 'A319', 'ic...    0               7   \n",
            "2   {'registration': 'G-EUYC', 'iata': 'A320', 'ic...    0               7   \n",
            "3   {'registration': 'G-TTNY', 'iata': 'A20N', 'ic...    0               9   \n",
            "4                                                   0    0               6   \n",
            "..                                                ...  ...             ...   \n",
            "95                                                  0    0               6   \n",
            "96                                                  0    0               6   \n",
            "97                                                  0    0               6   \n",
            "98                                                  0    0              12   \n",
            "99  {'registration': 'G-LCAG', 'iata': 'E190', 'ic...    0               7   \n",
            "\n",
            "   flight_distance  flight_duration  ...  date_y  temperature_y wind_speed_y  \\\n",
            "0             None              NaN  ...     NaN            NaN          NaN   \n",
            "1             None              NaN  ...     NaN            NaN          NaN   \n",
            "2             None              NaN  ...     NaN            NaN          NaN   \n",
            "3             None              NaN  ...     NaN            NaN          NaN   \n",
            "4             None              NaN  ...     NaN            NaN          NaN   \n",
            "..             ...              ...  ...     ...            ...          ...   \n",
            "95            None              NaN  ...     NaN            NaN          NaN   \n",
            "96            None              NaN  ...     NaN            NaN          NaN   \n",
            "97            None              NaN  ...     NaN            NaN          NaN   \n",
            "98            None              NaN  ...     NaN            NaN          NaN   \n",
            "99            None              NaN  ...     NaN            NaN          NaN   \n",
            "\n",
            "   precipitation_y airport  date  temperature  wind_speed  precipitation  \\\n",
            "0              NaN     NaN   NaN          NaN         NaN            NaN   \n",
            "1              NaN     NaN   NaN          NaN         NaN            NaN   \n",
            "2              NaN     NaN   NaN          NaN         NaN            NaN   \n",
            "3              NaN     NaN   NaN          NaN         NaN            NaN   \n",
            "4              NaN     NaN   NaN          NaN         NaN            NaN   \n",
            "..             ...     ...   ...          ...         ...            ...   \n",
            "95             NaN     NaN   NaN          NaN         NaN            NaN   \n",
            "96             NaN     NaN   NaN          NaN         NaN            NaN   \n",
            "97             NaN     NaN   NaN          NaN         NaN            NaN   \n",
            "98             NaN     NaN   NaN          NaN         NaN            NaN   \n",
            "99             NaN     NaN   NaN          NaN         NaN            NaN   \n",
            "\n",
            "   flight_number  \n",
            "0              0  \n",
            "1              1  \n",
            "2              2  \n",
            "3              3  \n",
            "4              4  \n",
            "..           ...  \n",
            "95            95  \n",
            "96            96  \n",
            "97            97  \n",
            "98            98  \n",
            "99            99  \n",
            "\n",
            "[100 rows x 36 columns]\n"
          ]
        }
      ]
    },
    {
      "cell_type": "code",
      "source": [
        "flight_data['wind_speed'].fillna(flight_data['wind_speed'].mean(), inplace=True)\n",
        "flight_data['precipitation'].fillna(flight_data['precipitation'].mean(), inplace=True)"
      ],
      "metadata": {
        "colab": {
          "base_uri": "https://localhost:8080/"
        },
        "id": "Ei3WxJ85_ID4",
        "outputId": "0df68170-6898-4cf3-a201-846af5e42d4d"
      },
      "execution_count": null,
      "outputs": [
        {
          "output_type": "stream",
          "name": "stderr",
          "text": [
            "<ipython-input-43-bd9c80e00fe1>:1: FutureWarning: A value is trying to be set on a copy of a DataFrame or Series through chained assignment using an inplace method.\n",
            "The behavior will change in pandas 3.0. This inplace method will never work because the intermediate object on which we are setting values always behaves as a copy.\n",
            "\n",
            "For example, when doing 'df[col].method(value, inplace=True)', try using 'df.method({col: value}, inplace=True)' or df[col] = df[col].method(value) instead, to perform the operation inplace on the original object.\n",
            "\n",
            "\n",
            "  flight_data['wind_speed'].fillna(flight_data['wind_speed'].mean(), inplace=True)\n",
            "<ipython-input-43-bd9c80e00fe1>:2: FutureWarning: A value is trying to be set on a copy of a DataFrame or Series through chained assignment using an inplace method.\n",
            "The behavior will change in pandas 3.0. This inplace method will never work because the intermediate object on which we are setting values always behaves as a copy.\n",
            "\n",
            "For example, when doing 'df[col].method(value, inplace=True)', try using 'df.method({col: value}, inplace=True)' or df[col] = df[col].method(value) instead, to perform the operation inplace on the original object.\n",
            "\n",
            "\n",
            "  flight_data['precipitation'].fillna(flight_data['precipitation'].mean(), inplace=True)\n"
          ]
        }
      ]
    },
    {
      "cell_type": "code",
      "source": [
        "# 1. Weather Data (Illustrative - replace with actual weather data integration)\n",
        "# Assuming you have weather data in a separate DataFrame called 'weather_data'\n",
        "# with columns like 'airport', 'date', 'temperature', 'wind_speed', 'precipitation'\n",
        "flight_data['departure_date'] = pd.to_datetime(flight_data['departure'].apply(lambda x: x.get('estimated', None))).dt.date\n",
        "\n",
        "# Create a sample weather_data DataFrame (replace with your actual data)\n",
        "weather_data = pd.DataFrame({\n",
        "    'airport': ['JFK', 'LHR', 'SFO'],  # Example airport codes\n",
        "    'date': [pd.to_datetime('2023-11-15').date(), pd.to_datetime('2023-11-16').date(), pd.to_datetime('2023-11-17').date()],  # Example dates\n",
        "    'temperature': [20, 15, 25],  # Example temperatures\n",
        "    'wind_speed': [10, 15, 5],  # Example wind speeds\n",
        "    'precipitation': [0, 1, 0]  # Example precipitation values\n",
        "})\n",
        "\n",
        "# Specify suffixes to avoid duplicate column names\n",
        "for col in ['wind_speed', 'temperature', 'precipitation', 'date', 'airport']:\n",
        "    if col in flight_data.columns:\n",
        "        flight_data.rename(columns={col: col + '_flight'}, inplace=True)  # Rename existing columns\n",
        "\n",
        "flight_data = pd.merge(flight_data, weather_data,\n",
        "                      left_on=['departure_airport', 'departure_date'],\n",
        "                      right_on=['airport', 'date'],\n",
        "                      how='left',\n",
        "                      suffixes=('_flight', '_weather')) # Add suffixes to distinguish columns\n",
        "# 2. Aircraft Type (Illustrative - replace with actual aircraft type data)\n",
        "# Assuming you have aircraft type data in a separate DataFrame called 'aircraft_data'\n",
        "# with columns like 'flight_number', 'aircraft_type'\n",
        "# ----> Create a sample aircraft_data DataFrame (replace with your actual data)\n",
        "\n",
        "# Check if 'flight_number' column exists, if not, create a dummy one\n",
        "# Check if 'flight_number' column exists, if not, create a dummy one\n",
        "if 'flight_number' not in flight_data.columns:\n",
        "    flight_data['flight_number'] = flight_data.index  # Assign unique index values\n",
        "\n",
        "# Ensure 'aircraft_type' list length matches 'flight_number' length\n",
        "num_flights = len(flight_data['flight_number'].unique())\n",
        "aircraft_types = ['Boeing 777', 'Airbus A380', 'Boeing 787']  # Example aircraft types\n",
        "aircraft_type_column = aircraft_types * (num_flights // len(aircraft_types)) + aircraft_types[:num_flights % len(aircraft_types)]\n",
        "\n",
        "aircraft_data = pd.DataFrame({\n",
        "    'flight_number': flight_data['flight_number'].unique(), # Using unique flight numbers from flight_data\n",
        "    'aircraft_type': aircraft_type_column # Assigning the correctly sized list\n",
        "})\n",
        "\n",
        "flight_data = pd.merge(flight_data, aircraft_data, on='flight_number', how='left')\n",
        "\n",
        "\n",
        "\n",
        "# 3. Airport Delays (Illustrative - replace with actual airport delay data)\n",
        "# Assuming you have airport delay data in a separate DataFrame called 'airport_delay_data'\n",
        "# with columns like 'airport', 'date', 'average_delay'\n",
        "# ----> Create a sample airport_delay_data DataFrame (replace with your actual data)\n",
        "airport_delay_data = pd.DataFrame({\n",
        "    'airport': ['JFK', 'LHR', 'SFO'],  # Example airport codes\n",
        "    'date': [pd.to_datetime('2023-11-15').date(), pd.to_datetime('2023-11-16').date(), pd.to_datetime('2023-11-17').date()],  # Example dates\n",
        "    'average_delay': [15, 30, 10]  # Example average delays in minutes\n",
        "})\n",
        "\n",
        "# Rename columns in airport_delay_data before merging to avoid conflicts\n",
        "airport_delay_data.rename(columns={'airport': 'departure_airport', 'date': 'departure_date'}, inplace=True)\n",
        "\n",
        "# Now perform the merge\n",
        "flight_data = pd.merge(flight_data, airport_delay_data, on=['departure_airport', 'departure_date'], how='left')\n",
        "# 4. Holidays and Special Events (Illustrative - replace with actual data)\n",
        "# Create a function to check if a date is a holiday or special event\n",
        "def is_holiday(date):\n",
        "    # Replace with your logic to check for holidays/events\n",
        "    # ...\n",
        "    return True  # Replace with True/False\n",
        "\n",
        "flight_data['is_holiday'] = flight_data['departure_date'].apply(is_holiday)\n",
        "\n",
        "# 5. Time-Based Features\n",
        "flight_data['departure_time_seconds'] = pd.to_datetime(flight_data['departure'].apply(lambda x: x.get('estimated', None))).dt.hour * 3600 + \\\n",
        "                                       pd.to_datetime(flight_data['departure'].apply(lambda x: x.get('estimated', None))).dt.minute * 60 + \\\n",
        "                                       pd.to_datetime(flight_data['departure'].apply(lambda x: x.get('estimated', None))).dt.second"
      ],
      "metadata": {
        "id": "ivnP0t8z-VLG"
      },
      "execution_count": null,
      "outputs": []
    },
    {
      "cell_type": "code",
      "source": [
        "# Print the updated flight_data DataFrame\n",
        "print(flight_data)"
      ],
      "metadata": {
        "colab": {
          "base_uri": "https://localhost:8080/"
        },
        "id": "yn3CqkEzBP2N",
        "outputId": "1ab558a6-152d-4fb6-f80a-1e8bb8bd973d"
      },
      "execution_count": null,
      "outputs": [
        {
          "output_type": "stream",
          "name": "stdout",
          "text": [
            "   flight_date                                          departure  \\\n",
            "0   2025-03-24  {'airport': 'London City Airport', 'timezone':...   \n",
            "1   2025-03-24  {'airport': 'Leonardo Da Vinci (Fiumicino)', '...   \n",
            "2   2025-03-24  {'airport': 'Leonardo Da Vinci (Fiumicino)', '...   \n",
            "3   2025-03-24  {'airport': 'Queen Alia International', 'timez...   \n",
            "4   2025-03-24  {'airport': 'Eglinton (City of Derry)', 'timez...   \n",
            "..         ...                                                ...   \n",
            "95  2025-03-24  {'airport': 'Dyce', 'timezone': 'Europe/London...   \n",
            "96  2025-03-24  {'airport': 'Dyce', 'timezone': 'Europe/London...   \n",
            "97  2025-03-24  {'airport': 'Dyce', 'timezone': 'Europe/London...   \n",
            "98  2025-03-24  {'airport': 'Perth International', 'timezone':...   \n",
            "99  2025-03-24  {'airport': 'Edinburgh', 'timezone': 'Europe/L...   \n",
            "\n",
            "                                              arrival  \\\n",
            "0   {'airport': 'Peretola', 'timezone': 'Europe/Ro...   \n",
            "1   {'airport': 'Heathrow', 'timezone': 'Europe/Lo...   \n",
            "2   {'airport': 'Heathrow', 'timezone': 'Europe/Lo...   \n",
            "3   {'airport': 'Heathrow', 'timezone': 'Europe/Lo...   \n",
            "4   {'airport': 'Heathrow', 'timezone': 'Europe/Lo...   \n",
            "..                                                ...   \n",
            "95  {'airport': 'Manchester Airport', 'timezone': ...   \n",
            "96  {'airport': 'Sumburgh', 'timezone': 'Europe/Lo...   \n",
            "97  {'airport': 'Birmingham Airport', 'timezone': ...   \n",
            "98  {'airport': 'Singapore Changi', 'timezone': 'A...   \n",
            "99  {'airport': 'London City Airport', 'timezone':...   \n",
            "\n",
            "                                              airline  \\\n",
            "0   {'name': 'British Airways', 'iata': 'BA', 'ica...   \n",
            "1   {'name': 'British Airways', 'iata': 'BA', 'ica...   \n",
            "2   {'name': 'British Airways', 'iata': 'BA', 'ica...   \n",
            "3   {'name': 'British Airways', 'iata': 'BA', 'ica...   \n",
            "4   {'name': 'British Airways', 'iata': 'BA', 'ica...   \n",
            "..                                                ...   \n",
            "95  {'name': 'British Airways', 'iata': 'BA', 'ica...   \n",
            "96  {'name': 'British Airways', 'iata': 'BA', 'ica...   \n",
            "97  {'name': 'British Airways', 'iata': 'BA', 'ica...   \n",
            "98  {'name': 'British Airways', 'iata': 'BA', 'ica...   \n",
            "99  {'name': 'British Airways', 'iata': 'BA', 'ica...   \n",
            "\n",
            "                                               flight  \\\n",
            "0   {'number': None, 'iata': 'BA', 'icao': 'BAW', ...   \n",
            "1   {'number': '551', 'iata': 'BA551', 'icao': 'BA...   \n",
            "2   {'number': '539', 'iata': 'BA539', 'icao': 'BA...   \n",
            "3   {'number': '313', 'iata': 'BA313', 'icao': 'BA...   \n",
            "4   {'number': '4001', 'iata': 'BA4001', 'icao': '...   \n",
            "..                                                ...   \n",
            "95  {'number': '7821', 'iata': 'BA7821', 'icao': '...   \n",
            "96  {'number': '4070', 'iata': 'BA4070', 'icao': '...   \n",
            "97  {'number': '7831', 'iata': 'BA7831', 'icao': '...   \n",
            "98  {'number': '7405', 'iata': 'BA7405', 'icao': '...   \n",
            "99  {'number': '8711', 'iata': 'BA8711', 'icao': '...   \n",
            "\n",
            "                                             aircraft live  departure_hour  \\\n",
            "0                                                   0    0               8   \n",
            "1   {'registration': 'G-DBCB', 'iata': 'A319', 'ic...    0               7   \n",
            "2   {'registration': 'G-EUYC', 'iata': 'A320', 'ic...    0               7   \n",
            "3   {'registration': 'G-TTNY', 'iata': 'A20N', 'ic...    0               9   \n",
            "4                                                   0    0               6   \n",
            "..                                                ...  ...             ...   \n",
            "95                                                  0    0               6   \n",
            "96                                                  0    0               6   \n",
            "97                                                  0    0               6   \n",
            "98                                                  0    0              12   \n",
            "99  {'registration': 'G-LCAG', 'iata': 'E190', 'ic...    0               7   \n",
            "\n",
            "   flight_distance  flight_duration  ...  average_delay_x  is_holiday  \\\n",
            "0             None              NaN  ...              NaN        True   \n",
            "1             None              NaN  ...              NaN        True   \n",
            "2             None              NaN  ...              NaN        True   \n",
            "3             None              NaN  ...              NaN        True   \n",
            "4             None              NaN  ...              NaN        True   \n",
            "..             ...              ...  ...              ...         ...   \n",
            "95            None              NaN  ...              NaN        True   \n",
            "96            None              NaN  ...              NaN        True   \n",
            "97            None              NaN  ...              NaN        True   \n",
            "98            None              NaN  ...              NaN        True   \n",
            "99            None              NaN  ...              NaN        True   \n",
            "\n",
            "   departure_time_seconds airport date  temperature  wind_speed  \\\n",
            "0                   31800     NaN  NaN          NaN         NaN   \n",
            "1                   28200     NaN  NaN          NaN         NaN   \n",
            "2                   27900     NaN  NaN          NaN         NaN   \n",
            "3                   33000     NaN  NaN          NaN         NaN   \n",
            "4                   23400     NaN  NaN          NaN         NaN   \n",
            "..                    ...     ...  ...          ...         ...   \n",
            "95                  24000     NaN  NaN          NaN         NaN   \n",
            "96                  23700     NaN  NaN          NaN         NaN   \n",
            "97                  23700     NaN  NaN          NaN         NaN   \n",
            "98                  44700     NaN  NaN          NaN         NaN   \n",
            "99                  25200     NaN  NaN          NaN         NaN   \n",
            "\n",
            "    precipitation  aircraft_type average_delay_y  \n",
            "0             NaN     Boeing 777             NaN  \n",
            "1             NaN    Airbus A380             NaN  \n",
            "2             NaN     Boeing 787             NaN  \n",
            "3             NaN     Boeing 777             NaN  \n",
            "4             NaN    Airbus A380             NaN  \n",
            "..            ...            ...             ...  \n",
            "95            NaN     Boeing 787             NaN  \n",
            "96            NaN     Boeing 777             NaN  \n",
            "97            NaN    Airbus A380             NaN  \n",
            "98            NaN     Boeing 787             NaN  \n",
            "99            NaN     Boeing 777             NaN  \n",
            "\n",
            "[100 rows x 68 columns]\n"
          ]
        }
      ]
    },
    {
      "cell_type": "code",
      "source": [
        "# Calculate the mean wind speed before the merge (to avoid bias from imputed values)\n",
        "mean_wind_speed = weather_data['wind_speed'].mean()\n",
        "\n",
        "# Impute missing values in the 'wind_speed' column after the merge\n",
        "flight_data['wind_speed'].fillna(mean_wind_speed, inplace=True)\n",
        "\n",
        "# Print the updated flight_data DataFrame\n",
        "print(flight_data)"
      ],
      "metadata": {
        "colab": {
          "base_uri": "https://localhost:8080/"
        },
        "id": "rj_dlazZBeki",
        "outputId": "2b42f6ea-2dca-4e77-88a0-44fb6c161610"
      },
      "execution_count": null,
      "outputs": [
        {
          "output_type": "stream",
          "name": "stdout",
          "text": [
            "   flight_date                                          departure  \\\n",
            "0   2025-03-24  {'airport': 'London City Airport', 'timezone':...   \n",
            "1   2025-03-24  {'airport': 'Leonardo Da Vinci (Fiumicino)', '...   \n",
            "2   2025-03-24  {'airport': 'Leonardo Da Vinci (Fiumicino)', '...   \n",
            "3   2025-03-24  {'airport': 'Queen Alia International', 'timez...   \n",
            "4   2025-03-24  {'airport': 'Eglinton (City of Derry)', 'timez...   \n",
            "..         ...                                                ...   \n",
            "95  2025-03-24  {'airport': 'Dyce', 'timezone': 'Europe/London...   \n",
            "96  2025-03-24  {'airport': 'Dyce', 'timezone': 'Europe/London...   \n",
            "97  2025-03-24  {'airport': 'Dyce', 'timezone': 'Europe/London...   \n",
            "98  2025-03-24  {'airport': 'Perth International', 'timezone':...   \n",
            "99  2025-03-24  {'airport': 'Edinburgh', 'timezone': 'Europe/L...   \n",
            "\n",
            "                                              arrival  \\\n",
            "0   {'airport': 'Peretola', 'timezone': 'Europe/Ro...   \n",
            "1   {'airport': 'Heathrow', 'timezone': 'Europe/Lo...   \n",
            "2   {'airport': 'Heathrow', 'timezone': 'Europe/Lo...   \n",
            "3   {'airport': 'Heathrow', 'timezone': 'Europe/Lo...   \n",
            "4   {'airport': 'Heathrow', 'timezone': 'Europe/Lo...   \n",
            "..                                                ...   \n",
            "95  {'airport': 'Manchester Airport', 'timezone': ...   \n",
            "96  {'airport': 'Sumburgh', 'timezone': 'Europe/Lo...   \n",
            "97  {'airport': 'Birmingham Airport', 'timezone': ...   \n",
            "98  {'airport': 'Singapore Changi', 'timezone': 'A...   \n",
            "99  {'airport': 'London City Airport', 'timezone':...   \n",
            "\n",
            "                                              airline  \\\n",
            "0   {'name': 'British Airways', 'iata': 'BA', 'ica...   \n",
            "1   {'name': 'British Airways', 'iata': 'BA', 'ica...   \n",
            "2   {'name': 'British Airways', 'iata': 'BA', 'ica...   \n",
            "3   {'name': 'British Airways', 'iata': 'BA', 'ica...   \n",
            "4   {'name': 'British Airways', 'iata': 'BA', 'ica...   \n",
            "..                                                ...   \n",
            "95  {'name': 'British Airways', 'iata': 'BA', 'ica...   \n",
            "96  {'name': 'British Airways', 'iata': 'BA', 'ica...   \n",
            "97  {'name': 'British Airways', 'iata': 'BA', 'ica...   \n",
            "98  {'name': 'British Airways', 'iata': 'BA', 'ica...   \n",
            "99  {'name': 'British Airways', 'iata': 'BA', 'ica...   \n",
            "\n",
            "                                               flight  \\\n",
            "0   {'number': None, 'iata': 'BA', 'icao': 'BAW', ...   \n",
            "1   {'number': '551', 'iata': 'BA551', 'icao': 'BA...   \n",
            "2   {'number': '539', 'iata': 'BA539', 'icao': 'BA...   \n",
            "3   {'number': '313', 'iata': 'BA313', 'icao': 'BA...   \n",
            "4   {'number': '4001', 'iata': 'BA4001', 'icao': '...   \n",
            "..                                                ...   \n",
            "95  {'number': '7821', 'iata': 'BA7821', 'icao': '...   \n",
            "96  {'number': '4070', 'iata': 'BA4070', 'icao': '...   \n",
            "97  {'number': '7831', 'iata': 'BA7831', 'icao': '...   \n",
            "98  {'number': '7405', 'iata': 'BA7405', 'icao': '...   \n",
            "99  {'number': '8711', 'iata': 'BA8711', 'icao': '...   \n",
            "\n",
            "                                             aircraft live  departure_hour  \\\n",
            "0                                                   0    0               8   \n",
            "1   {'registration': 'G-DBCB', 'iata': 'A319', 'ic...    0               7   \n",
            "2   {'registration': 'G-EUYC', 'iata': 'A320', 'ic...    0               7   \n",
            "3   {'registration': 'G-TTNY', 'iata': 'A20N', 'ic...    0               9   \n",
            "4                                                   0    0               6   \n",
            "..                                                ...  ...             ...   \n",
            "95                                                  0    0               6   \n",
            "96                                                  0    0               6   \n",
            "97                                                  0    0               6   \n",
            "98                                                  0    0              12   \n",
            "99  {'registration': 'G-LCAG', 'iata': 'E190', 'ic...    0               7   \n",
            "\n",
            "   flight_distance  flight_duration  ...  average_delay_x  is_holiday  \\\n",
            "0             None              NaN  ...              NaN        True   \n",
            "1             None              NaN  ...              NaN        True   \n",
            "2             None              NaN  ...              NaN        True   \n",
            "3             None              NaN  ...              NaN        True   \n",
            "4             None              NaN  ...              NaN        True   \n",
            "..             ...              ...  ...              ...         ...   \n",
            "95            None              NaN  ...              NaN        True   \n",
            "96            None              NaN  ...              NaN        True   \n",
            "97            None              NaN  ...              NaN        True   \n",
            "98            None              NaN  ...              NaN        True   \n",
            "99            None              NaN  ...              NaN        True   \n",
            "\n",
            "   departure_time_seconds airport date  temperature  wind_speed  \\\n",
            "0                   31800     NaN  NaN          NaN        10.0   \n",
            "1                   28200     NaN  NaN          NaN        10.0   \n",
            "2                   27900     NaN  NaN          NaN        10.0   \n",
            "3                   33000     NaN  NaN          NaN        10.0   \n",
            "4                   23400     NaN  NaN          NaN        10.0   \n",
            "..                    ...     ...  ...          ...         ...   \n",
            "95                  24000     NaN  NaN          NaN        10.0   \n",
            "96                  23700     NaN  NaN          NaN        10.0   \n",
            "97                  23700     NaN  NaN          NaN        10.0   \n",
            "98                  44700     NaN  NaN          NaN        10.0   \n",
            "99                  25200     NaN  NaN          NaN        10.0   \n",
            "\n",
            "    precipitation  aircraft_type average_delay_y  \n",
            "0             NaN     Boeing 777             NaN  \n",
            "1             NaN    Airbus A380             NaN  \n",
            "2             NaN     Boeing 787             NaN  \n",
            "3             NaN     Boeing 777             NaN  \n",
            "4             NaN    Airbus A380             NaN  \n",
            "..            ...            ...             ...  \n",
            "95            NaN     Boeing 787             NaN  \n",
            "96            NaN     Boeing 777             NaN  \n",
            "97            NaN    Airbus A380             NaN  \n",
            "98            NaN     Boeing 787             NaN  \n",
            "99            NaN     Boeing 777             NaN  \n",
            "\n",
            "[100 rows x 68 columns]\n"
          ]
        },
        {
          "output_type": "stream",
          "name": "stderr",
          "text": [
            "<ipython-input-55-904ebd33304c>:5: FutureWarning: A value is trying to be set on a copy of a DataFrame or Series through chained assignment using an inplace method.\n",
            "The behavior will change in pandas 3.0. This inplace method will never work because the intermediate object on which we are setting values always behaves as a copy.\n",
            "\n",
            "For example, when doing 'df[col].method(value, inplace=True)', try using 'df.method({col: value}, inplace=True)' or df[col] = df[col].method(value) instead, to perform the operation inplace on the original object.\n",
            "\n",
            "\n",
            "  flight_data['wind_speed'].fillna(mean_wind_speed, inplace=True)\n"
          ]
        }
      ]
    },
    {
      "cell_type": "code",
      "source": [
        "# Calculate the mean wind speed before the merge (to avoid bias from imputed values)\n",
        "mean_wind_speed = weather_data['temperature'].mean()\n",
        "\n",
        "# Impute missing values in the 'wind_speed' column after the merge\n",
        "flight_data['temperature'].fillna(mean_wind_speed, inplace=True)\n",
        "\n",
        "# Print the updated flight_data DataFrame\n",
        "print(flight_data)"
      ],
      "metadata": {
        "colab": {
          "base_uri": "https://localhost:8080/"
        },
        "id": "q9A-j8KfBof5",
        "outputId": "7e075e37-50a9-45b4-ea87-a34044a49609"
      },
      "execution_count": null,
      "outputs": [
        {
          "output_type": "stream",
          "name": "stdout",
          "text": [
            "   flight_date                                          departure  \\\n",
            "0   2025-03-24  {'airport': 'London City Airport', 'timezone':...   \n",
            "1   2025-03-24  {'airport': 'Leonardo Da Vinci (Fiumicino)', '...   \n",
            "2   2025-03-24  {'airport': 'Leonardo Da Vinci (Fiumicino)', '...   \n",
            "3   2025-03-24  {'airport': 'Queen Alia International', 'timez...   \n",
            "4   2025-03-24  {'airport': 'Eglinton (City of Derry)', 'timez...   \n",
            "..         ...                                                ...   \n",
            "95  2025-03-24  {'airport': 'Dyce', 'timezone': 'Europe/London...   \n",
            "96  2025-03-24  {'airport': 'Dyce', 'timezone': 'Europe/London...   \n",
            "97  2025-03-24  {'airport': 'Dyce', 'timezone': 'Europe/London...   \n",
            "98  2025-03-24  {'airport': 'Perth International', 'timezone':...   \n",
            "99  2025-03-24  {'airport': 'Edinburgh', 'timezone': 'Europe/L...   \n",
            "\n",
            "                                              arrival  \\\n",
            "0   {'airport': 'Peretola', 'timezone': 'Europe/Ro...   \n",
            "1   {'airport': 'Heathrow', 'timezone': 'Europe/Lo...   \n",
            "2   {'airport': 'Heathrow', 'timezone': 'Europe/Lo...   \n",
            "3   {'airport': 'Heathrow', 'timezone': 'Europe/Lo...   \n",
            "4   {'airport': 'Heathrow', 'timezone': 'Europe/Lo...   \n",
            "..                                                ...   \n",
            "95  {'airport': 'Manchester Airport', 'timezone': ...   \n",
            "96  {'airport': 'Sumburgh', 'timezone': 'Europe/Lo...   \n",
            "97  {'airport': 'Birmingham Airport', 'timezone': ...   \n",
            "98  {'airport': 'Singapore Changi', 'timezone': 'A...   \n",
            "99  {'airport': 'London City Airport', 'timezone':...   \n",
            "\n",
            "                                              airline  \\\n",
            "0   {'name': 'British Airways', 'iata': 'BA', 'ica...   \n",
            "1   {'name': 'British Airways', 'iata': 'BA', 'ica...   \n",
            "2   {'name': 'British Airways', 'iata': 'BA', 'ica...   \n",
            "3   {'name': 'British Airways', 'iata': 'BA', 'ica...   \n",
            "4   {'name': 'British Airways', 'iata': 'BA', 'ica...   \n",
            "..                                                ...   \n",
            "95  {'name': 'British Airways', 'iata': 'BA', 'ica...   \n",
            "96  {'name': 'British Airways', 'iata': 'BA', 'ica...   \n",
            "97  {'name': 'British Airways', 'iata': 'BA', 'ica...   \n",
            "98  {'name': 'British Airways', 'iata': 'BA', 'ica...   \n",
            "99  {'name': 'British Airways', 'iata': 'BA', 'ica...   \n",
            "\n",
            "                                               flight  \\\n",
            "0   {'number': None, 'iata': 'BA', 'icao': 'BAW', ...   \n",
            "1   {'number': '551', 'iata': 'BA551', 'icao': 'BA...   \n",
            "2   {'number': '539', 'iata': 'BA539', 'icao': 'BA...   \n",
            "3   {'number': '313', 'iata': 'BA313', 'icao': 'BA...   \n",
            "4   {'number': '4001', 'iata': 'BA4001', 'icao': '...   \n",
            "..                                                ...   \n",
            "95  {'number': '7821', 'iata': 'BA7821', 'icao': '...   \n",
            "96  {'number': '4070', 'iata': 'BA4070', 'icao': '...   \n",
            "97  {'number': '7831', 'iata': 'BA7831', 'icao': '...   \n",
            "98  {'number': '7405', 'iata': 'BA7405', 'icao': '...   \n",
            "99  {'number': '8711', 'iata': 'BA8711', 'icao': '...   \n",
            "\n",
            "                                             aircraft live  departure_hour  \\\n",
            "0                                                   0    0               8   \n",
            "1   {'registration': 'G-DBCB', 'iata': 'A319', 'ic...    0               7   \n",
            "2   {'registration': 'G-EUYC', 'iata': 'A320', 'ic...    0               7   \n",
            "3   {'registration': 'G-TTNY', 'iata': 'A20N', 'ic...    0               9   \n",
            "4                                                   0    0               6   \n",
            "..                                                ...  ...             ...   \n",
            "95                                                  0    0               6   \n",
            "96                                                  0    0               6   \n",
            "97                                                  0    0               6   \n",
            "98                                                  0    0              12   \n",
            "99  {'registration': 'G-LCAG', 'iata': 'E190', 'ic...    0               7   \n",
            "\n",
            "   flight_distance  flight_duration  ...  average_delay_x  is_holiday  \\\n",
            "0             None              NaN  ...              NaN        True   \n",
            "1             None              NaN  ...              NaN        True   \n",
            "2             None              NaN  ...              NaN        True   \n",
            "3             None              NaN  ...              NaN        True   \n",
            "4             None              NaN  ...              NaN        True   \n",
            "..             ...              ...  ...              ...         ...   \n",
            "95            None              NaN  ...              NaN        True   \n",
            "96            None              NaN  ...              NaN        True   \n",
            "97            None              NaN  ...              NaN        True   \n",
            "98            None              NaN  ...              NaN        True   \n",
            "99            None              NaN  ...              NaN        True   \n",
            "\n",
            "   departure_time_seconds airport date  temperature  wind_speed  \\\n",
            "0                   31800     NaN  NaN         20.0        10.0   \n",
            "1                   28200     NaN  NaN         20.0        10.0   \n",
            "2                   27900     NaN  NaN         20.0        10.0   \n",
            "3                   33000     NaN  NaN         20.0        10.0   \n",
            "4                   23400     NaN  NaN         20.0        10.0   \n",
            "..                    ...     ...  ...          ...         ...   \n",
            "95                  24000     NaN  NaN         20.0        10.0   \n",
            "96                  23700     NaN  NaN         20.0        10.0   \n",
            "97                  23700     NaN  NaN         20.0        10.0   \n",
            "98                  44700     NaN  NaN         20.0        10.0   \n",
            "99                  25200     NaN  NaN         20.0        10.0   \n",
            "\n",
            "    precipitation  aircraft_type average_delay_y  \n",
            "0             NaN     Boeing 777             NaN  \n",
            "1             NaN    Airbus A380             NaN  \n",
            "2             NaN     Boeing 787             NaN  \n",
            "3             NaN     Boeing 777             NaN  \n",
            "4             NaN    Airbus A380             NaN  \n",
            "..            ...            ...             ...  \n",
            "95            NaN     Boeing 787             NaN  \n",
            "96            NaN     Boeing 777             NaN  \n",
            "97            NaN    Airbus A380             NaN  \n",
            "98            NaN     Boeing 787             NaN  \n",
            "99            NaN     Boeing 777             NaN  \n",
            "\n",
            "[100 rows x 68 columns]\n"
          ]
        },
        {
          "output_type": "stream",
          "name": "stderr",
          "text": [
            "<ipython-input-56-4cd2cf39a76c>:5: FutureWarning: A value is trying to be set on a copy of a DataFrame or Series through chained assignment using an inplace method.\n",
            "The behavior will change in pandas 3.0. This inplace method will never work because the intermediate object on which we are setting values always behaves as a copy.\n",
            "\n",
            "For example, when doing 'df[col].method(value, inplace=True)', try using 'df.method({col: value}, inplace=True)' or df[col] = df[col].method(value) instead, to perform the operation inplace on the original object.\n",
            "\n",
            "\n",
            "  flight_data['temperature'].fillna(mean_wind_speed, inplace=True)\n"
          ]
        }
      ]
    },
    {
      "cell_type": "code",
      "source": [
        "# Calculate the mean wind speed before the merge (to avoid bias from imputed values)\n",
        "mean_wind_speed = weather_data['precipitation'].mean()\n",
        "\n",
        "# Impute missing values in the 'wind_speed' column after the merge\n",
        "flight_data['precipitation'].fillna(mean_wind_speed, inplace=True)\n",
        "\n",
        "# Print the updated flight_data DataFrame\n",
        "print(flight_data)\n",
        "\n",
        "\n"
      ],
      "metadata": {
        "colab": {
          "base_uri": "https://localhost:8080/"
        },
        "id": "dMAiddPkBwkH",
        "outputId": "e0953c20-32e1-4d06-c7e1-5b06fbb72507"
      },
      "execution_count": null,
      "outputs": [
        {
          "output_type": "stream",
          "name": "stdout",
          "text": [
            "   flight_date                                          departure  \\\n",
            "0   2025-03-24  {'airport': 'London City Airport', 'timezone':...   \n",
            "1   2025-03-24  {'airport': 'Leonardo Da Vinci (Fiumicino)', '...   \n",
            "2   2025-03-24  {'airport': 'Leonardo Da Vinci (Fiumicino)', '...   \n",
            "3   2025-03-24  {'airport': 'Queen Alia International', 'timez...   \n",
            "4   2025-03-24  {'airport': 'Eglinton (City of Derry)', 'timez...   \n",
            "..         ...                                                ...   \n",
            "95  2025-03-24  {'airport': 'Dyce', 'timezone': 'Europe/London...   \n",
            "96  2025-03-24  {'airport': 'Dyce', 'timezone': 'Europe/London...   \n",
            "97  2025-03-24  {'airport': 'Dyce', 'timezone': 'Europe/London...   \n",
            "98  2025-03-24  {'airport': 'Perth International', 'timezone':...   \n",
            "99  2025-03-24  {'airport': 'Edinburgh', 'timezone': 'Europe/L...   \n",
            "\n",
            "                                              arrival  \\\n",
            "0   {'airport': 'Peretola', 'timezone': 'Europe/Ro...   \n",
            "1   {'airport': 'Heathrow', 'timezone': 'Europe/Lo...   \n",
            "2   {'airport': 'Heathrow', 'timezone': 'Europe/Lo...   \n",
            "3   {'airport': 'Heathrow', 'timezone': 'Europe/Lo...   \n",
            "4   {'airport': 'Heathrow', 'timezone': 'Europe/Lo...   \n",
            "..                                                ...   \n",
            "95  {'airport': 'Manchester Airport', 'timezone': ...   \n",
            "96  {'airport': 'Sumburgh', 'timezone': 'Europe/Lo...   \n",
            "97  {'airport': 'Birmingham Airport', 'timezone': ...   \n",
            "98  {'airport': 'Singapore Changi', 'timezone': 'A...   \n",
            "99  {'airport': 'London City Airport', 'timezone':...   \n",
            "\n",
            "                                              airline  \\\n",
            "0   {'name': 'British Airways', 'iata': 'BA', 'ica...   \n",
            "1   {'name': 'British Airways', 'iata': 'BA', 'ica...   \n",
            "2   {'name': 'British Airways', 'iata': 'BA', 'ica...   \n",
            "3   {'name': 'British Airways', 'iata': 'BA', 'ica...   \n",
            "4   {'name': 'British Airways', 'iata': 'BA', 'ica...   \n",
            "..                                                ...   \n",
            "95  {'name': 'British Airways', 'iata': 'BA', 'ica...   \n",
            "96  {'name': 'British Airways', 'iata': 'BA', 'ica...   \n",
            "97  {'name': 'British Airways', 'iata': 'BA', 'ica...   \n",
            "98  {'name': 'British Airways', 'iata': 'BA', 'ica...   \n",
            "99  {'name': 'British Airways', 'iata': 'BA', 'ica...   \n",
            "\n",
            "                                               flight  \\\n",
            "0   {'number': None, 'iata': 'BA', 'icao': 'BAW', ...   \n",
            "1   {'number': '551', 'iata': 'BA551', 'icao': 'BA...   \n",
            "2   {'number': '539', 'iata': 'BA539', 'icao': 'BA...   \n",
            "3   {'number': '313', 'iata': 'BA313', 'icao': 'BA...   \n",
            "4   {'number': '4001', 'iata': 'BA4001', 'icao': '...   \n",
            "..                                                ...   \n",
            "95  {'number': '7821', 'iata': 'BA7821', 'icao': '...   \n",
            "96  {'number': '4070', 'iata': 'BA4070', 'icao': '...   \n",
            "97  {'number': '7831', 'iata': 'BA7831', 'icao': '...   \n",
            "98  {'number': '7405', 'iata': 'BA7405', 'icao': '...   \n",
            "99  {'number': '8711', 'iata': 'BA8711', 'icao': '...   \n",
            "\n",
            "                                             aircraft live  departure_hour  \\\n",
            "0                                                   0    0             8.0   \n",
            "1   {'registration': 'G-DBCB', 'iata': 'A319', 'ic...    0             7.0   \n",
            "2   {'registration': 'G-EUYC', 'iata': 'A320', 'ic...    0             7.0   \n",
            "3   {'registration': 'G-TTNY', 'iata': 'A20N', 'ic...    0             9.0   \n",
            "4                                                   0    0             6.0   \n",
            "..                                                ...  ...             ...   \n",
            "95                                                  0    0             6.0   \n",
            "96                                                  0    0             6.0   \n",
            "97                                                  0    0             6.0   \n",
            "98                                                  0    0            12.0   \n",
            "99  {'registration': 'G-LCAG', 'iata': 'E190', 'ic...    0             7.0   \n",
            "\n",
            "    flight_distance  flight_duration  ...  average_delay_x  is_holiday  \\\n",
            "0               NaN              NaN  ...              NaN        True   \n",
            "1               NaN              NaN  ...              NaN        True   \n",
            "2               NaN              NaN  ...              NaN        True   \n",
            "3               NaN              NaN  ...              NaN        True   \n",
            "4               NaN              NaN  ...              NaN        True   \n",
            "..              ...              ...  ...              ...         ...   \n",
            "95              NaN              NaN  ...              NaN        True   \n",
            "96              NaN              NaN  ...              NaN        True   \n",
            "97              NaN              NaN  ...              NaN        True   \n",
            "98              NaN              NaN  ...              NaN        True   \n",
            "99              NaN              NaN  ...              NaN        True   \n",
            "\n",
            "   departure_time_seconds airport date  temperature  wind_speed  \\\n",
            "0                   31800     NaN  NaN         20.0        10.0   \n",
            "1                   28200     NaN  NaN         20.0        10.0   \n",
            "2                   27900     NaN  NaN         20.0        10.0   \n",
            "3                   33000     NaN  NaN         20.0        10.0   \n",
            "4                   23400     NaN  NaN         20.0        10.0   \n",
            "..                    ...     ...  ...          ...         ...   \n",
            "95                  24000     NaN  NaN         20.0        10.0   \n",
            "96                  23700     NaN  NaN         20.0        10.0   \n",
            "97                  23700     NaN  NaN         20.0        10.0   \n",
            "98                  44700     NaN  NaN         20.0        10.0   \n",
            "99                  25200     NaN  NaN         20.0        10.0   \n",
            "\n",
            "    precipitation  aircraft_type average_delay_y  \n",
            "0        0.333333     Boeing 777             NaN  \n",
            "1        0.333333    Airbus A380             NaN  \n",
            "2        0.333333     Boeing 787             NaN  \n",
            "3        0.333333     Boeing 777             NaN  \n",
            "4        0.333333    Airbus A380             NaN  \n",
            "..            ...            ...             ...  \n",
            "95       0.333333     Boeing 787             NaN  \n",
            "96       0.333333     Boeing 777             NaN  \n",
            "97       0.333333    Airbus A380             NaN  \n",
            "98       0.333333     Boeing 787             NaN  \n",
            "99       0.333333     Boeing 777             NaN  \n",
            "\n",
            "[100 rows x 68 columns]\n"
          ]
        }
      ]
    },
    {
      "cell_type": "code",
      "source": [
        "# Example using mean imputation for 'flight_distance'\n",
        "flight_data['flight_distance'].fillna(flight_data['flight_distance'].mean(), inplace=True)\n",
        "\n",
        "# Example using KNN imputation for 'departure_hour'\n",
        "from sklearn.impute import KNNImputer\n",
        "imputer = KNNImputer(n_neighbors=5) # Choose an appropriate number of neighbors\n",
        "flight_data[['departure_hour']] = imputer.fit_transform(flight_data[['departure_hour']])"
      ],
      "metadata": {
        "colab": {
          "base_uri": "https://localhost:8080/"
        },
        "id": "wOVQ--BXDNce",
        "outputId": "be52fdd7-ee8e-4186-a0f6-1e3dd8810a83"
      },
      "execution_count": null,
      "outputs": [
        {
          "output_type": "stream",
          "name": "stderr",
          "text": [
            "<ipython-input-58-f10b12f62860>:2: FutureWarning: A value is trying to be set on a copy of a DataFrame or Series through chained assignment using an inplace method.\n",
            "The behavior will change in pandas 3.0. This inplace method will never work because the intermediate object on which we are setting values always behaves as a copy.\n",
            "\n",
            "For example, when doing 'df[col].method(value, inplace=True)', try using 'df.method({col: value}, inplace=True)' or df[col] = df[col].method(value) instead, to perform the operation inplace on the original object.\n",
            "\n",
            "\n",
            "  flight_data['flight_distance'].fillna(flight_data['flight_distance'].mean(), inplace=True)\n",
            "<ipython-input-58-f10b12f62860>:2: FutureWarning: Downcasting object dtype arrays on .fillna, .ffill, .bfill is deprecated and will change in a future version. Call result.infer_objects(copy=False) instead. To opt-in to the future behavior, set `pd.set_option('future.no_silent_downcasting', True)`\n",
            "  flight_data['flight_distance'].fillna(flight_data['flight_distance'].mean(), inplace=True)\n"
          ]
        }
      ]
    },
    {
      "cell_type": "code",
      "source": [
        "print(flight_data)"
      ],
      "metadata": {
        "colab": {
          "base_uri": "https://localhost:8080/"
        },
        "id": "e32wV7qADP1c",
        "outputId": "60f04f90-40d9-4734-bdc8-32e2dbabc037"
      },
      "execution_count": null,
      "outputs": [
        {
          "output_type": "stream",
          "name": "stdout",
          "text": [
            "   flight_date                                          departure  \\\n",
            "0   2025-03-24  {'airport': 'London City Airport', 'timezone':...   \n",
            "1   2025-03-24  {'airport': 'Leonardo Da Vinci (Fiumicino)', '...   \n",
            "2   2025-03-24  {'airport': 'Leonardo Da Vinci (Fiumicino)', '...   \n",
            "3   2025-03-24  {'airport': 'Queen Alia International', 'timez...   \n",
            "4   2025-03-24  {'airport': 'Eglinton (City of Derry)', 'timez...   \n",
            "..         ...                                                ...   \n",
            "95  2025-03-24  {'airport': 'Dyce', 'timezone': 'Europe/London...   \n",
            "96  2025-03-24  {'airport': 'Dyce', 'timezone': 'Europe/London...   \n",
            "97  2025-03-24  {'airport': 'Dyce', 'timezone': 'Europe/London...   \n",
            "98  2025-03-24  {'airport': 'Perth International', 'timezone':...   \n",
            "99  2025-03-24  {'airport': 'Edinburgh', 'timezone': 'Europe/L...   \n",
            "\n",
            "                                              arrival  \\\n",
            "0   {'airport': 'Peretola', 'timezone': 'Europe/Ro...   \n",
            "1   {'airport': 'Heathrow', 'timezone': 'Europe/Lo...   \n",
            "2   {'airport': 'Heathrow', 'timezone': 'Europe/Lo...   \n",
            "3   {'airport': 'Heathrow', 'timezone': 'Europe/Lo...   \n",
            "4   {'airport': 'Heathrow', 'timezone': 'Europe/Lo...   \n",
            "..                                                ...   \n",
            "95  {'airport': 'Manchester Airport', 'timezone': ...   \n",
            "96  {'airport': 'Sumburgh', 'timezone': 'Europe/Lo...   \n",
            "97  {'airport': 'Birmingham Airport', 'timezone': ...   \n",
            "98  {'airport': 'Singapore Changi', 'timezone': 'A...   \n",
            "99  {'airport': 'London City Airport', 'timezone':...   \n",
            "\n",
            "                                              airline  \\\n",
            "0   {'name': 'British Airways', 'iata': 'BA', 'ica...   \n",
            "1   {'name': 'British Airways', 'iata': 'BA', 'ica...   \n",
            "2   {'name': 'British Airways', 'iata': 'BA', 'ica...   \n",
            "3   {'name': 'British Airways', 'iata': 'BA', 'ica...   \n",
            "4   {'name': 'British Airways', 'iata': 'BA', 'ica...   \n",
            "..                                                ...   \n",
            "95  {'name': 'British Airways', 'iata': 'BA', 'ica...   \n",
            "96  {'name': 'British Airways', 'iata': 'BA', 'ica...   \n",
            "97  {'name': 'British Airways', 'iata': 'BA', 'ica...   \n",
            "98  {'name': 'British Airways', 'iata': 'BA', 'ica...   \n",
            "99  {'name': 'British Airways', 'iata': 'BA', 'ica...   \n",
            "\n",
            "                                               flight  \\\n",
            "0   {'number': None, 'iata': 'BA', 'icao': 'BAW', ...   \n",
            "1   {'number': '551', 'iata': 'BA551', 'icao': 'BA...   \n",
            "2   {'number': '539', 'iata': 'BA539', 'icao': 'BA...   \n",
            "3   {'number': '313', 'iata': 'BA313', 'icao': 'BA...   \n",
            "4   {'number': '4001', 'iata': 'BA4001', 'icao': '...   \n",
            "..                                                ...   \n",
            "95  {'number': '7821', 'iata': 'BA7821', 'icao': '...   \n",
            "96  {'number': '4070', 'iata': 'BA4070', 'icao': '...   \n",
            "97  {'number': '7831', 'iata': 'BA7831', 'icao': '...   \n",
            "98  {'number': '7405', 'iata': 'BA7405', 'icao': '...   \n",
            "99  {'number': '8711', 'iata': 'BA8711', 'icao': '...   \n",
            "\n",
            "                                             aircraft live  departure_hour  \\\n",
            "0                                                   0    0             8.0   \n",
            "1   {'registration': 'G-DBCB', 'iata': 'A319', 'ic...    0             7.0   \n",
            "2   {'registration': 'G-EUYC', 'iata': 'A320', 'ic...    0             7.0   \n",
            "3   {'registration': 'G-TTNY', 'iata': 'A20N', 'ic...    0             9.0   \n",
            "4                                                   0    0             6.0   \n",
            "..                                                ...  ...             ...   \n",
            "95                                                  0    0             6.0   \n",
            "96                                                  0    0             6.0   \n",
            "97                                                  0    0             6.0   \n",
            "98                                                  0    0            12.0   \n",
            "99  {'registration': 'G-LCAG', 'iata': 'E190', 'ic...    0             7.0   \n",
            "\n",
            "    flight_distance  flight_duration  ...  average_delay_x  is_holiday  \\\n",
            "0               NaN              NaN  ...              NaN        True   \n",
            "1               NaN              NaN  ...              NaN        True   \n",
            "2               NaN              NaN  ...              NaN        True   \n",
            "3               NaN              NaN  ...              NaN        True   \n",
            "4               NaN              NaN  ...              NaN        True   \n",
            "..              ...              ...  ...              ...         ...   \n",
            "95              NaN              NaN  ...              NaN        True   \n",
            "96              NaN              NaN  ...              NaN        True   \n",
            "97              NaN              NaN  ...              NaN        True   \n",
            "98              NaN              NaN  ...              NaN        True   \n",
            "99              NaN              NaN  ...              NaN        True   \n",
            "\n",
            "   departure_time_seconds airport date  temperature  wind_speed  \\\n",
            "0                   31800     NaN  NaN         20.0        10.0   \n",
            "1                   28200     NaN  NaN         20.0        10.0   \n",
            "2                   27900     NaN  NaN         20.0        10.0   \n",
            "3                   33000     NaN  NaN         20.0        10.0   \n",
            "4                   23400     NaN  NaN         20.0        10.0   \n",
            "..                    ...     ...  ...          ...         ...   \n",
            "95                  24000     NaN  NaN         20.0        10.0   \n",
            "96                  23700     NaN  NaN         20.0        10.0   \n",
            "97                  23700     NaN  NaN         20.0        10.0   \n",
            "98                  44700     NaN  NaN         20.0        10.0   \n",
            "99                  25200     NaN  NaN         20.0        10.0   \n",
            "\n",
            "    precipitation  aircraft_type average_delay_y  \n",
            "0        0.333333     Boeing 777             NaN  \n",
            "1        0.333333    Airbus A380             NaN  \n",
            "2        0.333333     Boeing 787             NaN  \n",
            "3        0.333333     Boeing 777             NaN  \n",
            "4        0.333333    Airbus A380             NaN  \n",
            "..            ...            ...             ...  \n",
            "95       0.333333     Boeing 787             NaN  \n",
            "96       0.333333     Boeing 777             NaN  \n",
            "97       0.333333    Airbus A380             NaN  \n",
            "98       0.333333     Boeing 787             NaN  \n",
            "99       0.333333     Boeing 777             NaN  \n",
            "\n",
            "[100 rows x 68 columns]\n"
          ]
        }
      ]
    },
    {
      "cell_type": "code",
      "source": [
        "!pip install requests geopy pandas scikit-learn scipy xgboost\n",
        "\n",
        "import requests\n",
        "import pandas as pd\n",
        "from geopy.distance import geodesic\n",
        "from sklearn.model_selection import train_test_split, GridSearchCV, StratifiedKFold\n",
        "from sklearn.ensemble import RandomForestClassifier\n",
        "from sklearn.linear_model import LogisticRegression\n",
        "from sklearn.svm import SVC\n",
        "from sklearn.preprocessing import StandardScaler\n",
        "from sklearn.metrics import accuracy_score, precision_score, recall_score, f1_score, roc_auc_score\n",
        "from xgboost import XGBClassifier # Import XGBoost\n",
        "from sklearn.impute import SimpleImputer # Import SimpleImputer\n",
        "import warnings\n",
        "warnings.filterwarnings(\"ignore\") # Ignore warnings to keep output clean\n",
        "\n",
        "\n",
        "# 1. Hyperparameter Tuning (Random Forest)\n",
        "param_grid = {\n",
        "    'n_estimators': [100, 200, 300],\n",
        "    'max_depth': [None, 10, 20],\n",
        "    'min_samples_split': [2, 5, 10],\n",
        "    'min_samples_leaf': [1, 2, 4]\n",
        "}\n",
        "\n",
        "rf_model = RandomForestClassifier(random_state=42)\n",
        "grid_search = GridSearchCV(estimator=rf_model, param_grid=param_grid,\n",
        "                           scoring='accuracy', cv=5, n_jobs=-1)\n",
        "grid_search.fit(X_train, y_train)\n",
        "best_rf_model = grid_search.best_estimator_\n",
        "print(\"Best Random Forest Hyperparameters:\", grid_search.best_params_)\n",
        "\n",
        "\n"
      ],
      "metadata": {
        "colab": {
          "base_uri": "https://localhost:8080/"
        },
        "id": "bkVHMqhdDjGu",
        "outputId": "7b0dd68b-65f4-425e-aa0e-866ae0d8a035"
      },
      "execution_count": null,
      "outputs": [
        {
          "output_type": "stream",
          "name": "stdout",
          "text": [
            "Requirement already satisfied: requests in /usr/local/lib/python3.11/dist-packages (2.32.3)\n",
            "Requirement already satisfied: geopy in /usr/local/lib/python3.11/dist-packages (2.4.1)\n",
            "Requirement already satisfied: pandas in /usr/local/lib/python3.11/dist-packages (2.2.2)\n",
            "Requirement already satisfied: scikit-learn in /usr/local/lib/python3.11/dist-packages (1.6.1)\n",
            "Requirement already satisfied: scipy in /usr/local/lib/python3.11/dist-packages (1.14.1)\n",
            "Requirement already satisfied: xgboost in /usr/local/lib/python3.11/dist-packages (2.1.4)\n",
            "Requirement already satisfied: charset-normalizer<4,>=2 in /usr/local/lib/python3.11/dist-packages (from requests) (3.4.1)\n",
            "Requirement already satisfied: idna<4,>=2.5 in /usr/local/lib/python3.11/dist-packages (from requests) (3.10)\n",
            "Requirement already satisfied: urllib3<3,>=1.21.1 in /usr/local/lib/python3.11/dist-packages (from requests) (2.3.0)\n",
            "Requirement already satisfied: certifi>=2017.4.17 in /usr/local/lib/python3.11/dist-packages (from requests) (2025.1.31)\n",
            "Requirement already satisfied: geographiclib<3,>=1.52 in /usr/local/lib/python3.11/dist-packages (from geopy) (2.0)\n",
            "Requirement already satisfied: numpy>=1.23.2 in /usr/local/lib/python3.11/dist-packages (from pandas) (2.0.2)\n",
            "Requirement already satisfied: python-dateutil>=2.8.2 in /usr/local/lib/python3.11/dist-packages (from pandas) (2.8.2)\n",
            "Requirement already satisfied: pytz>=2020.1 in /usr/local/lib/python3.11/dist-packages (from pandas) (2025.1)\n",
            "Requirement already satisfied: tzdata>=2022.7 in /usr/local/lib/python3.11/dist-packages (from pandas) (2025.1)\n",
            "Requirement already satisfied: joblib>=1.2.0 in /usr/local/lib/python3.11/dist-packages (from scikit-learn) (1.4.2)\n",
            "Requirement already satisfied: threadpoolctl>=3.1.0 in /usr/local/lib/python3.11/dist-packages (from scikit-learn) (3.6.0)\n",
            "Requirement already satisfied: nvidia-nccl-cu12 in /usr/local/lib/python3.11/dist-packages (from xgboost) (2.21.5)\n",
            "Requirement already satisfied: six>=1.5 in /usr/local/lib/python3.11/dist-packages (from python-dateutil>=2.8.2->pandas) (1.17.0)\n",
            "Best Random Forest Hyperparameters: {'max_depth': None, 'min_samples_leaf': 4, 'min_samples_split': 2, 'n_estimators': 100}\n"
          ]
        }
      ]
    },
    {
      "cell_type": "code",
      "source": [
        "# Select the features you want to use for your model\n",
        "features = flight_data[['departure_hour', 'flight_distance', 'flight_duration',\n",
        "                        'departure_dayofweek', 'departure_month',\n",
        "                        'wind_speed', 'temperature', 'precipitation', 'is_holiday', # Add new features here\n",
        "                        'departure_time_seconds']]  # Add more relevant features\n",
        "\n",
        "# Assuming 'status_scheduled' is your target variable\n",
        "target = flight_data['status_scheduled']\n",
        "\n",
        "print(features)\n",
        "\n",
        "# Replace with the actual column names you want to use\n",
        "features = flight_data[['departure_hour', 'flight_distance', 'flight_duration',\n",
        "                        'departure_dayofweek', 'departure_month']]  # Remove 'status_scheduled'\n",
        "# Assuming 'status_scheduled' is your target variable\n",
        "target = flight_data['status_scheduled']\n",
        "print(features)"
      ],
      "metadata": {
        "colab": {
          "base_uri": "https://localhost:8080/"
        },
        "id": "qw0KJoEVQLvJ",
        "outputId": "700b96bf-0147-437a-f58c-999891417b16"
      },
      "execution_count": null,
      "outputs": [
        {
          "output_type": "stream",
          "name": "stdout",
          "text": [
            "    departure_hour  flight_distance  flight_duration  departure_dayofweek  \\\n",
            "0              8.0              NaN              NaN                    0   \n",
            "1              7.0              NaN              NaN                    0   \n",
            "2              7.0              NaN              NaN                    0   \n",
            "3              9.0              NaN              NaN                    0   \n",
            "4              6.0              NaN              NaN                    0   \n",
            "..             ...              ...              ...                  ...   \n",
            "95             6.0              NaN              NaN                    0   \n",
            "96             6.0              NaN              NaN                    0   \n",
            "97             6.0              NaN              NaN                    0   \n",
            "98            12.0              NaN              NaN                    0   \n",
            "99             7.0              NaN              NaN                    0   \n",
            "\n",
            "    departure_month  wind_speed  temperature  precipitation  is_holiday  \\\n",
            "0                 3        10.0         20.0       0.333333        True   \n",
            "1                 3        10.0         20.0       0.333333        True   \n",
            "2                 3        10.0         20.0       0.333333        True   \n",
            "3                 3        10.0         20.0       0.333333        True   \n",
            "4                 3        10.0         20.0       0.333333        True   \n",
            "..              ...         ...          ...            ...         ...   \n",
            "95                3        10.0         20.0       0.333333        True   \n",
            "96                3        10.0         20.0       0.333333        True   \n",
            "97                3        10.0         20.0       0.333333        True   \n",
            "98                3        10.0         20.0       0.333333        True   \n",
            "99                3        10.0         20.0       0.333333        True   \n",
            "\n",
            "    departure_time_seconds  \n",
            "0                    31800  \n",
            "1                    28200  \n",
            "2                    27900  \n",
            "3                    33000  \n",
            "4                    23400  \n",
            "..                     ...  \n",
            "95                   24000  \n",
            "96                   23700  \n",
            "97                   23700  \n",
            "98                   44700  \n",
            "99                   25200  \n",
            "\n",
            "[100 rows x 10 columns]\n",
            "    departure_hour  flight_distance  flight_duration  departure_dayofweek  \\\n",
            "0              8.0              NaN              NaN                    0   \n",
            "1              7.0              NaN              NaN                    0   \n",
            "2              7.0              NaN              NaN                    0   \n",
            "3              9.0              NaN              NaN                    0   \n",
            "4              6.0              NaN              NaN                    0   \n",
            "..             ...              ...              ...                  ...   \n",
            "95             6.0              NaN              NaN                    0   \n",
            "96             6.0              NaN              NaN                    0   \n",
            "97             6.0              NaN              NaN                    0   \n",
            "98            12.0              NaN              NaN                    0   \n",
            "99             7.0              NaN              NaN                    0   \n",
            "\n",
            "    departure_month  \n",
            "0                 3  \n",
            "1                 3  \n",
            "2                 3  \n",
            "3                 3  \n",
            "4                 3  \n",
            "..              ...  \n",
            "95                3  \n",
            "96                3  \n",
            "97                3  \n",
            "98                3  \n",
            "99                3  \n",
            "\n",
            "[100 rows x 5 columns]\n"
          ]
        }
      ]
    },
    {
      "cell_type": "code",
      "source": [
        "# Split the data into training and testing sets\n",
        "X_train, X_test, y_train, y_test = train_test_split(features, target, test_size=0.3, random_state=42)  # 70/30 split\n",
        "X_val, X_test, y_val, y_test = train_test_split(X_test, y_test, test_size=0.5, random_state=42) # Further split 30% into 15% each\n",
        "\n",
        "# Impute missing values in X_train and X_val separately\n",
        "imputer = SimpleImputer(strategy='mean') # or 'median', 'most_frequent'\n",
        "X_train = imputer.fit_transform(X_train)\n",
        "X_val = imputer.transform(X_val) # Use transform, not fit_transform, for validation set\n",
        "X_test = imputer.transform(X_test) # Use transform for test set as well\n",
        "\n",
        "grid_search.fit(X_train, y_train)\n",
        "best_rf_model = grid_search.best_estimator_\n",
        "print(\"Best Random Forest Hyperparameters:\", grid_search.best_params_)\n"
      ],
      "metadata": {
        "colab": {
          "base_uri": "https://localhost:8080/"
        },
        "id": "V-cET6QENa-_",
        "outputId": "5679f800-2931-4c15-a77c-ef21bf706a91"
      },
      "execution_count": null,
      "outputs": [
        {
          "output_type": "stream",
          "name": "stdout",
          "text": [
            "Best Random Forest Hyperparameters: {'max_depth': None, 'min_samples_leaf': 4, 'min_samples_split': 2, 'n_estimators': 100}\n"
          ]
        }
      ]
    },
    {
      "cell_type": "code",
      "source": [
        "# 2. Cross-Validation (using StratifiedKFold for imbalanced data)\n",
        "cv = StratifiedKFold(n_splits=5, shuffle=True, random_state=42)\n",
        "models = {\n",
        "    'Random Forest': best_rf_model,\n",
        "    'Logistic Regression': LogisticRegression(random_state=42),\n",
        "    'SVM': SVC(random_state=42, probability=True),  # Enable probability estimates for AUC\n",
        "    'XGBoost': XGBClassifier(random_state=42) # Add XGBoost to the models\n",
        "}\n",
        "\n",
        "results = []\n",
        "for model_name, model in models.items():\n",
        "    for fold, (train_idx, val_idx) in enumerate(cv.split(X_train, y_train)):\n",
        "        # Use .iloc to select rows by integer index:\n",
        "        X_train_fold, X_val_fold = X_train[train_idx], X_train[val_idx] # Use array indexing\n",
        "        y_train_fold, y_val_fold = y_train.iloc[train_idx], y_train.iloc[val_idx]\n",
        "\n",
        "        model.fit(X_train_fold, y_train_fold)\n",
        "        y_pred = model.predict(X_val_fold)\n",
        "\n",
        "        accuracy = accuracy_score(y_val_fold, y_pred)\n",
        "        precision = precision_score(y_val_fold, y_pred)\n",
        "        recall = recall_score(y_val_fold, y_pred)\n",
        "        f1 = f1_score(y_val_fold, y_pred)\n",
        "        auc = roc_auc_score(y_val_fold, model.predict_proba(X_val_fold)[:, 1]) # Calculate AUC\n",
        "\n",
        "        results.append([model_name, fold, accuracy, precision, recall, f1, auc])\n",
        "\n",
        "results_df = pd.DataFrame(results, columns=['Model', 'Fold', 'Accuracy', 'Precision', 'Recall', 'F1-Score', 'AUC'])\n",
        "print(\"\\nCross-Validation Results:\\n\", results_df.groupby('Model').mean())"
      ],
      "metadata": {
        "colab": {
          "base_uri": "https://localhost:8080/"
        },
        "id": "xLQGA2ijJUR_",
        "outputId": "3cf68729-575d-4183-f5f4-17475c3c5348"
      },
      "execution_count": null,
      "outputs": [
        {
          "output_type": "stream",
          "name": "stdout",
          "text": [
            "\n",
            "Cross-Validation Results:\n",
            "                      Fold  Accuracy  Precision    Recall  F1-Score       AUC\n",
            "Model                                                                       \n",
            "Logistic Regression   2.0  0.628571   0.835714  0.342857  0.451746  0.548384\n",
            "Random Forest         2.0  0.600000   0.752381  0.309524  0.411746  0.597747\n",
            "SVM                   2.0  0.571429   0.750000  0.190476  0.293506  0.411310\n",
            "XGBoost               2.0  0.628571   0.819048  0.342857  0.456190  0.631080\n"
          ]
        }
      ]
    },
    {
      "cell_type": "code",
      "source": [
        "!pip install matplotlib\n",
        "\n",
        "import matplotlib.pyplot as plt\n",
        "import numpy as np\n",
        "import pandas as pd\n",
        "\n",
        "# Assuming 'results_df' is your DataFrame with cross-validation results\n",
        "\n",
        "# Group data by model and calculate mean values for each metric\n",
        "model_means = results_df.groupby('Model').mean()\n",
        "\n",
        "# Create a figure and axes\n",
        "fig, ax = plt.subplots(figsize=(12, 5))  # Increased figure width\n",
        "\n",
        "# Hide axes\n",
        "ax.axis('off')\n",
        "\n",
        "# Create table data\n",
        "table_data = model_means.values.tolist()\n",
        "row_labels = model_means.index.tolist()\n",
        "col_labels = model_means.columns.tolist()\n",
        "\n",
        "# Add table to the axes\n",
        "table = ax.table(cellText=table_data, rowLabels=row_labels, colLabels=col_labels, loc='center')\n",
        "\n",
        "# Adjust table properties for better visualization\n",
        "table.auto_set_font_size(False)\n",
        "table.set_fontsize(10)\n",
        "table.scale(1.2, 1.5)  # Adjust scaling for better spacing\n",
        "\n",
        "# Set title\n",
        "ax.set_title('Cross-Validation Results', fontsize=14)\n",
        "\n",
        "# Adjust layout to accommodate all columns\n",
        "plt.tight_layout()\n",
        "\n",
        "# Display the plot\n",
        "plt.show()"
      ],
      "metadata": {
        "colab": {
          "base_uri": "https://localhost:8080/",
          "height": 632
        },
        "id": "d3HYgb67TIq7",
        "outputId": "266507b3-8c95-4103-c24d-b9c9a1af697f"
      },
      "execution_count": null,
      "outputs": [
        {
          "output_type": "stream",
          "name": "stdout",
          "text": [
            "Requirement already satisfied: matplotlib in /usr/local/lib/python3.11/dist-packages (3.10.0)\n",
            "Requirement already satisfied: contourpy>=1.0.1 in /usr/local/lib/python3.11/dist-packages (from matplotlib) (1.3.1)\n",
            "Requirement already satisfied: cycler>=0.10 in /usr/local/lib/python3.11/dist-packages (from matplotlib) (0.12.1)\n",
            "Requirement already satisfied: fonttools>=4.22.0 in /usr/local/lib/python3.11/dist-packages (from matplotlib) (4.56.0)\n",
            "Requirement already satisfied: kiwisolver>=1.3.1 in /usr/local/lib/python3.11/dist-packages (from matplotlib) (1.4.8)\n",
            "Requirement already satisfied: numpy>=1.23 in /usr/local/lib/python3.11/dist-packages (from matplotlib) (2.0.2)\n",
            "Requirement already satisfied: packaging>=20.0 in /usr/local/lib/python3.11/dist-packages (from matplotlib) (24.2)\n",
            "Requirement already satisfied: pillow>=8 in /usr/local/lib/python3.11/dist-packages (from matplotlib) (11.1.0)\n",
            "Requirement already satisfied: pyparsing>=2.3.1 in /usr/local/lib/python3.11/dist-packages (from matplotlib) (3.2.1)\n",
            "Requirement already satisfied: python-dateutil>=2.7 in /usr/local/lib/python3.11/dist-packages (from matplotlib) (2.8.2)\n",
            "Requirement already satisfied: six>=1.5 in /usr/local/lib/python3.11/dist-packages (from python-dateutil>=2.7->matplotlib) (1.17.0)\n"
          ]
        },
        {
          "output_type": "display_data",
          "data": {
            "text/plain": [
              "<Figure size 1200x500 with 1 Axes>"
            ],
            "image/png": "[encoded data removed]"
          },
          "metadata": {}
        }
      ]
    },
    {
      "cell_type": "markdown",
      "source": [
        "\n",
        "\n",
        "**Cross-Validation Results:**\n",
        "                      Fold  Accuracy  Precision    Recall  F1-Score       AUC\n",
        "Model                                                                       \n",
        "Logistic Regression   2.0  0.628571   0.835714  0.342857  0.451746  0.548384\n",
        "Random Forest         2.0  0.600000   0.752381  0.309524  0.411746  0.597747\n",
        "SVM                   2.0  0.571429   0.750000  0.190476  0.293506  0.411310\n",
        "XGBoost               2.0  0.628571   0.819048  0.342857  0.456190  0.631080\n",
        "\n",
        "The table shows the average performance of four different machine learning models (Logistic Regression, Random Forest, SVM, and XGBoost) across 5 folds of cross-validation. Here's a breakdown of the metrics:\n",
        "\n",
        "Fold: This indicates the fold number in the cross-validation process (0 to 4 in your case).\n",
        "\n",
        "Accuracy: The proportion of correctly classified instances (both scheduled and not scheduled flights).\n",
        "\n",
        "Precision: Out of all the flights predicted as \"scheduled,\" what proportion was actually scheduled? A higher precision means fewer false positives.\n",
        "\n",
        "Recall: Out of all the actually scheduled flights, what proportion did the model correctly identify? A higher recall means fewer false negatives.\n",
        "\n",
        "F1-Score: The harmonic mean of precision and recall, providing a balanced measure of performance.\n",
        "\n",
        "AUC (Area Under the ROC Curve): A measure of the model's ability to distinguish between the two classes (scheduled and not scheduled). A higher AUC indicates better discrimination.\n",
        "\n",
        "**Model Comparison**\n",
        "\n",
        "Logistic Regression: Achieved an accuracy of 62.86%, indicating it correctly predicted the status of about 63% of flights. It has relatively high precision (83.57%) but low recall (34.29%), suggesting it's good at avoiding false positives but might miss some scheduled flights. The AUC is moderate (0.5484).\n",
        "\n",
        "Random Forest: Achieved a slightly lower accuracy of 60% compared to Logistic Regression. It has good precision (75.24%) and moderate recall (30.95%). The AUC is also moderate (0.5977).\n",
        "\n",
        "SVM: Performed the worst among the four models, with an accuracy of 57.14%. It has high precision (75%) but very low recall (19.05%), indicating it's prone to missing scheduled flights. The AUC is low (0.4113).\n",
        "\n",
        "XGBoost: Showed the best performance overall, with an accuracy of 62.86% and a relatively balanced precision (81.90%) and recall (34.29%). It also has the highest AUC (0.6311) among the four models, suggesting it has the best discrimination ability."
      ],
      "metadata": {
        "id": "Hk1UgoA7SKM6"
      }
    },
    {
      "cell_type": "markdown",
      "source": [
        "XGBoost seems to be the most promising model for predicting flight status based on the features you selected. It has a relatively good balance between accuracy, precision, recall, and AUC.\n",
        "\n",
        "Logistic Regression is also a viable option with comparable accuracy to XGBoost.\n",
        "\n",
        "Random Forest is a decent choice, but it might be worth further tuning its hyperparameters to improve performance.\n",
        "\n",
        "SVM appears to be the least suitable model for this task due to its low recall, indicating it might miss a significant number of scheduled flights.\n"
      ],
      "metadata": {
        "id": "FiGo7jimURbE"
      }
    },
    {
      "cell_type": "code",
      "source": [
        "# --- XGBoost Fine-tuning and Visualization ---\n",
        "\n",
        "# Define the hyperparameter grid to search\n",
        "param_grid_xgb = {\n",
        "    'n_estimators': [100, 200, 300],\n",
        "    'max_depth': [3, 5, 7],\n",
        "    'learning_rate': [0.1, 0.01, 0.001],\n",
        "}\n",
        "\n",
        "# Create an XGBoost classifier\n",
        "xgb_model = XGBClassifier(random_state=42)\n",
        "\n",
        "# Create a GridSearchCV object\n",
        "grid_search_xgb = GridSearchCV(estimator=xgb_model, param_grid=param_grid_xgb,\n",
        "                               scoring='accuracy', cv=5, n_jobs=-1, return_train_score=True)\n",
        "\n",
        "# Train the model using GridSearchCV\n",
        "grid_search_xgb.fit(X_train, y_train)\n",
        "\n",
        "# Get the best model and its hyperparameters\n",
        "best_xgb_model = grid_search_xgb.best_estimator_\n",
        "best_xgb_params = grid_search_xgb.best_params_\n",
        "\n",
        "print(\"Best XGBoost Hyperparameters:\", best_xgb_params)\n",
        "\n",
        "# Evaluate performance on the validation set\n",
        "y_pred_val_xgb = best_xgb_model.predict(X_val)\n",
        "accuracy_val_xgb = accuracy_score(y_val, y_pred_val_xgb)\n",
        "print(\"Validation Accuracy (XGBoost):\", accuracy_val_xgb)"
      ],
      "metadata": {
        "colab": {
          "base_uri": "https://localhost:8080/"
        },
        "id": "Z-NY9n5fVZ1n",
        "outputId": "3d5f99a7-8c23-4335-ae8f-ec3130d6a22a"
      },
      "execution_count": null,
      "outputs": [
        {
          "output_type": "stream",
          "name": "stdout",
          "text": [
            "Best XGBoost Hyperparameters: {'learning_rate': 0.1, 'max_depth': 3, 'n_estimators': 100}\n",
            "Validation Accuracy (XGBoost): 0.4666666666666667\n"
          ]
        }
      ]
    },
    {
      "cell_type": "code",
      "source": [
        "# Visualization using Matplotlib\n",
        "results_xgb = pd.DataFrame(grid_search_xgb.cv_results_)\n",
        "\n",
        "# Example for 'n_estimators' vs. accuracy\n",
        "plt.plot(results_xgb['param_n_estimators'], results_xgb['mean_train_score'], label='Train')\n",
        "plt.plot(results_xgb['param_n_estimators'], results_xgb['mean_test_score'], label='Validation')\n",
        "plt.xlabel('n_estimators')\n",
        "plt.ylabel('Accuracy')\n",
        "plt.title('XGBoost Hyperparameter Tuning (n_estimators)')\n",
        "plt.legend()\n",
        "plt.show()\n",
        "\n",
        "\n"
      ],
      "metadata": {
        "colab": {
          "base_uri": "https://localhost:8080/",
          "height": 472
        },
        "id": "1V3NBpsEVfbm",
        "outputId": "1eb5fab6-1798-4a1d-e72a-c3d02f86c4c4"
      },
      "execution_count": null,
      "outputs": [
        {
          "output_type": "display_data",
          "data": {
            "text/plain": [
              "<Figure size 640x480 with 1 Axes>"
            ],
            "image/png": "[encoded data removed]"
          },
          "metadata": {}
        }
      ]
    },
    {
      "cell_type": "code",
      "source": [
        "# Visualization using Plotly\n",
        "import plotly.express as px\n",
        "fig = px.scatter_3d(results_xgb, x='param_n_estimators', y='param_max_depth', z='mean_test_score',\n",
        "                    color='param_learning_rate', size='mean_test_score',\n",
        "                    labels={'param_n_estimators': 'n_estimators', 'param_max_depth': 'max_depth',\n",
        "                            'mean_test_score': 'Mean Validation Accuracy', 'param_learning_rate': 'learning_rate'},\n",
        "                    title='XGBoost Hyperparameter Tuning')\n",
        "fig.show()"
      ],
      "metadata": {
        "colab": {
          "base_uri": "https://localhost:8080/",
          "height": 542
        },
        "id": "KCPZORXxvng3",
        "outputId": "86da8034-13b2-424c-ac21-693a3137a8cc"
      },
      "execution_count": null,
      "outputs": [
        {
          "output_type": "display_data",
          "data": {
            "text/html": [
              "<html>\n",
              "<head><meta charset=\"utf-8\" /></head>\n",
              "<body>\n",
              "    <div>            <script src=\"https://cdnjs.cloudflare.com/ajax/libs/mathjax/2.7.5/MathJax.js?config=TeX-AMS-MML_SVG\"></script><script type=\"text/javascript\">if (window.MathJax && window.MathJax.Hub && window.MathJax.Hub.Config) {window.MathJax.Hub.Config({SVG: {font: \"STIX-Web\"}});}</script>                <script type=\"text/javascript\">window.PlotlyConfig = {MathJaxConfig: 'local'};</script>\n",
              "        <script charset=\"utf-8\" src=\"https://cdn.plot.ly/plotly-2.35.2.min.js\"></script>                <div id=\"6abcd4f6-b07d-4cbb-9b30-3e17e05cd699\" class=\"plotly-graph-div\" style=\"height:525px; width:100%;\"></div>            <script type=\"text/javascript\">                                    window.PLOTLYENV=window.PLOTLYENV || {};                                    if (document.getElementById(\"6abcd4f6-b07d-4cbb-9b30-3e17e05cd699\")) {                    Plotly.newPlot(                        \"6abcd4f6-b07d-4cbb-9b30-3e17e05cd699\",                        [{\"hovertemplate\":\"n_estimators=%{x}\\u003cbr\\u003emax_depth=%{y}\\u003cbr\\u003eMean Validation Accuracy=%{marker.size}\\u003cbr\\u003elearning_rate=%{marker.color}\\u003cextra\\u003e\\u003c\\u002fextra\\u003e\",\"legendgroup\":\"\",\"marker\":{\"color\":[0.1,0.1,0.1,0.1,0.1,0.1,0.1,0.1,0.1,0.01,0.01,0.01,0.01,0.01,0.01,0.01,0.01,0.01,0.001,0.001,0.001,0.001,0.001,0.001,0.001,0.001,0.001],\"coloraxis\":\"coloraxis\",\"size\":[0.6,0.6,0.6,0.6,0.6,0.6,0.6,0.6,0.6,0.5714285714285714,0.5714285714285714,0.5714285714285714,0.5714285714285714,0.5714285714285714,0.5714285714285714,0.5714285714285714,0.5714285714285714,0.5714285714285714,0.5428571428571429,0.5285714285714285,0.5714285714285714,0.5428571428571429,0.5285714285714285,0.5714285714285714,0.5428571428571429,0.5285714285714285,0.5714285714285714],\"sizemode\":\"area\",\"sizeref\":0.0015,\"symbol\":\"circle\"},\"mode\":\"markers\",\"name\":\"\",\"scene\":\"scene\",\"showlegend\":false,\"x\":[100,200,300,100,200,300,100,200,300,100,200,300,100,200,300,100,200,300,100,200,300,100,200,300,100,200,300],\"y\":[3,3,3,5,5,5,7,7,7,3,3,3,5,5,5,7,7,7,3,3,3,5,5,5,7,7,7],\"z\":[0.6,0.6,0.6,0.6,0.6,0.6,0.6,0.6,0.6,0.5714285714285714,0.5714285714285714,0.5714285714285714,0.5714285714285714,0.5714285714285714,0.5714285714285714,0.5714285714285714,0.5714285714285714,0.5714285714285714,0.5428571428571429,0.5285714285714285,0.5714285714285714,0.5428571428571429,0.5285714285714285,0.5714285714285714,0.5428571428571429,0.5285714285714285,0.5714285714285714],\"type\":\"scatter3d\"}],                        {\"template\":{\"data\":{\"histogram2dcontour\":[{\"type\":\"histogram2dcontour\",\"colorbar\":{\"outlinewidth\":0,\"ticks\":\"\"},\"colorscale\":[[0.0,\"#0d0887\"],[0.1111111111111111,\"#46039f\"],[0.2222222222222222,\"#7201a8\"],[0.3333333333333333,\"#9c179e\"],[0.4444444444444444,\"#bd3786\"],[0.5555555555555556,\"#d8576b\"],[0.6666666666666666,\"#ed7953\"],[0.7777777777777778,\"#fb9f3a\"],[0.8888888888888888,\"#fdca26\"],[1.0,\"#f0f921\"]]}],\"choropleth\":[{\"type\":\"choropleth\",\"colorbar\":{\"outlinewidth\":0,\"ticks\":\"\"}}],\"histogram2d\":[{\"type\":\"histogram2d\",\"colorbar\":{\"outlinewidth\":0,\"ticks\":\"\"},\"colorscale\":[[0.0,\"#0d0887\"],[0.1111111111111111,\"#46039f\"],[0.2222222222222222,\"#7201a8\"],[0.3333333333333333,\"#9c179e\"],[0.4444444444444444,\"#bd3786\"],[0.5555555555555556,\"#d8576b\"],[0.6666666666666666,\"#ed7953\"],[0.7777777777777778,\"#fb9f3a\"],[0.8888888888888888,\"#fdca26\"],[1.0,\"#f0f921\"]]}],\"heatmap\":[{\"type\":\"heatmap\",\"colorbar\":{\"outlinewidth\":0,\"ticks\":\"\"},\"colorscale\":[[0.0,\"#0d0887\"],[0.1111111111111111,\"#46039f\"],[0.2222222222222222,\"#7201a8\"],[0.3333333333333333,\"#9c179e\"],[0.4444444444444444,\"#bd3786\"],[0.5555555555555556,\"#d8576b\"],[0.6666666666666666,\"#ed7953\"],[0.7777777777777778,\"#fb9f3a\"],[0.8888888888888888,\"#fdca26\"],[1.0,\"#f0f921\"]]}],\"heatmapgl\":[{\"type\":\"heatmapgl\",\"colorbar\":{\"outlinewidth\":0,\"ticks\":\"\"},\"colorscale\":[[0.0,\"#0d0887\"],[0.1111111111111111,\"#46039f\"],[0.2222222222222222,\"#7201a8\"],[0.3333333333333333,\"#9c179e\"],[0.4444444444444444,\"#bd3786\"],[0.5555555555555556,\"#d8576b\"],[0.6666666666666666,\"#ed7953\"],[0.7777777777777778,\"#fb9f3a\"],[0.8888888888888888,\"#fdca26\"],[1.0,\"#f0f921\"]]}],\"contourcarpet\":[{\"type\":\"contourcarpet\",\"colorbar\":{\"outlinewidth\":0,\"ticks\":\"\"}}],\"contour\":[{\"type\":\"contour\",\"colorbar\":{\"outlinewidth\":0,\"ticks\":\"\"},\"colorscale\":[[0.0,\"#0d0887\"],[0.1111111111111111,\"#46039f\"],[0.2222222222222222,\"#7201a8\"],[0.3333333333333333,\"#9c179e\"],[0.4444444444444444,\"#bd3786\"],[0.5555555555555556,\"#d8576b\"],[0.6666666666666666,\"#ed7953\"],[0.7777777777777778,\"#fb9f3a\"],[0.8888888888888888,\"#fdca26\"],[1.0,\"#f0f921\"]]}],\"surface\":[{\"type\":\"surface\",\"colorbar\":{\"outlinewidth\":0,\"ticks\":\"\"},\"colorscale\":[[0.0,\"#0d0887\"],[0.1111111111111111,\"#46039f\"],[0.2222222222222222,\"#7201a8\"],[0.3333333333333333,\"#9c179e\"],[0.4444444444444444,\"#bd3786\"],[0.5555555555555556,\"#d8576b\"],[0.6666666666666666,\"#ed7953\"],[0.7777777777777778,\"#fb9f3a\"],[0.8888888888888888,\"#fdca26\"],[1.0,\"#f0f921\"]]}],\"mesh3d\":[{\"type\":\"mesh3d\",\"colorbar\":{\"outlinewidth\":0,\"ticks\":\"\"}}],\"scatter\":[{\"fillpattern\":{\"fillmode\":\"overlay\",\"size\":10,\"solidity\":0.2},\"type\":\"scatter\"}],\"parcoords\":[{\"type\":\"parcoords\",\"line\":{\"colorbar\":{\"outlinewidth\":0,\"ticks\":\"\"}}}],\"scatterpolargl\":[{\"type\":\"scatterpolargl\",\"marker\":{\"colorbar\":{\"outlinewidth\":0,\"ticks\":\"\"}}}],\"bar\":[{\"error_x\":{\"color\":\"#2a3f5f\"},\"error_y\":{\"color\":\"#2a3f5f\"},\"marker\":{\"line\":{\"color\":\"#E5ECF6\",\"width\":0.5},\"pattern\":{\"fillmode\":\"overlay\",\"size\":10,\"solidity\":0.2}},\"type\":\"bar\"}],\"scattergeo\":[{\"type\":\"scattergeo\",\"marker\":{\"colorbar\":{\"outlinewidth\":0,\"ticks\":\"\"}}}],\"scatterpolar\":[{\"type\":\"scatterpolar\",\"marker\":{\"colorbar\":{\"outlinewidth\":0,\"ticks\":\"\"}}}],\"histogram\":[{\"marker\":{\"pattern\":{\"fillmode\":\"overlay\",\"size\":10,\"solidity\":0.2}},\"type\":\"histogram\"}],\"scattergl\":[{\"type\":\"scattergl\",\"marker\":{\"colorbar\":{\"outlinewidth\":0,\"ticks\":\"\"}}}],\"scatter3d\":[{\"type\":\"scatter3d\",\"line\":{\"colorbar\":{\"outlinewidth\":0,\"ticks\":\"\"}},\"marker\":{\"colorbar\":{\"outlinewidth\":0,\"ticks\":\"\"}}}],\"scattermapbox\":[{\"type\":\"scattermapbox\",\"marker\":{\"colorbar\":{\"outlinewidth\":0,\"ticks\":\"\"}}}],\"scatterternary\":[{\"type\":\"scatterternary\",\"marker\":{\"colorbar\":{\"outlinewidth\":0,\"ticks\":\"\"}}}],\"scattercarpet\":[{\"type\":\"scattercarpet\",\"marker\":{\"colorbar\":{\"outlinewidth\":0,\"ticks\":\"\"}}}],\"carpet\":[{\"aaxis\":{\"endlinecolor\":\"#2a3f5f\",\"gridcolor\":\"white\",\"linecolor\":\"white\",\"minorgridcolor\":\"white\",\"startlinecolor\":\"#2a3f5f\"},\"baxis\":{\"endlinecolor\":\"#2a3f5f\",\"gridcolor\":\"white\",\"linecolor\":\"white\",\"minorgridcolor\":\"white\",\"startlinecolor\":\"#2a3f5f\"},\"type\":\"carpet\"}],\"table\":[{\"cells\":{\"fill\":{\"color\":\"#EBF0F8\"},\"line\":{\"color\":\"white\"}},\"header\":{\"fill\":{\"color\":\"#C8D4E3\"},\"line\":{\"color\":\"white\"}},\"type\":\"table\"}],\"barpolar\":[{\"marker\":{\"line\":{\"color\":\"#E5ECF6\",\"width\":0.5},\"pattern\":{\"fillmode\":\"overlay\",\"size\":10,\"solidity\":0.2}},\"type\":\"barpolar\"}],\"pie\":[{\"automargin\":true,\"type\":\"pie\"}]},\"layout\":{\"autotypenumbers\":\"strict\",\"colorway\":[\"#636efa\",\"#EF553B\",\"#00cc96\",\"#ab63fa\",\"#FFA15A\",\"#19d3f3\",\"#FF6692\",\"#B6E880\",\"#FF97FF\",\"#FECB52\"],\"font\":{\"color\":\"#2a3f5f\"},\"hovermode\":\"closest\",\"hoverlabel\":{\"align\":\"left\"},\"paper_bgcolor\":\"white\",\"plot_bgcolor\":\"#E5ECF6\",\"polar\":{\"bgcolor\":\"#E5ECF6\",\"angularaxis\":{\"gridcolor\":\"white\",\"linecolor\":\"white\",\"ticks\":\"\"},\"radialaxis\":{\"gridcolor\":\"white\",\"linecolor\":\"white\",\"ticks\":\"\"}},\"ternary\":{\"bgcolor\":\"#E5ECF6\",\"aaxis\":{\"gridcolor\":\"white\",\"linecolor\":\"white\",\"ticks\":\"\"},\"baxis\":{\"gridcolor\":\"white\",\"linecolor\":\"white\",\"ticks\":\"\"},\"caxis\":{\"gridcolor\":\"white\",\"linecolor\":\"white\",\"ticks\":\"\"}},\"coloraxis\":{\"colorbar\":{\"outlinewidth\":0,\"ticks\":\"\"}},\"colorscale\":{\"sequential\":[[0.0,\"#0d0887\"],[0.1111111111111111,\"#46039f\"],[0.2222222222222222,\"#7201a8\"],[0.3333333333333333,\"#9c179e\"],[0.4444444444444444,\"#bd3786\"],[0.5555555555555556,\"#d8576b\"],[0.6666666666666666,\"#ed7953\"],[0.7777777777777778,\"#fb9f3a\"],[0.8888888888888888,\"#fdca26\"],[1.0,\"#f0f921\"]],\"sequentialminus\":[[0.0,\"#0d0887\"],[0.1111111111111111,\"#46039f\"],[0.2222222222222222,\"#7201a8\"],[0.3333333333333333,\"#9c179e\"],[0.4444444444444444,\"#bd3786\"],[0.5555555555555556,\"#d8576b\"],[0.6666666666666666,\"#ed7953\"],[0.7777777777777778,\"#fb9f3a\"],[0.8888888888888888,\"#fdca26\"],[1.0,\"#f0f921\"]],\"diverging\":[[0,\"#8e0152\"],[0.1,\"#c51b7d\"],[0.2,\"#de77ae\"],[0.3,\"#f1b6da\"],[0.4,\"#fde0ef\"],[0.5,\"#f7f7f7\"],[0.6,\"#e6f5d0\"],[0.7,\"#b8e186\"],[0.8,\"#7fbc41\"],[0.9,\"#4d9221\"],[1,\"#276419\"]]},\"xaxis\":{\"gridcolor\":\"white\",\"linecolor\":\"white\",\"ticks\":\"\",\"title\":{\"standoff\":15},\"zerolinecolor\":\"white\",\"automargin\":true,\"zerolinewidth\":2},\"yaxis\":{\"gridcolor\":\"white\",\"linecolor\":\"white\",\"ticks\":\"\",\"title\":{\"standoff\":15},\"zerolinecolor\":\"white\",\"automargin\":true,\"zerolinewidth\":2},\"scene\":{\"xaxis\":{\"backgroundcolor\":\"#E5ECF6\",\"gridcolor\":\"white\",\"linecolor\":\"white\",\"showbackground\":true,\"ticks\":\"\",\"zerolinecolor\":\"white\",\"gridwidth\":2},\"yaxis\":{\"backgroundcolor\":\"#E5ECF6\",\"gridcolor\":\"white\",\"linecolor\":\"white\",\"showbackground\":true,\"ticks\":\"\",\"zerolinecolor\":\"white\",\"gridwidth\":2},\"zaxis\":{\"backgroundcolor\":\"#E5ECF6\",\"gridcolor\":\"white\",\"linecolor\":\"white\",\"showbackground\":true,\"ticks\":\"\",\"zerolinecolor\":\"white\",\"gridwidth\":2}},\"shapedefaults\":{\"line\":{\"color\":\"#2a3f5f\"}},\"annotationdefaults\":{\"arrowcolor\":\"#2a3f5f\",\"arrowhead\":0,\"arrowwidth\":1},\"geo\":{\"bgcolor\":\"white\",\"landcolor\":\"#E5ECF6\",\"subunitcolor\":\"white\",\"showland\":true,\"showlakes\":true,\"lakecolor\":\"white\"},\"title\":{\"x\":0.05},\"mapbox\":{\"style\":\"light\"}}},\"scene\":{\"domain\":{\"x\":[0.0,1.0],\"y\":[0.0,1.0]},\"xaxis\":{\"title\":{\"text\":\"n_estimators\"}},\"yaxis\":{\"title\":{\"text\":\"max_depth\"}},\"zaxis\":{\"title\":{\"text\":\"Mean Validation Accuracy\"}}},\"coloraxis\":{\"colorbar\":{\"title\":{\"text\":\"learning_rate\"}},\"colorscale\":[[0.0,\"#0d0887\"],[0.1111111111111111,\"#46039f\"],[0.2222222222222222,\"#7201a8\"],[0.3333333333333333,\"#9c179e\"],[0.4444444444444444,\"#bd3786\"],[0.5555555555555556,\"#d8576b\"],[0.6666666666666666,\"#ed7953\"],[0.7777777777777778,\"#fb9f3a\"],[0.8888888888888888,\"#fdca26\"],[1.0,\"#f0f921\"]]},\"legend\":{\"tracegroupgap\":0,\"itemsizing\":\"constant\"},\"title\":{\"text\":\"XGBoost Hyperparameter Tuning\"}},                        {\"responsive\": true}                    ).then(function(){\n",
              "                            \n",
              "var gd = document.getElementById('6abcd4f6-b07d-4cbb-9b30-3e17e05cd699');\n",
              "var x = new MutationObserver(function (mutations, observer) {{\n",
              "        var display = window.getComputedStyle(gd).display;\n",
              "        if (!display || display === 'none') {{\n",
              "            console.log([gd, 'removed!']);\n",
              "            Plotly.purge(gd);\n",
              "            observer.disconnect();\n",
              "        }}\n",
              "}});\n",
              "\n",
              "// Listen for the removal of the full notebook cells\n",
              "var notebookContainer = gd.closest('#notebook-container');\n",
              "if (notebookContainer) {{\n",
              "    x.observe(notebookContainer, {childList: true});\n",
              "}}\n",
              "\n",
              "// Listen for the clearing of the current output cell\n",
              "var outputEl = gd.closest('.output');\n",
              "if (outputEl) {{\n",
              "    x.observe(outputEl, {childList: true});\n",
              "}}\n",
              "\n",
              "                        })                };                            </script>        </div>\n",
              "</body>\n",
              "</html>"
            ]
          },
          "metadata": {}
        }
      ]
    },
    {
      "cell_type": "code",
      "source": [
        "# --- Logistic Regression Fine-tuning and Visualization ---\n",
        "\n",
        "# Define the hyperparameter grid to search\n",
        "param_grid_lr = {\n",
        "    'C': [0.1, 1, 10, 100],\n",
        "    'penalty': ['l1', 'l2'],\n",
        "    'solver': ['liblinear', 'saga'],\n",
        "}\n",
        "\n",
        "# Create a Logistic Regression model\n",
        "lr_model = LogisticRegression(random_state=42)\n",
        "\n",
        "# Create a GridSearchCV object\n",
        "grid_search_lr = GridSearchCV(estimator=lr_model, param_grid=param_grid_lr,\n",
        "                              scoring='accuracy', cv=5, n_jobs=-1, return_train_score=True)\n",
        "\n",
        "# Train the model using GridSearchCV\n",
        "grid_search_lr.fit(X_train, y_train)\n",
        "\n",
        "# Get the best model and its hyperparameters\n",
        "best_lr_model = grid_search_lr.best_estimator_\n",
        "best_lr_params = grid_search_lr.best_params_\n",
        "\n",
        "print(\"Best Logistic Regression Hyperparameters:\", best_lr_params)\n",
        "\n",
        "# Evaluate performance on the validation set\n",
        "y_pred_val_lr = best_lr_model.predict(X_val)\n",
        "accuracy_val_lr = accuracy_score(y_val, y_pred_val_lr)\n",
        "print(\"Validation Accuracy (Logistic Regression):\", accuracy_val_lr)\n",
        "\n",
        "# Visualization using Matplotlib\n",
        "results_lr = pd.DataFrame(grid_search_lr.cv_results_)\n",
        "\n",
        "# Example for 'C' vs. accuracy\n",
        "plt.plot(results_lr['param_C'], results_lr['mean_train_score'], label='Train')\n",
        "plt.plot(results_lr['param_C'], results_lr['mean_test_score'], label='Validation')\n",
        "plt.xlabel('C')\n",
        "plt.ylabel('Accuracy')\n",
        "plt.title('Logistic Regression Hyperparameter Tuning (C)')\n",
        "plt.legend()\n",
        "plt.show()\n",
        "\n"
      ],
      "metadata": {
        "colab": {
          "base_uri": "https://localhost:8080/",
          "height": 506
        },
        "id": "MKz8pNNuWJ-N",
        "outputId": "415e8203-3801-4f4b-e3e0-8aba64f82352"
      },
      "execution_count": null,
      "outputs": [
        {
          "output_type": "stream",
          "name": "stdout",
          "text": [
            "Best Logistic Regression Hyperparameters: {'C': 0.1, 'penalty': 'l2', 'solver': 'liblinear'}\n",
            "Validation Accuracy (Logistic Regression): 0.26666666666666666\n"
          ]
        },
        {
          "output_type": "display_data",
          "data": {
            "text/plain": [
              "<Figure size 640x480 with 1 Axes>"
            ],
            "image/png": "[encoded data removed]"
          },
          "metadata": {}
        }
      ]
    },
    {
      "cell_type": "markdown",
      "source": [
        " It shows the relationship between a single hyperparameter (in this case, C, which represents the inverse of regularization strength) and the model's accuracy on both the training and validation sets.\n",
        "\n",
        "Here's how to interpret it:\n",
        "\n",
        "X-axis: Represents the values of the hyperparameter C.\n",
        "Y-axis: Represents the model's accuracy.\n",
        "Two lines: One line shows the training accuracy, and the other shows the validation accuracy.\n",
        "Key insights you can gain from this plot:\n",
        "\n",
        "Effect of Regularization: Observe how changing the regularization strength (C) affects the model's accuracy. Does increasing or decreasing C lead to better performance on the validation set?\n",
        "\n",
        "Overfitting/Underfitting: Look for signs of overfitting (training accuracy much higher than validation accuracy) or underfitting (both accuracies low). Adjust C accordingly to find a good balance.\n",
        "\n",
        "Optimal value: Identify the C value that gives the highest validation accuracy while avoiding overfitting. This is a good starting point for your final model configuration."
      ],
      "metadata": {
        "id": "DGmMY4GUYb1H"
      }
    },
    {
      "cell_type": "code",
      "source": [
        "# Visualization using Plotly\n",
        "fig = px.parallel_coordinates(results_lr[['param_C', 'param_penalty', 'param_solver', 'mean_test_score']],\n",
        "                              color='mean_test_score',\n",
        "                              labels={'param_C': 'C', 'param_penalty': 'penalty', 'param_solver': 'solver',\n",
        "                                      'mean_test_score': 'Mean Validation Accuracy'},\n",
        "                              title='Logistic Regression Hyperparameter Tuning')\n",
        "fig.show()"
      ],
      "metadata": {
        "colab": {
          "base_uri": "https://localhost:8080/",
          "height": 542
        },
        "id": "2OH04Sn8YXVi",
        "outputId": "703006bc-fb19-4a59-e23b-7d108e31aa4f"
      },
      "execution_count": null,
      "outputs": [
        {
          "output_type": "display_data",
          "data": {
            "text/html": [
              "<html>\n",
              "<head><meta charset=\"utf-8\" /></head>\n",
              "<body>\n",
              "    <div>            <script src=\"https://cdnjs.cloudflare.com/ajax/libs/mathjax/2.7.5/MathJax.js?config=TeX-AMS-MML_SVG\"></script><script type=\"text/javascript\">if (window.MathJax && window.MathJax.Hub && window.MathJax.Hub.Config) {window.MathJax.Hub.Config({SVG: {font: \"STIX-Web\"}});}</script>                <script type=\"text/javascript\">window.PlotlyConfig = {MathJaxConfig: 'local'};</script>\n",
              "        <script charset=\"utf-8\" src=\"https://cdn.plot.ly/plotly-2.35.2.min.js\"></script>                <div id=\"bb4e8c7b-9d61-46ee-ae47-35de5b448e91\" class=\"plotly-graph-div\" style=\"height:525px; width:100%;\"></div>            <script type=\"text/javascript\">                                    window.PLOTLYENV=window.PLOTLYENV || {};                                    if (document.getElementById(\"bb4e8c7b-9d61-46ee-ae47-35de5b448e91\")) {                    Plotly.newPlot(                        \"bb4e8c7b-9d61-46ee-ae47-35de5b448e91\",                        [{\"dimensions\":[{\"label\":\"C\",\"values\":[0.1,0.1,0.1,0.1,1.0,1.0,1.0,1.0,10.0,10.0,10.0,10.0,100.0,100.0,100.0,100.0]},{\"label\":\"Mean Validation Accuracy\",\"values\":[0.5142857142857142,0.5285714285714286,0.6,0.6,0.5857142857142857,0.6,0.6,0.6,0.6,0.6,0.6,0.6,0.6,0.6,0.6,0.6]}],\"domain\":{\"x\":[0.0,1.0],\"y\":[0.0,1.0]},\"line\":{\"color\":[0.5142857142857142,0.5285714285714286,0.6,0.6,0.5857142857142857,0.6,0.6,0.6,0.6,0.6,0.6,0.6,0.6,0.6,0.6,0.6],\"coloraxis\":\"coloraxis\"},\"name\":\"\",\"type\":\"parcoords\"}],                        {\"template\":{\"data\":{\"histogram2dcontour\":[{\"type\":\"histogram2dcontour\",\"colorbar\":{\"outlinewidth\":0,\"ticks\":\"\"},\"colorscale\":[[0.0,\"#0d0887\"],[0.1111111111111111,\"#46039f\"],[0.2222222222222222,\"#7201a8\"],[0.3333333333333333,\"#9c179e\"],[0.4444444444444444,\"#bd3786\"],[0.5555555555555556,\"#d8576b\"],[0.6666666666666666,\"#ed7953\"],[0.7777777777777778,\"#fb9f3a\"],[0.8888888888888888,\"#fdca26\"],[1.0,\"#f0f921\"]]}],\"choropleth\":[{\"type\":\"choropleth\",\"colorbar\":{\"outlinewidth\":0,\"ticks\":\"\"}}],\"histogram2d\":[{\"type\":\"histogram2d\",\"colorbar\":{\"outlinewidth\":0,\"ticks\":\"\"},\"colorscale\":[[0.0,\"#0d0887\"],[0.1111111111111111,\"#46039f\"],[0.2222222222222222,\"#7201a8\"],[0.3333333333333333,\"#9c179e\"],[0.4444444444444444,\"#bd3786\"],[0.5555555555555556,\"#d8576b\"],[0.6666666666666666,\"#ed7953\"],[0.7777777777777778,\"#fb9f3a\"],[0.8888888888888888,\"#fdca26\"],[1.0,\"#f0f921\"]]}],\"heatmap\":[{\"type\":\"heatmap\",\"colorbar\":{\"outlinewidth\":0,\"ticks\":\"\"},\"colorscale\":[[0.0,\"#0d0887\"],[0.1111111111111111,\"#46039f\"],[0.2222222222222222,\"#7201a8\"],[0.3333333333333333,\"#9c179e\"],[0.4444444444444444,\"#bd3786\"],[0.5555555555555556,\"#d8576b\"],[0.6666666666666666,\"#ed7953\"],[0.7777777777777778,\"#fb9f3a\"],[0.8888888888888888,\"#fdca26\"],[1.0,\"#f0f921\"]]}],\"heatmapgl\":[{\"type\":\"heatmapgl\",\"colorbar\":{\"outlinewidth\":0,\"ticks\":\"\"},\"colorscale\":[[0.0,\"#0d0887\"],[0.1111111111111111,\"#46039f\"],[0.2222222222222222,\"#7201a8\"],[0.3333333333333333,\"#9c179e\"],[0.4444444444444444,\"#bd3786\"],[0.5555555555555556,\"#d8576b\"],[0.6666666666666666,\"#ed7953\"],[0.7777777777777778,\"#fb9f3a\"],[0.8888888888888888,\"#fdca26\"],[1.0,\"#f0f921\"]]}],\"contourcarpet\":[{\"type\":\"contourcarpet\",\"colorbar\":{\"outlinewidth\":0,\"ticks\":\"\"}}],\"contour\":[{\"type\":\"contour\",\"colorbar\":{\"outlinewidth\":0,\"ticks\":\"\"},\"colorscale\":[[0.0,\"#0d0887\"],[0.1111111111111111,\"#46039f\"],[0.2222222222222222,\"#7201a8\"],[0.3333333333333333,\"#9c179e\"],[0.4444444444444444,\"#bd3786\"],[0.5555555555555556,\"#d8576b\"],[0.6666666666666666,\"#ed7953\"],[0.7777777777777778,\"#fb9f3a\"],[0.8888888888888888,\"#fdca26\"],[1.0,\"#f0f921\"]]}],\"surface\":[{\"type\":\"surface\",\"colorbar\":{\"outlinewidth\":0,\"ticks\":\"\"},\"colorscale\":[[0.0,\"#0d0887\"],[0.1111111111111111,\"#46039f\"],[0.2222222222222222,\"#7201a8\"],[0.3333333333333333,\"#9c179e\"],[0.4444444444444444,\"#bd3786\"],[0.5555555555555556,\"#d8576b\"],[0.6666666666666666,\"#ed7953\"],[0.7777777777777778,\"#fb9f3a\"],[0.8888888888888888,\"#fdca26\"],[1.0,\"#f0f921\"]]}],\"mesh3d\":[{\"type\":\"mesh3d\",\"colorbar\":{\"outlinewidth\":0,\"ticks\":\"\"}}],\"scatter\":[{\"fillpattern\":{\"fillmode\":\"overlay\",\"size\":10,\"solidity\":0.2},\"type\":\"scatter\"}],\"parcoords\":[{\"type\":\"parcoords\",\"line\":{\"colorbar\":{\"outlinewidth\":0,\"ticks\":\"\"}}}],\"scatterpolargl\":[{\"type\":\"scatterpolargl\",\"marker\":{\"colorbar\":{\"outlinewidth\":0,\"ticks\":\"\"}}}],\"bar\":[{\"error_x\":{\"color\":\"#2a3f5f\"},\"error_y\":{\"color\":\"#2a3f5f\"},\"marker\":{\"line\":{\"color\":\"#E5ECF6\",\"width\":0.5},\"pattern\":{\"fillmode\":\"overlay\",\"size\":10,\"solidity\":0.2}},\"type\":\"bar\"}],\"scattergeo\":[{\"type\":\"scattergeo\",\"marker\":{\"colorbar\":{\"outlinewidth\":0,\"ticks\":\"\"}}}],\"scatterpolar\":[{\"type\":\"scatterpolar\",\"marker\":{\"colorbar\":{\"outlinewidth\":0,\"ticks\":\"\"}}}],\"histogram\":[{\"marker\":{\"pattern\":{\"fillmode\":\"overlay\",\"size\":10,\"solidity\":0.2}},\"type\":\"histogram\"}],\"scattergl\":[{\"type\":\"scattergl\",\"marker\":{\"colorbar\":{\"outlinewidth\":0,\"ticks\":\"\"}}}],\"scatter3d\":[{\"type\":\"scatter3d\",\"line\":{\"colorbar\":{\"outlinewidth\":0,\"ticks\":\"\"}},\"marker\":{\"colorbar\":{\"outlinewidth\":0,\"ticks\":\"\"}}}],\"scattermapbox\":[{\"type\":\"scattermapbox\",\"marker\":{\"colorbar\":{\"outlinewidth\":0,\"ticks\":\"\"}}}],\"scatterternary\":[{\"type\":\"scatterternary\",\"marker\":{\"colorbar\":{\"outlinewidth\":0,\"ticks\":\"\"}}}],\"scattercarpet\":[{\"type\":\"scattercarpet\",\"marker\":{\"colorbar\":{\"outlinewidth\":0,\"ticks\":\"\"}}}],\"carpet\":[{\"aaxis\":{\"endlinecolor\":\"#2a3f5f\",\"gridcolor\":\"white\",\"linecolor\":\"white\",\"minorgridcolor\":\"white\",\"startlinecolor\":\"#2a3f5f\"},\"baxis\":{\"endlinecolor\":\"#2a3f5f\",\"gridcolor\":\"white\",\"linecolor\":\"white\",\"minorgridcolor\":\"white\",\"startlinecolor\":\"#2a3f5f\"},\"type\":\"carpet\"}],\"table\":[{\"cells\":{\"fill\":{\"color\":\"#EBF0F8\"},\"line\":{\"color\":\"white\"}},\"header\":{\"fill\":{\"color\":\"#C8D4E3\"},\"line\":{\"color\":\"white\"}},\"type\":\"table\"}],\"barpolar\":[{\"marker\":{\"line\":{\"color\":\"#E5ECF6\",\"width\":0.5},\"pattern\":{\"fillmode\":\"overlay\",\"size\":10,\"solidity\":0.2}},\"type\":\"barpolar\"}],\"pie\":[{\"automargin\":true,\"type\":\"pie\"}]},\"layout\":{\"autotypenumbers\":\"strict\",\"colorway\":[\"#636efa\",\"#EF553B\",\"#00cc96\",\"#ab63fa\",\"#FFA15A\",\"#19d3f3\",\"#FF6692\",\"#B6E880\",\"#FF97FF\",\"#FECB52\"],\"font\":{\"color\":\"#2a3f5f\"},\"hovermode\":\"closest\",\"hoverlabel\":{\"align\":\"left\"},\"paper_bgcolor\":\"white\",\"plot_bgcolor\":\"#E5ECF6\",\"polar\":{\"bgcolor\":\"#E5ECF6\",\"angularaxis\":{\"gridcolor\":\"white\",\"linecolor\":\"white\",\"ticks\":\"\"},\"radialaxis\":{\"gridcolor\":\"white\",\"linecolor\":\"white\",\"ticks\":\"\"}},\"ternary\":{\"bgcolor\":\"#E5ECF6\",\"aaxis\":{\"gridcolor\":\"white\",\"linecolor\":\"white\",\"ticks\":\"\"},\"baxis\":{\"gridcolor\":\"white\",\"linecolor\":\"white\",\"ticks\":\"\"},\"caxis\":{\"gridcolor\":\"white\",\"linecolor\":\"white\",\"ticks\":\"\"}},\"coloraxis\":{\"colorbar\":{\"outlinewidth\":0,\"ticks\":\"\"}},\"colorscale\":{\"sequential\":[[0.0,\"#0d0887\"],[0.1111111111111111,\"#46039f\"],[0.2222222222222222,\"#7201a8\"],[0.3333333333333333,\"#9c179e\"],[0.4444444444444444,\"#bd3786\"],[0.5555555555555556,\"#d8576b\"],[0.6666666666666666,\"#ed7953\"],[0.7777777777777778,\"#fb9f3a\"],[0.8888888888888888,\"#fdca26\"],[1.0,\"#f0f921\"]],\"sequentialminus\":[[0.0,\"#0d0887\"],[0.1111111111111111,\"#46039f\"],[0.2222222222222222,\"#7201a8\"],[0.3333333333333333,\"#9c179e\"],[0.4444444444444444,\"#bd3786\"],[0.5555555555555556,\"#d8576b\"],[0.6666666666666666,\"#ed7953\"],[0.7777777777777778,\"#fb9f3a\"],[0.8888888888888888,\"#fdca26\"],[1.0,\"#f0f921\"]],\"diverging\":[[0,\"#8e0152\"],[0.1,\"#c51b7d\"],[0.2,\"#de77ae\"],[0.3,\"#f1b6da\"],[0.4,\"#fde0ef\"],[0.5,\"#f7f7f7\"],[0.6,\"#e6f5d0\"],[0.7,\"#b8e186\"],[0.8,\"#7fbc41\"],[0.9,\"#4d9221\"],[1,\"#276419\"]]},\"xaxis\":{\"gridcolor\":\"white\",\"linecolor\":\"white\",\"ticks\":\"\",\"title\":{\"standoff\":15},\"zerolinecolor\":\"white\",\"automargin\":true,\"zerolinewidth\":2},\"yaxis\":{\"gridcolor\":\"white\",\"linecolor\":\"white\",\"ticks\":\"\",\"title\":{\"standoff\":15},\"zerolinecolor\":\"white\",\"automargin\":true,\"zerolinewidth\":2},\"scene\":{\"xaxis\":{\"backgroundcolor\":\"#E5ECF6\",\"gridcolor\":\"white\",\"linecolor\":\"white\",\"showbackground\":true,\"ticks\":\"\",\"zerolinecolor\":\"white\",\"gridwidth\":2},\"yaxis\":{\"backgroundcolor\":\"#E5ECF6\",\"gridcolor\":\"white\",\"linecolor\":\"white\",\"showbackground\":true,\"ticks\":\"\",\"zerolinecolor\":\"white\",\"gridwidth\":2},\"zaxis\":{\"backgroundcolor\":\"#E5ECF6\",\"gridcolor\":\"white\",\"linecolor\":\"white\",\"showbackground\":true,\"ticks\":\"\",\"zerolinecolor\":\"white\",\"gridwidth\":2}},\"shapedefaults\":{\"line\":{\"color\":\"#2a3f5f\"}},\"annotationdefaults\":{\"arrowcolor\":\"#2a3f5f\",\"arrowhead\":0,\"arrowwidth\":1},\"geo\":{\"bgcolor\":\"white\",\"landcolor\":\"#E5ECF6\",\"subunitcolor\":\"white\",\"showland\":true,\"showlakes\":true,\"lakecolor\":\"white\"},\"title\":{\"x\":0.05},\"mapbox\":{\"style\":\"light\"}}},\"coloraxis\":{\"colorbar\":{\"title\":{\"text\":\"Mean Validation Accuracy\"}},\"colorscale\":[[0.0,\"#0d0887\"],[0.1111111111111111,\"#46039f\"],[0.2222222222222222,\"#7201a8\"],[0.3333333333333333,\"#9c179e\"],[0.4444444444444444,\"#bd3786\"],[0.5555555555555556,\"#d8576b\"],[0.6666666666666666,\"#ed7953\"],[0.7777777777777778,\"#fb9f3a\"],[0.8888888888888888,\"#fdca26\"],[1.0,\"#f0f921\"]]},\"legend\":{\"tracegroupgap\":0},\"title\":{\"text\":\"Logistic Regression Hyperparameter Tuning\"}},                        {\"responsive\": true}                    ).then(function(){\n",
              "                            \n",
              "var gd = document.getElementById('bb4e8c7b-9d61-46ee-ae47-35de5b448e91');\n",
              "var x = new MutationObserver(function (mutations, observer) {{\n",
              "        var display = window.getComputedStyle(gd).display;\n",
              "        if (!display || display === 'none') {{\n",
              "            console.log([gd, 'removed!']);\n",
              "            Plotly.purge(gd);\n",
              "            observer.disconnect();\n",
              "        }}\n",
              "}});\n",
              "\n",
              "// Listen for the removal of the full notebook cells\n",
              "var notebookContainer = gd.closest('#notebook-container');\n",
              "if (notebookContainer) {{\n",
              "    x.observe(notebookContainer, {childList: true});\n",
              "}}\n",
              "\n",
              "// Listen for the clearing of the current output cell\n",
              "var outputEl = gd.closest('.output');\n",
              "if (outputEl) {{\n",
              "    x.observe(outputEl, {childList: true});\n",
              "}}\n",
              "\n",
              "                        })                };                            </script>        </div>\n",
              "</body>\n",
              "</html>"
            ]
          },
          "metadata": {}
        }
      ]
    },
    {
      "cell_type": "markdown",
      "source": [
        "Visualization: Hyperparameter tuning results are visualized using Matplotlib and Plotly to understand the impact of different parameters on model performance."
      ],
      "metadata": {
        "id": "ZwXg9b2gv9ih"
      }
    },
    {
      "cell_type": "markdown",
      "source": [
        "The Plotly visualization for Logistic Regression is a parallel coordinates plot. It allows you to explore the relationship between all hyperparameters (C, penalty, and solver) and the model's mean validation accuracy simultaneously.\n",
        "\n",
        "Here's how to interpret it:\n",
        "\n",
        "Vertical axes: Each vertical axis represents a different hyperparameter (C, penalty, solver).\n",
        "Lines: Each line in the plot represents a different combination of hyperparameter values.\n",
        "Color: The color of the line indicates the mean validation accuracy achieved with that specific combination of hyperparameters. Darker colors usually represent higher accuracy.\n",
        "Key insights you can gain from this plot:\n",
        "\n",
        "Hyperparameter Interactions: Observe how different combinations of hyperparameters affect the model's accuracy. Are there any clear patterns or trends?\n",
        "\n",
        "Impact of Individual Hyperparameters: By tracing the lines across the axes, you can see how changing a single hyperparameter affects the accuracy while holding others constant.\n",
        "\n",
        "Optimal Combinations: Identify the lines with the darkest colors, indicating the hyperparameter combinations that lead to the highest validation accuracy.\n",
        "\n",
        "Trade-offs: Understand the trade-offs between different hyperparameters. For example, you might find that certain penalties (l1 or l2) perform better with specific solvers (liblinear or saga)."
      ],
      "metadata": {
        "id": "h6QcBkV4YDYS"
      }
    },
    {
      "cell_type": "markdown",
      "source": [
        "Matplotlib visualization: Provides a focused view of the relationship between one hyperparameter (C) and accuracy, helping you understand the effect of regularization and identify potential overfitting/underfitting.\n",
        "\n",
        "Plotly visualization: Offers a comprehensive and interactive way to explore the entire hyperparameter space for Logistic Regression, allowing you to understand interactions and identify optimal combinations of hyperparameters for maximizing validation accuracy.\n",
        "\n",
        "By combining both visualizations, you gain a more complete understanding of how hyperparameters influence the performance of your Logistic Regression model, enabling you to make more informed decisions during the tuning process."
      ],
      "metadata": {
        "id": "rwDpUnE3YfmT"
      }
    },
    {
      "cell_type": "markdown",
      "source": [
        "# Airport Resource Optimization\n",
        "\n",
        "A linear programming model is built using PuLP to optimize gate assignments for flights, aiming to minimize total turnaround time. Constraints are added to ensure that each flight is assigned to exactly one gate. The model is solved to obtain the optimal gate assignments."
      ],
      "metadata": {
        "id": "hXzlBxrDaPi3"
      }
    },
    {
      "cell_type": "code",
      "source": [
        "!pip install pulp shap seaborn plotly"
      ],
      "metadata": {
        "colab": {
          "base_uri": "https://localhost:8080/"
        },
        "id": "tEhSWRzFaFgs",
        "outputId": "a1c8dd62-93c5-4b9d-fdbe-b38eb9c4824a"
      },
      "execution_count": null,
      "outputs": [
        {
          "output_type": "stream",
          "name": "stdout",
          "text": [
            "Collecting pulp\n",
            "  Downloading pulp-3.1.1-py3-none-any.whl.metadata (1.3 kB)\n",
            "Requirement already satisfied: shap in /usr/local/lib/python3.11/dist-packages (0.47.0)\n",
            "Requirement already satisfied: seaborn in /usr/local/lib/python3.11/dist-packages (0.13.2)\n",
            "Requirement already satisfied: plotly in /usr/local/lib/python3.11/dist-packages (5.24.1)\n",
            "Requirement already satisfied: numpy in /usr/local/lib/python3.11/dist-packages (from shap) (2.0.2)\n",
            "Requirement already satisfied: scipy in /usr/local/lib/python3.11/dist-packages (from shap) (1.14.1)\n",
            "Requirement already satisfied: scikit-learn in /usr/local/lib/python3.11/dist-packages (from shap) (1.6.1)\n",
            "Requirement already satisfied: pandas in /usr/local/lib/python3.11/dist-packages (from shap) (2.2.2)\n",
            "Requirement already satisfied: tqdm>=4.27.0 in /usr/local/lib/python3.11/dist-packages (from shap) (4.67.1)\n",
            "Requirement already satisfied: packaging>20.9 in /usr/local/lib/python3.11/dist-packages (from shap) (24.2)\n",
            "Requirement already satisfied: slicer==0.0.8 in /usr/local/lib/python3.11/dist-packages (from shap) (0.0.8)\n",
            "Requirement already satisfied: numba>=0.54 in /usr/local/lib/python3.11/dist-packages (from shap) (0.60.0)\n",
            "Requirement already satisfied: cloudpickle in /usr/local/lib/python3.11/dist-packages (from shap) (3.1.1)\n",
            "Requirement already satisfied: typing-extensions in /usr/local/lib/python3.11/dist-packages (from shap) (4.12.2)\n",
            "Requirement already satisfied: matplotlib!=3.6.1,>=3.4 in /usr/local/lib/python3.11/dist-packages (from seaborn) (3.10.0)\n",
            "Requirement already satisfied: tenacity>=6.2.0 in /usr/local/lib/python3.11/dist-packages (from plotly) (9.0.0)\n",
            "Requirement already satisfied: contourpy>=1.0.1 in /usr/local/lib/python3.11/dist-packages (from matplotlib!=3.6.1,>=3.4->seaborn) (1.3.1)\n",
            "Requirement already satisfied: cycler>=0.10 in /usr/local/lib/python3.11/dist-packages (from matplotlib!=3.6.1,>=3.4->seaborn) (0.12.1)\n",
            "Requirement already satisfied: fonttools>=4.22.0 in /usr/local/lib/python3.11/dist-packages (from matplotlib!=3.6.1,>=3.4->seaborn) (4.56.0)\n",
            "Requirement already satisfied: kiwisolver>=1.3.1 in /usr/local/lib/python3.11/dist-packages (from matplotlib!=3.6.1,>=3.4->seaborn) (1.4.8)\n",
            "Requirement already satisfied: pillow>=8 in /usr/local/lib/python3.11/dist-packages (from matplotlib!=3.6.1,>=3.4->seaborn) (11.1.0)\n",
            "Requirement already satisfied: pyparsing>=2.3.1 in /usr/local/lib/python3.11/dist-packages (from matplotlib!=3.6.1,>=3.4->seaborn) (3.2.1)\n",
            "Requirement already satisfied: python-dateutil>=2.7 in /usr/local/lib/python3.11/dist-packages (from matplotlib!=3.6.1,>=3.4->seaborn) (2.8.2)\n",
            "Requirement already satisfied: llvmlite<0.44,>=0.43.0dev0 in /usr/local/lib/python3.11/dist-packages (from numba>=0.54->shap) (0.43.0)\n",
            "Requirement already satisfied: pytz>=2020.1 in /usr/local/lib/python3.11/dist-packages (from pandas->shap) (2025.1)\n",
            "Requirement already satisfied: tzdata>=2022.7 in /usr/local/lib/python3.11/dist-packages (from pandas->shap) (2025.1)\n",
            "Requirement already satisfied: joblib>=1.2.0 in /usr/local/lib/python3.11/dist-packages (from scikit-learn->shap) (1.4.2)\n",
            "Requirement already satisfied: threadpoolctl>=3.1.0 in /usr/local/lib/python3.11/dist-packages (from scikit-learn->shap) (3.6.0)\n",
            "Requirement already satisfied: six>=1.5 in /usr/local/lib/python3.11/dist-packages (from python-dateutil>=2.7->matplotlib!=3.6.1,>=3.4->seaborn) (1.17.0)\n",
            "Downloading pulp-3.1.1-py3-none-any.whl (16.4 MB)\n",
            "\u001b[2K   \u001b[90m━━━━━━━━━━━━━━━━━━━━━━━━━━━━━━━━━━━━━━━━\u001b[0m \u001b[32m16.4/16.4 MB\u001b[0m \u001b[31m55.3 MB/s\u001b[0m eta \u001b[36m0:00:00\u001b[0m\n",
            "\u001b[?25hInstalling collected packages: pulp\n",
            "Successfully installed pulp-3.1.1\n"
          ]
        }
      ]
    },
    {
      "cell_type": "code",
      "source": [
        "import pulp\n",
        "import shap\n",
        "import seaborn as sns\n",
        "import plotly.express as px\n",
        "import matplotlib.pyplot as plt\n",
        "import pandas as pd"
      ],
      "metadata": {
        "id": "m_kEg2F6akc8"
      },
      "execution_count": null,
      "outputs": []
    },
    {
      "cell_type": "code",
      "source": [
        "# Assuming 'best_xgb_model' is your trained XGBoost model\n",
        "# 'new_flight_data' is a DataFrame with features for new flights\n",
        "# ----> Create a sample new_flight_data (replace with your actual data)\n",
        "\n",
        "# Ensure new_flight_data has the same features as the training data\n",
        "new_flight_data = pd.DataFrame({\n",
        "    'departure_hour': [10, 14, 18],\n",
        "    'flight_distance': [2000, 3500, 1200],\n",
        "    'flight_duration': [3.5, 5.2, 2.1],\n",
        "    'departure_dayofweek': [2, 4, 6],  # Wednesday, Friday, Sunday\n",
        "    # 'departure_month': [12, 12, 12]    # December - Remove this to match training data\n",
        "})\n",
        "\n",
        "\n",
        "predicted_turnaround_times = best_xgb_model.predict(new_flight_data)\n",
        "# Create a new DataFrame for the predictions instead of adding it to the original flight_data\n",
        "predictions_df = pd.DataFrame({'predicted_turnaround': predicted_turnaround_times})\n",
        "\n",
        "# Optionally, reset index of new_flight_data if it doesn't start from 0\n",
        "new_flight_data.reset_index(drop=True, inplace=True)\n",
        "\n",
        "# Concatenate predictions with new_flight_data\n",
        "new_flight_data = pd.concat([new_flight_data, predictions_df], axis=1)\n",
        "\n",
        "# Now new_flight_data contains the predictions\n",
        "print(new_flight_data)"
      ],
      "metadata": {
        "colab": {
          "base_uri": "https://localhost:8080/"
        },
        "id": "vmDoFEzsasOp",
        "outputId": "dae4edd3-f13d-4ec6-afc7-ba8932f001a8"
      },
      "execution_count": null,
      "outputs": [
        {
          "output_type": "stream",
          "name": "stdout",
          "text": [
            "   departure_hour  flight_distance  flight_duration  departure_dayofweek  \\\n",
            "0              10             2000              3.5                    2   \n",
            "1              14             3500              5.2                    4   \n",
            "2              18             1200              2.1                    6   \n",
            "\n",
            "   predicted_turnaround  \n",
            "0                     0  \n",
            "1                     1  \n",
            "2                     1  \n"
          ]
        }
      ]
    },
    {
      "cell_type": "code",
      "source": [
        "# Define problem\n",
        "problem = pulp.LpProblem(\"AirportResourceAllocation\", pulp.LpMinimize)\n",
        "\n",
        "# Define flight IDs (replace with your actual flight IDs)\n",
        "flight_ids = new_flight_data.index  # Assuming index represents flight IDs\n",
        "\n",
        "# Define gate IDs (replace with your actual gate IDs)\n",
        "gate_ids = ['A1', 'A2', 'A3']  # Example gate IDs\n",
        "\n",
        "# Define decision variables (e.g., gate assignments)\n",
        "# Gate assignments (binary variables: 1 if flight assigned to gate, 0 otherwise)\n",
        "gate_assignments = pulp.LpVariable.dicts(\"gate_assignment\",\n",
        "                                        ((flight_id, gate_id) for flight_id in flight_ids for gate_id in gate_ids),\n",
        "                                        cat='Binary')\n",
        "\n",
        "# Assuming 'predicted_turnaround' column exists in your new_flight_data\n",
        "# Replace with the actual column name if different\n",
        "problem += pulp.lpSum([new_flight_data.loc[flight_id, 'predicted_turnaround'] * gate_assignments[(flight_id, gate_id)]\n",
        "                       for flight_id in flight_ids for gate_id in gate_ids])\n",
        "\n",
        "# --- Define Constraints ---\n",
        "# 1. Each flight must be assigned to exactly one gate\n",
        "for flight_id in flight_ids:\n",
        "    problem += pulp.lpSum([gate_assignments[(flight_id, gate_id)] for gate_id in gate_ids]) == 1\n",
        "\n",
        "# Solve the problem\n",
        "problem.solve()\n",
        "\n",
        "# Extract optimized resource allocation\n",
        "optimized_gate_assignments = {}  # Dictionary to store assignments\n",
        "for flight_id in flight_ids:\n",
        "    for gate_id in gate_ids:\n",
        "        if gate_assignments[(flight_id, gate_id)].varValue == 1:  # Check if the variable is 1\n",
        "            optimized_gate_assignments[flight_id] = gate_id\n",
        "            break  # Move to the next flight\n",
        "\n",
        "# Now you have a dictionary 'optimized_gate_assignments'\n",
        "# where keys are flight IDs and values are the assigned gate IDs\n",
        "print(optimized_gate_assignments)"
      ],
      "metadata": {
        "colab": {
          "base_uri": "https://localhost:8080/"
        },
        "id": "MaDyM2yybLT1",
        "outputId": "6cdc3adc-9cd0-46e6-8723-fea5da5803f3"
      },
      "execution_count": null,
      "outputs": [
        {
          "output_type": "stream",
          "name": "stdout",
          "text": [
            "{0: 'A3', 1: 'A3', 2: 'A3'}\n"
          ]
        }
      ]
    },
    {
      "cell_type": "markdown",
      "source": [
        "# Simulation\n",
        "\n",
        " A simulation is implemented to assess the impact of the optimized gate assignments on airport operations. Random variations are introduced in turnaround times to mimic real-world scenarios. Total departure delay is calculated based on the simulation results."
      ],
      "metadata": {
        "id": "fXOkW3HadDEk"
      }
    },
    {
      "cell_type": "code",
      "source": [
        "\n",
        "\n",
        "import random  # For simulating random events\n",
        "\n",
        "\n",
        "# Ensure new_flight_data has the same features as the training data\n",
        "new_flight_data = pd.DataFrame({\n",
        "    'flight_id': ['F1', 'F2', 'F3'],  # Add flight_id column\n",
        "    'departure_hour': [10, 14, 18],\n",
        "    'flight_distance': [2000, 3500, 1200],\n",
        "    'flight_duration': [3.5, 5.2, 2.1],\n",
        "    'departure_dayofweek': [2, 4, 6],  # Wednesday, Friday, Sunday\n",
        "    'arrival_time': [10, 12, 14],     # Add arrival_time - Example values\n",
        "    'departure_time': [14, 17, 19]    # Add departure_time - Example values\n",
        "})\n",
        "\n",
        "predicted_turnaround_times = best_xgb_model.predict(new_flight_data[['departure_hour', 'flight_distance', 'flight_duration', 'departure_dayofweek']])  # Predict only on required features\n",
        "predictions_df = pd.DataFrame({'predicted_turnaround': predicted_turnaround_times})\n",
        "\n",
        "# Concatenate predictions with new_flight_data\n",
        "new_flight_data = pd.concat([new_flight_data, predictions_df], axis=1)\n",
        "\n",
        "# Now new_flight_data contains the predictions and flight_id\n",
        "print(new_flight_data)\n",
        "\n",
        "\n",
        "# ... (Your optimization logic using flight_ids from new_flight_data['flight_id']) ...\n",
        "\n",
        "def simulate_flight(flight_id, gate_id, ground_staff_id, baggage_handling_id, flight_data):  # Pass flight_data\n",
        "    # Get flight details using flight_id\n",
        "    flight_row = flight_data[flight_data['flight_id'] == flight_id].iloc[0]  # Access row by flight_id\n",
        "    arrival_time = flight_row['arrival_time']\n",
        "    departure_time = flight_row['departure_time']\n",
        "    turnaround_time = flight_row['predicted_turnaround']\n",
        "\n",
        "    # Simulate turnaround time with some randomness\n",
        "    turnaround_time += random.uniform(-0.5, 0.5)  # Add some random variation\n",
        "\n",
        "    # Calculate departure delay (if any)\n",
        "    departure_delay = max(0, arrival_time + turnaround_time - departure_time)\n",
        "\n",
        "    # ... (Add more simulation logic for ground staff, baggage handling, etc.)\n",
        "\n",
        "    return departure_delay  # Return the departure delay for this flight\n",
        "\n",
        "# Define ground staff IDs\n",
        "ground_staff_ids = ['GS1', 'GS2', 'GS3']  # Example ground staff IDs\n",
        "\n",
        "# Define baggage handling unit IDs\n",
        "baggage_handling_ids = ['BH1', 'BH2']  # Example baggage handling unit IDs\n",
        "\n",
        "# Create dictionaries for optimized assignments (initialize as empty)\n",
        "optimized_ground_staff_assignments = {}\n",
        "optimized_baggage_handling_assignments = {}\n",
        "\n",
        "# --- Add optimization logic for ground staff and baggage handling similar to gate assignments ---\n",
        "# (Example using random assignments for illustration)\n",
        "flight_ids = new_flight_data['flight_id'] # Get flight_ids from the 'flight_id' column\n",
        "for flight_id in flight_ids:\n",
        "    optimized_ground_staff_assignments[flight_id] = random.choice(ground_staff_ids)\n",
        "    optimized_baggage_handling_assignments[flight_id] = random.choice(baggage_handling_ids)\n",
        "\n",
        "\n",
        "\n",
        "# Simulation loop\n",
        "total_delay = 0\n",
        "for flight_id in flight_ids:\n",
        "    gate_id = optimized_gate_assignments.get(flight_id)  # Get assigned gate\n",
        "    ground_staff_id = optimized_ground_staff_assignments.get(flight_id)  # Get assigned ground staff\n",
        "    baggage_handling_id = optimized_baggage_handling_assignments.get(flight_id)  # Get assigned baggage handling unit\n",
        "\n",
        "    # Check if resources are assigned\n",
        "    if gate_id is not None and ground_staff_id is not None and baggage_handling_id is not None:\n",
        "        delay = simulate_flight(flight_id, gate_id, ground_staff_id, baggage_handling_id, new_flight_data)  # Pass flight_data to the function\n",
        "        total_delay += delay\n",
        "    else:\n",
        "        print(f\"Flight {flight_id} could not be assigned all necessary resources.\")\n",
        "\n",
        "# Print overall simulation results\n",
        "print(\"Total departure delay:\", total_delay)\n",
        "total_delay = 0\n",
        "for flight_id in flight_ids:\n",
        "    gate_id = optimized_gate_assignments.get(flight_id)  # Get assigned gate\n",
        "    ground_staff_id = optimized_ground_staff_assignments.get(flight_id)  # Get assigned ground staff\n",
        "    baggage_handling_id = optimized_baggage_handling_assignments.get(flight_id)  # Get assigned baggage handling unit\n",
        "\n",
        "    # Check if resources are assigned\n",
        "    if gate_id is not None and ground_staff_id is not None and baggage_handling_id is not None:\n",
        "        delay = simulate_flight(flight_id, gate_id, ground_staff_id, baggage_handling_id, new_flight_data)  # Pass flight_data to the function\n",
        "        total_delay += delay\n",
        "    else:\n",
        "        print(f\"Flight {flight_id} could not be assigned all necessary resources.\")\n",
        "\n",
        "# Print overall simulation results\n",
        "print(\"Total departure delay:\", total_delay)"
      ],
      "metadata": {
        "colab": {
          "base_uri": "https://localhost:8080/"
        },
        "id": "VkVaXDqHdKCb",
        "outputId": "cd75879b-e94c-4f4c-a1ae-545eaf0897c7"
      },
      "execution_count": null,
      "outputs": [
        {
          "output_type": "stream",
          "name": "stdout",
          "text": [
            "  flight_id  departure_hour  flight_distance  flight_duration  \\\n",
            "0        F1              10             2000              3.5   \n",
            "1        F2              14             3500              5.2   \n",
            "2        F3              18             1200              2.1   \n",
            "\n",
            "   departure_dayofweek  arrival_time  departure_time  predicted_turnaround  \n",
            "0                    2            10              14                     0  \n",
            "1                    4            12              17                     1  \n",
            "2                    6            14              19                     1  \n",
            "Flight F1 could not be assigned all necessary resources.\n",
            "Flight F2 could not be assigned all necessary resources.\n",
            "Flight F3 could not be assigned all necessary resources.\n",
            "Total departure delay: 0\n",
            "Flight F1 could not be assigned all necessary resources.\n",
            "Flight F2 could not be assigned all necessary resources.\n",
            "Flight F3 could not be assigned all necessary resources.\n",
            "Total departure delay: 0\n"
          ]
        }
      ]
    },
    {
      "cell_type": "markdown",
      "source": [
        "# Model Interpretation\n",
        "\n",
        "SHAP values are used to interpret the model's predictions and understand the contributions of different features. A SHAP summary plot is generated to visualize feature importance and their impact on the target variable.\n"
      ],
      "metadata": {
        "id": "2syRiBWvwMb1"
      }
    },
    {
      "cell_type": "code",
      "source": [
        "# Interpret Model Predictions (SHAP values)\n",
        "explainer = shap.TreeExplainer(best_xgb_model)\n",
        "shap_values = explainer.shap_values(X_test)\n",
        "shap.summary_plot(shap_values, X_test, feature_names=features.columns)\n",
        "\n",
        "# Feature Importance\n",
        "feature_importances = best_xgb_model.feature_importances_\n",
        "# ... (Code to visualize or display feature importances)"
      ],
      "metadata": {
        "colab": {
          "base_uri": "https://localhost:8080/",
          "height": 316
        },
        "id": "y5fV3F6mgaNq",
        "outputId": "b5f4693e-00fe-4d6f-c3f5-8a5acc976150"
      },
      "execution_count": null,
      "outputs": [
        {
          "output_type": "display_data",
          "data": {
            "text/plain": [
              "<Figure size 800x310 with 2 Axes>"
            ],
            "image/png": "[encoded data removed]"
          },
          "metadata": {}
        }
      ]
    },
    {
      "cell_type": "markdown",
      "source": [
        "The SHAP summary plot provides insights into the factors that influence flight status predictions, helping to identify the most critical features."
      ],
      "metadata": {
        "id": "dF3rj_D2wl_v"
      }
    },
    {
      "cell_type": "markdown",
      "source": [
        "# Visualization of Airport Congestion\n",
        "\n",
        "A heatmap is created using Seaborn to visualize airport congestion levels across different gates and hours of the day. This provides a clear and intuitive representation of airport operational patterns.\n",
        "\n"
      ],
      "metadata": {
        "id": "1PyhuqZGwaCt"
      }
    },
    {
      "cell_type": "code",
      "source": [
        "import seaborn as sns\n",
        "import pandas as pd\n",
        "\n",
        "# Create a DataFrame with congestion data (example)\n",
        "congestion_data = pd.DataFrame({\n",
        "    'hour': [8, 9, 10, 11, 12, 13, 14, 15, 16, 17, 18],\n",
        "    'gate': ['A1', 'A2', 'A3', 'A4', 'A5', 'A6', 'A7', 'A8', 'A9', 'A10', 'A11'],\n",
        "    'congestion_level': [2, 3, 5, 4, 6, 7, 8, 7, 6, 4, 3]  # Example congestion levels\n",
        "})\n",
        "\n",
        "# Pivot the data for the heatmap\n",
        "congestion_heatmap = congestion_data.pivot(index=\"hour\", columns=\"gate\", values=\"congestion_level\")\n",
        "\n",
        "# Create the heatmap\n",
        "plt.figure(figsize=(10, 6))\n",
        "sns.heatmap(congestion_heatmap, annot=True, cmap=\"YlGnBu\", fmt=\".0f\", cbar_kws={'label': 'Congestion Level'})\n",
        "plt.title(\"Airport Congestion Heatmap\")\n",
        "plt.xlabel(\"Gate\")\n",
        "plt.ylabel(\"Hour of Day\")\n",
        "plt.show()"
      ],
      "metadata": {
        "colab": {
          "base_uri": "https://localhost:8080/",
          "height": 564
        },
        "id": "4LJAa6cpjAIj",
        "outputId": "e8bc2d5e-bd9a-4d8c-a68f-0143971066b2"
      },
      "execution_count": null,
      "outputs": [
        {
          "output_type": "display_data",
          "data": {
            "text/plain": [
              "<Figure size 1000x600 with 2 Axes>"
            ],
            "image/png": "[encoded data removed]"
          },
          "metadata": {}
        }
      ]
    },
    {
      "cell_type": "code",
      "source": [
        "import plotly.express as px\n",
        "import pandas as pd\n",
        "\n",
        "# Create a DataFrame with congestion data (example)\n",
        "congestion_data = pd.DataFrame({\n",
        "    'hour': [8, 9, 10, 11, 12, 13, 14, 15, 16, 17, 18],\n",
        "    'gate': ['A1', 'A2', 'A3', 'A4', 'A5', 'A6', 'A7', 'A8', 'A9', 'A10', 'A11'],\n",
        "    'congestion_level': [2, 3, 5, 4, 6, 7, 8, 7, 6, 4, 3]  # Example congestion levels\n",
        "})\n",
        "\n",
        "# Create the heatmap using Plotly Express\n",
        "fig = px.imshow(\n",
        "    congestion_data.pivot(index=\"hour\", columns=\"gate\", values=\"congestion_level\"),  # Pivot the data\n",
        "    labels=dict(x=\"Gate\", y=\"Hour of Day\", color=\"Congestion Level\"),\n",
        "    x=congestion_data['gate'].unique(),  # Set x-axis categories\n",
        "    y=congestion_data['hour'].unique(),  # Set y-axis categories\n",
        "    color_continuous_scale=\"YlGnBu\"  # Use the same color scale as Seaborn\n",
        ")\n",
        "\n",
        "fig.update_layout(title_text=\"Airport Congestion Heatmap\")\n",
        "fig.show()"
      ],
      "metadata": {
        "colab": {
          "base_uri": "https://localhost:8080/",
          "height": 542
        },
        "id": "IxlwObRbjN0y",
        "outputId": "51ebd3af-dc98-4ce4-db7b-7076087e6418"
      },
      "execution_count": null,
      "outputs": [
        {
          "output_type": "display_data",
          "data": {
            "text/html": [
              "<html>\n",
              "<head><meta charset=\"utf-8\" /></head>\n",
              "<body>\n",
              "    <div>            <script src=\"https://cdnjs.cloudflare.com/ajax/libs/mathjax/2.7.5/MathJax.js?config=TeX-AMS-MML_SVG\"></script><script type=\"text/javascript\">if (window.MathJax && window.MathJax.Hub && window.MathJax.Hub.Config) {window.MathJax.Hub.Config({SVG: {font: \"STIX-Web\"}});}</script>                <script type=\"text/javascript\">window.PlotlyConfig = {MathJaxConfig: 'local'};</script>\n",
              "        <script charset=\"utf-8\" src=\"https://cdn.plot.ly/plotly-2.35.2.min.js\"></script>                <div id=\"711e4312-ff13-48a7-801e-54e06cf62bbc\" class=\"plotly-graph-div\" style=\"height:525px; width:100%;\"></div>            <script type=\"text/javascript\">                                    window.PLOTLYENV=window.PLOTLYENV || {};                                    if (document.getElementById(\"711e4312-ff13-48a7-801e-54e06cf62bbc\")) {                    Plotly.newPlot(                        \"711e4312-ff13-48a7-801e-54e06cf62bbc\",                        [{\"coloraxis\":\"coloraxis\",\"name\":\"0\",\"x\":[\"A1\",\"A2\",\"A3\",\"A4\",\"A5\",\"A6\",\"A7\",\"A8\",\"A9\",\"A10\",\"A11\"],\"y\":[8,9,10,11,12,13,14,15,16,17,18],\"z\":[[2.0,null,null,null,null,null,null,null,null,null,null],[null,null,null,3.0,null,null,null,null,null,null,null],[null,null,null,null,5.0,null,null,null,null,null,null],[null,null,null,null,null,4.0,null,null,null,null,null],[null,null,null,null,null,null,6.0,null,null,null,null],[null,null,null,null,null,null,null,7.0,null,null,null],[null,null,null,null,null,null,null,null,8.0,null,null],[null,null,null,null,null,null,null,null,null,7.0,null],[null,null,null,null,null,null,null,null,null,null,6.0],[null,4.0,null,null,null,null,null,null,null,null,null],[null,null,3.0,null,null,null,null,null,null,null,null]],\"type\":\"heatmap\",\"xaxis\":\"x\",\"yaxis\":\"y\",\"hovertemplate\":\"Gate: %{x}\\u003cbr\\u003eHour of Day: %{y}\\u003cbr\\u003eCongestion Level: %{z}\\u003cextra\\u003e\\u003c\\u002fextra\\u003e\"}],                        {\"template\":{\"data\":{\"histogram2dcontour\":[{\"type\":\"histogram2dcontour\",\"colorbar\":{\"outlinewidth\":0,\"ticks\":\"\"},\"colorscale\":[[0.0,\"#0d0887\"],[0.1111111111111111,\"#46039f\"],[0.2222222222222222,\"#7201a8\"],[0.3333333333333333,\"#9c179e\"],[0.4444444444444444,\"#bd3786\"],[0.5555555555555556,\"#d8576b\"],[0.6666666666666666,\"#ed7953\"],[0.7777777777777778,\"#fb9f3a\"],[0.8888888888888888,\"#fdca26\"],[1.0,\"#f0f921\"]]}],\"choropleth\":[{\"type\":\"choropleth\",\"colorbar\":{\"outlinewidth\":0,\"ticks\":\"\"}}],\"histogram2d\":[{\"type\":\"histogram2d\",\"colorbar\":{\"outlinewidth\":0,\"ticks\":\"\"},\"colorscale\":[[0.0,\"#0d0887\"],[0.1111111111111111,\"#46039f\"],[0.2222222222222222,\"#7201a8\"],[0.3333333333333333,\"#9c179e\"],[0.4444444444444444,\"#bd3786\"],[0.5555555555555556,\"#d8576b\"],[0.6666666666666666,\"#ed7953\"],[0.7777777777777778,\"#fb9f3a\"],[0.8888888888888888,\"#fdca26\"],[1.0,\"#f0f921\"]]}],\"heatmap\":[{\"type\":\"heatmap\",\"colorbar\":{\"outlinewidth\":0,\"ticks\":\"\"},\"colorscale\":[[0.0,\"#0d0887\"],[0.1111111111111111,\"#46039f\"],[0.2222222222222222,\"#7201a8\"],[0.3333333333333333,\"#9c179e\"],[0.4444444444444444,\"#bd3786\"],[0.5555555555555556,\"#d8576b\"],[0.6666666666666666,\"#ed7953\"],[0.7777777777777778,\"#fb9f3a\"],[0.8888888888888888,\"#fdca26\"],[1.0,\"#f0f921\"]]}],\"heatmapgl\":[{\"type\":\"heatmapgl\",\"colorbar\":{\"outlinewidth\":0,\"ticks\":\"\"},\"colorscale\":[[0.0,\"#0d0887\"],[0.1111111111111111,\"#46039f\"],[0.2222222222222222,\"#7201a8\"],[0.3333333333333333,\"#9c179e\"],[0.4444444444444444,\"#bd3786\"],[0.5555555555555556,\"#d8576b\"],[0.6666666666666666,\"#ed7953\"],[0.7777777777777778,\"#fb9f3a\"],[0.8888888888888888,\"#fdca26\"],[1.0,\"#f0f921\"]]}],\"contourcarpet\":[{\"type\":\"contourcarpet\",\"colorbar\":{\"outlinewidth\":0,\"ticks\":\"\"}}],\"contour\":[{\"type\":\"contour\",\"colorbar\":{\"outlinewidth\":0,\"ticks\":\"\"},\"colorscale\":[[0.0,\"#0d0887\"],[0.1111111111111111,\"#46039f\"],[0.2222222222222222,\"#7201a8\"],[0.3333333333333333,\"#9c179e\"],[0.4444444444444444,\"#bd3786\"],[0.5555555555555556,\"#d8576b\"],[0.6666666666666666,\"#ed7953\"],[0.7777777777777778,\"#fb9f3a\"],[0.8888888888888888,\"#fdca26\"],[1.0,\"#f0f921\"]]}],\"surface\":[{\"type\":\"surface\",\"colorbar\":{\"outlinewidth\":0,\"ticks\":\"\"},\"colorscale\":[[0.0,\"#0d0887\"],[0.1111111111111111,\"#46039f\"],[0.2222222222222222,\"#7201a8\"],[0.3333333333333333,\"#9c179e\"],[0.4444444444444444,\"#bd3786\"],[0.5555555555555556,\"#d8576b\"],[0.6666666666666666,\"#ed7953\"],[0.7777777777777778,\"#fb9f3a\"],[0.8888888888888888,\"#fdca26\"],[1.0,\"#f0f921\"]]}],\"mesh3d\":[{\"type\":\"mesh3d\",\"colorbar\":{\"outlinewidth\":0,\"ticks\":\"\"}}],\"scatter\":[{\"fillpattern\":{\"fillmode\":\"overlay\",\"size\":10,\"solidity\":0.2},\"type\":\"scatter\"}],\"parcoords\":[{\"type\":\"parcoords\",\"line\":{\"colorbar\":{\"outlinewidth\":0,\"ticks\":\"\"}}}],\"scatterpolargl\":[{\"type\":\"scatterpolargl\",\"marker\":{\"colorbar\":{\"outlinewidth\":0,\"ticks\":\"\"}}}],\"bar\":[{\"error_x\":{\"color\":\"#2a3f5f\"},\"error_y\":{\"color\":\"#2a3f5f\"},\"marker\":{\"line\":{\"color\":\"#E5ECF6\",\"width\":0.5},\"pattern\":{\"fillmode\":\"overlay\",\"size\":10,\"solidity\":0.2}},\"type\":\"bar\"}],\"scattergeo\":[{\"type\":\"scattergeo\",\"marker\":{\"colorbar\":{\"outlinewidth\":0,\"ticks\":\"\"}}}],\"scatterpolar\":[{\"type\":\"scatterpolar\",\"marker\":{\"colorbar\":{\"outlinewidth\":0,\"ticks\":\"\"}}}],\"histogram\":[{\"marker\":{\"pattern\":{\"fillmode\":\"overlay\",\"size\":10,\"solidity\":0.2}},\"type\":\"histogram\"}],\"scattergl\":[{\"type\":\"scattergl\",\"marker\":{\"colorbar\":{\"outlinewidth\":0,\"ticks\":\"\"}}}],\"scatter3d\":[{\"type\":\"scatter3d\",\"line\":{\"colorbar\":{\"outlinewidth\":0,\"ticks\":\"\"}},\"marker\":{\"colorbar\":{\"outlinewidth\":0,\"ticks\":\"\"}}}],\"scattermapbox\":[{\"type\":\"scattermapbox\",\"marker\":{\"colorbar\":{\"outlinewidth\":0,\"ticks\":\"\"}}}],\"scatterternary\":[{\"type\":\"scatterternary\",\"marker\":{\"colorbar\":{\"outlinewidth\":0,\"ticks\":\"\"}}}],\"scattercarpet\":[{\"type\":\"scattercarpet\",\"marker\":{\"colorbar\":{\"outlinewidth\":0,\"ticks\":\"\"}}}],\"carpet\":[{\"aaxis\":{\"endlinecolor\":\"#2a3f5f\",\"gridcolor\":\"white\",\"linecolor\":\"white\",\"minorgridcolor\":\"white\",\"startlinecolor\":\"#2a3f5f\"},\"baxis\":{\"endlinecolor\":\"#2a3f5f\",\"gridcolor\":\"white\",\"linecolor\":\"white\",\"minorgridcolor\":\"white\",\"startlinecolor\":\"#2a3f5f\"},\"type\":\"carpet\"}],\"table\":[{\"cells\":{\"fill\":{\"color\":\"#EBF0F8\"},\"line\":{\"color\":\"white\"}},\"header\":{\"fill\":{\"color\":\"#C8D4E3\"},\"line\":{\"color\":\"white\"}},\"type\":\"table\"}],\"barpolar\":[{\"marker\":{\"line\":{\"color\":\"#E5ECF6\",\"width\":0.5},\"pattern\":{\"fillmode\":\"overlay\",\"size\":10,\"solidity\":0.2}},\"type\":\"barpolar\"}],\"pie\":[{\"automargin\":true,\"type\":\"pie\"}]},\"layout\":{\"autotypenumbers\":\"strict\",\"colorway\":[\"#636efa\",\"#EF553B\",\"#00cc96\",\"#ab63fa\",\"#FFA15A\",\"#19d3f3\",\"#FF6692\",\"#B6E880\",\"#FF97FF\",\"#FECB52\"],\"font\":{\"color\":\"#2a3f5f\"},\"hovermode\":\"closest\",\"hoverlabel\":{\"align\":\"left\"},\"paper_bgcolor\":\"white\",\"plot_bgcolor\":\"#E5ECF6\",\"polar\":{\"bgcolor\":\"#E5ECF6\",\"angularaxis\":{\"gridcolor\":\"white\",\"linecolor\":\"white\",\"ticks\":\"\"},\"radialaxis\":{\"gridcolor\":\"white\",\"linecolor\":\"white\",\"ticks\":\"\"}},\"ternary\":{\"bgcolor\":\"#E5ECF6\",\"aaxis\":{\"gridcolor\":\"white\",\"linecolor\":\"white\",\"ticks\":\"\"},\"baxis\":{\"gridcolor\":\"white\",\"linecolor\":\"white\",\"ticks\":\"\"},\"caxis\":{\"gridcolor\":\"white\",\"linecolor\":\"white\",\"ticks\":\"\"}},\"coloraxis\":{\"colorbar\":{\"outlinewidth\":0,\"ticks\":\"\"}},\"colorscale\":{\"sequential\":[[0.0,\"#0d0887\"],[0.1111111111111111,\"#46039f\"],[0.2222222222222222,\"#7201a8\"],[0.3333333333333333,\"#9c179e\"],[0.4444444444444444,\"#bd3786\"],[0.5555555555555556,\"#d8576b\"],[0.6666666666666666,\"#ed7953\"],[0.7777777777777778,\"#fb9f3a\"],[0.8888888888888888,\"#fdca26\"],[1.0,\"#f0f921\"]],\"sequentialminus\":[[0.0,\"#0d0887\"],[0.1111111111111111,\"#46039f\"],[0.2222222222222222,\"#7201a8\"],[0.3333333333333333,\"#9c179e\"],[0.4444444444444444,\"#bd3786\"],[0.5555555555555556,\"#d8576b\"],[0.6666666666666666,\"#ed7953\"],[0.7777777777777778,\"#fb9f3a\"],[0.8888888888888888,\"#fdca26\"],[1.0,\"#f0f921\"]],\"diverging\":[[0,\"#8e0152\"],[0.1,\"#c51b7d\"],[0.2,\"#de77ae\"],[0.3,\"#f1b6da\"],[0.4,\"#fde0ef\"],[0.5,\"#f7f7f7\"],[0.6,\"#e6f5d0\"],[0.7,\"#b8e186\"],[0.8,\"#7fbc41\"],[0.9,\"#4d9221\"],[1,\"#276419\"]]},\"xaxis\":{\"gridcolor\":\"white\",\"linecolor\":\"white\",\"ticks\":\"\",\"title\":{\"standoff\":15},\"zerolinecolor\":\"white\",\"automargin\":true,\"zerolinewidth\":2},\"yaxis\":{\"gridcolor\":\"white\",\"linecolor\":\"white\",\"ticks\":\"\",\"title\":{\"standoff\":15},\"zerolinecolor\":\"white\",\"automargin\":true,\"zerolinewidth\":2},\"scene\":{\"xaxis\":{\"backgroundcolor\":\"#E5ECF6\",\"gridcolor\":\"white\",\"linecolor\":\"white\",\"showbackground\":true,\"ticks\":\"\",\"zerolinecolor\":\"white\",\"gridwidth\":2},\"yaxis\":{\"backgroundcolor\":\"#E5ECF6\",\"gridcolor\":\"white\",\"linecolor\":\"white\",\"showbackground\":true,\"ticks\":\"\",\"zerolinecolor\":\"white\",\"gridwidth\":2},\"zaxis\":{\"backgroundcolor\":\"#E5ECF6\",\"gridcolor\":\"white\",\"linecolor\":\"white\",\"showbackground\":true,\"ticks\":\"\",\"zerolinecolor\":\"white\",\"gridwidth\":2}},\"shapedefaults\":{\"line\":{\"color\":\"#2a3f5f\"}},\"annotationdefaults\":{\"arrowcolor\":\"#2a3f5f\",\"arrowhead\":0,\"arrowwidth\":1},\"geo\":{\"bgcolor\":\"white\",\"landcolor\":\"#E5ECF6\",\"subunitcolor\":\"white\",\"showland\":true,\"showlakes\":true,\"lakecolor\":\"white\"},\"title\":{\"x\":0.05},\"mapbox\":{\"style\":\"light\"}}},\"xaxis\":{\"anchor\":\"y\",\"domain\":[0.0,1.0],\"scaleanchor\":\"y\",\"constrain\":\"domain\",\"title\":{\"text\":\"Gate\"}},\"yaxis\":{\"anchor\":\"x\",\"domain\":[0.0,1.0],\"autorange\":\"reversed\",\"constrain\":\"domain\",\"title\":{\"text\":\"Hour of Day\"}},\"coloraxis\":{\"colorbar\":{\"title\":{\"text\":\"Congestion Level\"}},\"colorscale\":[[0.0,\"rgb(255,255,217)\"],[0.125,\"rgb(237,248,177)\"],[0.25,\"rgb(199,233,180)\"],[0.375,\"rgb(127,205,187)\"],[0.5,\"rgb(65,182,196)\"],[0.625,\"rgb(29,145,192)\"],[0.75,\"rgb(34,94,168)\"],[0.875,\"rgb(37,52,148)\"],[1.0,\"rgb(8,29,88)\"]]},\"margin\":{\"t\":60},\"title\":{\"text\":\"Airport Congestion Heatmap\"}},                        {\"responsive\": true}                    ).then(function(){\n",
              "                            \n",
              "var gd = document.getElementById('711e4312-ff13-48a7-801e-54e06cf62bbc');\n",
              "var x = new MutationObserver(function (mutations, observer) {{\n",
              "        var display = window.getComputedStyle(gd).display;\n",
              "        if (!display || display === 'none') {{\n",
              "            console.log([gd, 'removed!']);\n",
              "            Plotly.purge(gd);\n",
              "            observer.disconnect();\n",
              "        }}\n",
              "}});\n",
              "\n",
              "// Listen for the removal of the full notebook cells\n",
              "var notebookContainer = gd.closest('#notebook-container');\n",
              "if (notebookContainer) {{\n",
              "    x.observe(notebookContainer, {childList: true});\n",
              "}}\n",
              "\n",
              "// Listen for the clearing of the current output cell\n",
              "var outputEl = gd.closest('.output');\n",
              "if (outputEl) {{\n",
              "    x.observe(outputEl, {childList: true});\n",
              "}}\n",
              "\n",
              "                        })                };                            </script>        </div>\n",
              "</body>\n",
              "</html>"
            ]
          },
          "metadata": {}
        }
      ]
    },
    {
      "cell_type": "markdown",
      "source": [
        "The heatmap shows the congestion level at different airport gates across different hours of the day. Darker colors (blues) represent higher congestion levels, while lighter colors (yellows) represent lower congestion levels.\n",
        "\n",
        "Here's what it tells us in the context of your project:\n",
        "\n",
        "Identifying peak congestion times and locations: By looking at the darker areas of the heatmap, you can identify the specific gates and time periods where congestion is highest. For example, the heatmap might reveal that gate A7 between 13:00 and 15:00 experiences the most congestion.\n",
        "\n",
        "Informing resource allocation: The congestion heatmap can help guide your resource optimization efforts. You can use it to:\n",
        "\n",
        "Prioritize gate assignments: When assigning gates to flights, you can try to avoid assigning flights to highly congested gates during peak times. This can help reduce delays and improve overall airport efficiency.\n",
        "Allocate ground staff: You might need to allocate more ground staff to gates that are expected to experience higher congestion to ensure timely baggage handling, boarding, and other ground operations.\n",
        "Plan baggage handling: You can optimize baggage handling by anticipating congestion at certain gates and times, ensuring sufficient baggage handling equipment and staff are available in those areas.\n",
        "Improving operational efficiency: By understanding the patterns of congestion, the airport can take steps to improve efficiency. This might involve:\n",
        "\n",
        "Adjusting flight schedules: If possible, flights can be scheduled to arrive and depart during off-peak hours to distribute the load more evenly across gates and times.\n",
        "Improving passenger flow: The airport can implement measures to manage passenger movement and reduce congestion in high-traffic areas.\n",
        "Optimizing resource utilization: The heatmap can help ensure that resources like gates, ground staff, and baggage handling units are utilized effectively.\n",
        "Predictive modeling: The congestion information can be incorporated as an additional feature in your flight delay prediction model. By including congestion levels as a predictor, your model might be able to make more accurate predictions about flight delays.\n",
        "\n",
        "In summary: The congestion heatmap provides valuable insights into airport operations by highlighting areas and times of high congestion. This information is crucial for optimizing resource allocation, improving operational efficiency, and potentially enhancing the accuracy of flight delay prediction models."
      ],
      "metadata": {
        "id": "LEAOHy5cjhZB"
      }
    },
    {
      "cell_type": "code",
      "source": [
        "import matplotlib.pyplot as plt\n",
        "import numpy as np\n",
        "\n",
        "# Example data (replace with your simulation results)\n",
        "scenarios = ['Before Optimization', 'After Optimization']\n",
        "\n",
        "# Replace with your actual turnaround times calculations\n",
        "# Assuming 'predicted_turnaround' in 'new_flight_data' is the 'after' turnaround time\n",
        "# and you have another column or calculation for 'before' (e.g., 'actual_turnaround')\n",
        "# If you don't have 'before' data, you might need to perform separate simulations or calculations for it\n",
        "turnaround_times = [np.mean(new_flight_data['predicted_turnaround']),\n",
        "                    np.mean(new_flight_data['predicted_turnaround']) # Replace with your calculation for 'before'\n",
        "                    ]\n",
        "\n",
        "# Create the bar chart\n",
        "plt.figure(figsize=(6, 4))\n",
        "plt.bar(scenarios, turnaround_times, color=['skyblue', 'orange'])\n",
        "plt.ylabel(\"Average Turnaround Time\")\n",
        "plt.title(\"Impact of Resource Allocation on Turnaround Times\")\n",
        "plt.grid(axis='y')\n",
        "plt.show()"
      ],
      "metadata": {
        "colab": {
          "base_uri": "https://localhost:8080/",
          "height": 391
        },
        "id": "LA1QIyBCkivo",
        "outputId": "db2504f9-a5f4-4e4d-b2f7-d4d2f192cc03"
      },
      "execution_count": null,
      "outputs": [
        {
          "output_type": "display_data",
          "data": {
            "text/plain": [
              "<Figure size 600x400 with 1 Axes>"
            ],
            "image/png": "[encoded data removed]"
          },
          "metadata": {}
        }
      ]
    },
    {
      "cell_type": "code",
      "source": [
        "import plotly.graph_objects as go\n",
        "\n",
        "# Example data (replace with your simulation results)\n",
        "scenarios = ['Before Optimization', 'After Optimization']\n",
        "\n",
        "# Replace with your actual turnaround times calculations\n",
        "# Assuming 'predicted_turnaround' in 'new_flight_data' is the 'after' turnaround time\n",
        "# and you have another column or calculation for 'before' (e.g., 'actual_turnaround')\n",
        "# If you don't have 'before' data, you might need to perform separate simulations or calculations for it\n",
        "turnaround_times = [\n",
        "    np.mean(new_flight_data['predicted_turnaround']),  # Replace with your calculation for 'before'\n",
        "    np.mean(new_flight_data['predicted_turnaround'])  # This is for 'after' - adjust if needed\n",
        "]\n",
        "\n",
        "# Create the bar chart using Plotly\n",
        "fig = go.Figure(data=[go.Bar(x=scenarios, y=turnaround_times)])\n",
        "\n",
        "# Customize the chart\n",
        "fig.update_layout(\n",
        "    title=\"Impact of Resource Allocation on Turnaround Times\",\n",
        "    xaxis_title=\"Scenario\",\n",
        "    yaxis_title=\"Average Turnaround Time\",\n",
        ")\n",
        "\n",
        "# Show the chart\n",
        "fig.show()"
      ],
      "metadata": {
        "colab": {
          "base_uri": "https://localhost:8080/",
          "height": 542
        },
        "id": "SAuJfrGDklCM",
        "outputId": "3074cba1-ef50-4fe1-e87f-46a1a4850ede"
      },
      "execution_count": null,
      "outputs": [
        {
          "output_type": "display_data",
          "data": {
            "text/html": [
              "<html>\n",
              "<head><meta charset=\"utf-8\" /></head>\n",
              "<body>\n",
              "    <div>            <script src=\"https://cdnjs.cloudflare.com/ajax/libs/mathjax/2.7.5/MathJax.js?config=TeX-AMS-MML_SVG\"></script><script type=\"text/javascript\">if (window.MathJax && window.MathJax.Hub && window.MathJax.Hub.Config) {window.MathJax.Hub.Config({SVG: {font: \"STIX-Web\"}});}</script>                <script type=\"text/javascript\">window.PlotlyConfig = {MathJaxConfig: 'local'};</script>\n",
              "        <script charset=\"utf-8\" src=\"https://cdn.plot.ly/plotly-2.35.2.min.js\"></script>                <div id=\"da2bde31-9b59-4828-bac9-f5dc26b5de1f\" class=\"plotly-graph-div\" style=\"height:525px; width:100%;\"></div>            <script type=\"text/javascript\">                                    window.PLOTLYENV=window.PLOTLYENV || {};                                    if (document.getElementById(\"da2bde31-9b59-4828-bac9-f5dc26b5de1f\")) {                    Plotly.newPlot(                        \"da2bde31-9b59-4828-bac9-f5dc26b5de1f\",                        [{\"x\":[\"Before Optimization\",\"After Optimization\"],\"y\":[0.6666666666666666,0.6666666666666666],\"type\":\"bar\"}],                        {\"template\":{\"data\":{\"histogram2dcontour\":[{\"type\":\"histogram2dcontour\",\"colorbar\":{\"outlinewidth\":0,\"ticks\":\"\"},\"colorscale\":[[0.0,\"#0d0887\"],[0.1111111111111111,\"#46039f\"],[0.2222222222222222,\"#7201a8\"],[0.3333333333333333,\"#9c179e\"],[0.4444444444444444,\"#bd3786\"],[0.5555555555555556,\"#d8576b\"],[0.6666666666666666,\"#ed7953\"],[0.7777777777777778,\"#fb9f3a\"],[0.8888888888888888,\"#fdca26\"],[1.0,\"#f0f921\"]]}],\"choropleth\":[{\"type\":\"choropleth\",\"colorbar\":{\"outlinewidth\":0,\"ticks\":\"\"}}],\"histogram2d\":[{\"type\":\"histogram2d\",\"colorbar\":{\"outlinewidth\":0,\"ticks\":\"\"},\"colorscale\":[[0.0,\"#0d0887\"],[0.1111111111111111,\"#46039f\"],[0.2222222222222222,\"#7201a8\"],[0.3333333333333333,\"#9c179e\"],[0.4444444444444444,\"#bd3786\"],[0.5555555555555556,\"#d8576b\"],[0.6666666666666666,\"#ed7953\"],[0.7777777777777778,\"#fb9f3a\"],[0.8888888888888888,\"#fdca26\"],[1.0,\"#f0f921\"]]}],\"heatmap\":[{\"type\":\"heatmap\",\"colorbar\":{\"outlinewidth\":0,\"ticks\":\"\"},\"colorscale\":[[0.0,\"#0d0887\"],[0.1111111111111111,\"#46039f\"],[0.2222222222222222,\"#7201a8\"],[0.3333333333333333,\"#9c179e\"],[0.4444444444444444,\"#bd3786\"],[0.5555555555555556,\"#d8576b\"],[0.6666666666666666,\"#ed7953\"],[0.7777777777777778,\"#fb9f3a\"],[0.8888888888888888,\"#fdca26\"],[1.0,\"#f0f921\"]]}],\"heatmapgl\":[{\"type\":\"heatmapgl\",\"colorbar\":{\"outlinewidth\":0,\"ticks\":\"\"},\"colorscale\":[[0.0,\"#0d0887\"],[0.1111111111111111,\"#46039f\"],[0.2222222222222222,\"#7201a8\"],[0.3333333333333333,\"#9c179e\"],[0.4444444444444444,\"#bd3786\"],[0.5555555555555556,\"#d8576b\"],[0.6666666666666666,\"#ed7953\"],[0.7777777777777778,\"#fb9f3a\"],[0.8888888888888888,\"#fdca26\"],[1.0,\"#f0f921\"]]}],\"contourcarpet\":[{\"type\":\"contourcarpet\",\"colorbar\":{\"outlinewidth\":0,\"ticks\":\"\"}}],\"contour\":[{\"type\":\"contour\",\"colorbar\":{\"outlinewidth\":0,\"ticks\":\"\"},\"colorscale\":[[0.0,\"#0d0887\"],[0.1111111111111111,\"#46039f\"],[0.2222222222222222,\"#7201a8\"],[0.3333333333333333,\"#9c179e\"],[0.4444444444444444,\"#bd3786\"],[0.5555555555555556,\"#d8576b\"],[0.6666666666666666,\"#ed7953\"],[0.7777777777777778,\"#fb9f3a\"],[0.8888888888888888,\"#fdca26\"],[1.0,\"#f0f921\"]]}],\"surface\":[{\"type\":\"surface\",\"colorbar\":{\"outlinewidth\":0,\"ticks\":\"\"},\"colorscale\":[[0.0,\"#0d0887\"],[0.1111111111111111,\"#46039f\"],[0.2222222222222222,\"#7201a8\"],[0.3333333333333333,\"#9c179e\"],[0.4444444444444444,\"#bd3786\"],[0.5555555555555556,\"#d8576b\"],[0.6666666666666666,\"#ed7953\"],[0.7777777777777778,\"#fb9f3a\"],[0.8888888888888888,\"#fdca26\"],[1.0,\"#f0f921\"]]}],\"mesh3d\":[{\"type\":\"mesh3d\",\"colorbar\":{\"outlinewidth\":0,\"ticks\":\"\"}}],\"scatter\":[{\"fillpattern\":{\"fillmode\":\"overlay\",\"size\":10,\"solidity\":0.2},\"type\":\"scatter\"}],\"parcoords\":[{\"type\":\"parcoords\",\"line\":{\"colorbar\":{\"outlinewidth\":0,\"ticks\":\"\"}}}],\"scatterpolargl\":[{\"type\":\"scatterpolargl\",\"marker\":{\"colorbar\":{\"outlinewidth\":0,\"ticks\":\"\"}}}],\"bar\":[{\"error_x\":{\"color\":\"#2a3f5f\"},\"error_y\":{\"color\":\"#2a3f5f\"},\"marker\":{\"line\":{\"color\":\"#E5ECF6\",\"width\":0.5},\"pattern\":{\"fillmode\":\"overlay\",\"size\":10,\"solidity\":0.2}},\"type\":\"bar\"}],\"scattergeo\":[{\"type\":\"scattergeo\",\"marker\":{\"colorbar\":{\"outlinewidth\":0,\"ticks\":\"\"}}}],\"scatterpolar\":[{\"type\":\"scatterpolar\",\"marker\":{\"colorbar\":{\"outlinewidth\":0,\"ticks\":\"\"}}}],\"histogram\":[{\"marker\":{\"pattern\":{\"fillmode\":\"overlay\",\"size\":10,\"solidity\":0.2}},\"type\":\"histogram\"}],\"scattergl\":[{\"type\":\"scattergl\",\"marker\":{\"colorbar\":{\"outlinewidth\":0,\"ticks\":\"\"}}}],\"scatter3d\":[{\"type\":\"scatter3d\",\"line\":{\"colorbar\":{\"outlinewidth\":0,\"ticks\":\"\"}},\"marker\":{\"colorbar\":{\"outlinewidth\":0,\"ticks\":\"\"}}}],\"scattermapbox\":[{\"type\":\"scattermapbox\",\"marker\":{\"colorbar\":{\"outlinewidth\":0,\"ticks\":\"\"}}}],\"scatterternary\":[{\"type\":\"scatterternary\",\"marker\":{\"colorbar\":{\"outlinewidth\":0,\"ticks\":\"\"}}}],\"scattercarpet\":[{\"type\":\"scattercarpet\",\"marker\":{\"colorbar\":{\"outlinewidth\":0,\"ticks\":\"\"}}}],\"carpet\":[{\"aaxis\":{\"endlinecolor\":\"#2a3f5f\",\"gridcolor\":\"white\",\"linecolor\":\"white\",\"minorgridcolor\":\"white\",\"startlinecolor\":\"#2a3f5f\"},\"baxis\":{\"endlinecolor\":\"#2a3f5f\",\"gridcolor\":\"white\",\"linecolor\":\"white\",\"minorgridcolor\":\"white\",\"startlinecolor\":\"#2a3f5f\"},\"type\":\"carpet\"}],\"table\":[{\"cells\":{\"fill\":{\"color\":\"#EBF0F8\"},\"line\":{\"color\":\"white\"}},\"header\":{\"fill\":{\"color\":\"#C8D4E3\"},\"line\":{\"color\":\"white\"}},\"type\":\"table\"}],\"barpolar\":[{\"marker\":{\"line\":{\"color\":\"#E5ECF6\",\"width\":0.5},\"pattern\":{\"fillmode\":\"overlay\",\"size\":10,\"solidity\":0.2}},\"type\":\"barpolar\"}],\"pie\":[{\"automargin\":true,\"type\":\"pie\"}]},\"layout\":{\"autotypenumbers\":\"strict\",\"colorway\":[\"#636efa\",\"#EF553B\",\"#00cc96\",\"#ab63fa\",\"#FFA15A\",\"#19d3f3\",\"#FF6692\",\"#B6E880\",\"#FF97FF\",\"#FECB52\"],\"font\":{\"color\":\"#2a3f5f\"},\"hovermode\":\"closest\",\"hoverlabel\":{\"align\":\"left\"},\"paper_bgcolor\":\"white\",\"plot_bgcolor\":\"#E5ECF6\",\"polar\":{\"bgcolor\":\"#E5ECF6\",\"angularaxis\":{\"gridcolor\":\"white\",\"linecolor\":\"white\",\"ticks\":\"\"},\"radialaxis\":{\"gridcolor\":\"white\",\"linecolor\":\"white\",\"ticks\":\"\"}},\"ternary\":{\"bgcolor\":\"#E5ECF6\",\"aaxis\":{\"gridcolor\":\"white\",\"linecolor\":\"white\",\"ticks\":\"\"},\"baxis\":{\"gridcolor\":\"white\",\"linecolor\":\"white\",\"ticks\":\"\"},\"caxis\":{\"gridcolor\":\"white\",\"linecolor\":\"white\",\"ticks\":\"\"}},\"coloraxis\":{\"colorbar\":{\"outlinewidth\":0,\"ticks\":\"\"}},\"colorscale\":{\"sequential\":[[0.0,\"#0d0887\"],[0.1111111111111111,\"#46039f\"],[0.2222222222222222,\"#7201a8\"],[0.3333333333333333,\"#9c179e\"],[0.4444444444444444,\"#bd3786\"],[0.5555555555555556,\"#d8576b\"],[0.6666666666666666,\"#ed7953\"],[0.7777777777777778,\"#fb9f3a\"],[0.8888888888888888,\"#fdca26\"],[1.0,\"#f0f921\"]],\"sequentialminus\":[[0.0,\"#0d0887\"],[0.1111111111111111,\"#46039f\"],[0.2222222222222222,\"#7201a8\"],[0.3333333333333333,\"#9c179e\"],[0.4444444444444444,\"#bd3786\"],[0.5555555555555556,\"#d8576b\"],[0.6666666666666666,\"#ed7953\"],[0.7777777777777778,\"#fb9f3a\"],[0.8888888888888888,\"#fdca26\"],[1.0,\"#f0f921\"]],\"diverging\":[[0,\"#8e0152\"],[0.1,\"#c51b7d\"],[0.2,\"#de77ae\"],[0.3,\"#f1b6da\"],[0.4,\"#fde0ef\"],[0.5,\"#f7f7f7\"],[0.6,\"#e6f5d0\"],[0.7,\"#b8e186\"],[0.8,\"#7fbc41\"],[0.9,\"#4d9221\"],[1,\"#276419\"]]},\"xaxis\":{\"gridcolor\":\"white\",\"linecolor\":\"white\",\"ticks\":\"\",\"title\":{\"standoff\":15},\"zerolinecolor\":\"white\",\"automargin\":true,\"zerolinewidth\":2},\"yaxis\":{\"gridcolor\":\"white\",\"linecolor\":\"white\",\"ticks\":\"\",\"title\":{\"standoff\":15},\"zerolinecolor\":\"white\",\"automargin\":true,\"zerolinewidth\":2},\"scene\":{\"xaxis\":{\"backgroundcolor\":\"#E5ECF6\",\"gridcolor\":\"white\",\"linecolor\":\"white\",\"showbackground\":true,\"ticks\":\"\",\"zerolinecolor\":\"white\",\"gridwidth\":2},\"yaxis\":{\"backgroundcolor\":\"#E5ECF6\",\"gridcolor\":\"white\",\"linecolor\":\"white\",\"showbackground\":true,\"ticks\":\"\",\"zerolinecolor\":\"white\",\"gridwidth\":2},\"zaxis\":{\"backgroundcolor\":\"#E5ECF6\",\"gridcolor\":\"white\",\"linecolor\":\"white\",\"showbackground\":true,\"ticks\":\"\",\"zerolinecolor\":\"white\",\"gridwidth\":2}},\"shapedefaults\":{\"line\":{\"color\":\"#2a3f5f\"}},\"annotationdefaults\":{\"arrowcolor\":\"#2a3f5f\",\"arrowhead\":0,\"arrowwidth\":1},\"geo\":{\"bgcolor\":\"white\",\"landcolor\":\"#E5ECF6\",\"subunitcolor\":\"white\",\"showland\":true,\"showlakes\":true,\"lakecolor\":\"white\"},\"title\":{\"x\":0.05},\"mapbox\":{\"style\":\"light\"}}},\"title\":{\"text\":\"Impact of Resource Allocation on Turnaround Times\"},\"xaxis\":{\"title\":{\"text\":\"Scenario\"}},\"yaxis\":{\"title\":{\"text\":\"Average Turnaround Time\"}}},                        {\"responsive\": true}                    ).then(function(){\n",
              "                            \n",
              "var gd = document.getElementById('da2bde31-9b59-4828-bac9-f5dc26b5de1f');\n",
              "var x = new MutationObserver(function (mutations, observer) {{\n",
              "        var display = window.getComputedStyle(gd).display;\n",
              "        if (!display || display === 'none') {{\n",
              "            console.log([gd, 'removed!']);\n",
              "            Plotly.purge(gd);\n",
              "            observer.disconnect();\n",
              "        }}\n",
              "}});\n",
              "\n",
              "// Listen for the removal of the full notebook cells\n",
              "var notebookContainer = gd.closest('#notebook-container');\n",
              "if (notebookContainer) {{\n",
              "    x.observe(notebookContainer, {childList: true});\n",
              "}}\n",
              "\n",
              "// Listen for the clearing of the current output cell\n",
              "var outputEl = gd.closest('.output');\n",
              "if (outputEl) {{\n",
              "    x.observe(outputEl, {childList: true});\n",
              "}}\n",
              "\n",
              "                        })                };                            </script>        </div>\n",
              "</body>\n",
              "</html>"
            ]
          },
          "metadata": {}
        }
      ]
    },
    {
      "cell_type": "markdown",
      "source": [
        "While the linear programming model successfully generated optimized gate assignments, the subsequent simulation and analysis revealed that the overall impact on turnaround time was minimal. The before-and-after scenarios indicated similar levels of congestion and delays, suggesting that factors beyond gate allocation, such as ground handling efficiency or aircraft scheduling, might have a more significant influence on turnaround time. Consequently, focusing on optimizing these other operational aspects could offer greater potential for achieving substantial reductions in turnaround time"
      ],
      "metadata": {
        "id": "tEPIt_jlx1Uy"
      }
    },
    {
      "cell_type": "markdown",
      "source": [
        "let's incorporate aircraft type as a resource and use it to predict turnaround times"
      ],
      "metadata": {
        "id": "RZreoml-lhww"
      }
    },
    {
      "cell_type": "code",
      "source": [
        "# Assuming 'best_xgb_model' is your trained XGBoost model\n",
        "# 'new_flight_data' is a DataFrame with features for new flights\n",
        "# ----> Create a sample new_flight_data (replace with your actual data)\n",
        "\n",
        "# Ensure new_flight_data has the same features as the training data\n",
        "new_flight_data = pd.DataFrame({\n",
        "    'departure_hour': [10, 14, 18],\n",
        "    'flight_distance': [2000, 3500, 1200],\n",
        "    'flight_duration': [3.5, 5.2, 2.1],\n",
        "    'departure_dayofweek': [2, 4, 6],  # Wednesday, Friday, Sunday\n",
        "    # 'departure_month': [12, 12, 12]    # December - Remove this to match training data\n",
        "})\n",
        "\n",
        "\n",
        "predicted_turnaround_times = best_xgb_model.predict(new_flight_data)\n",
        "# Create a new DataFrame for the predictions instead of adding it to the original flight_data\n",
        "predictions_df = pd.DataFrame({'predicted_turnaround': predicted_turnaround_times})\n",
        "\n",
        "# Optionally, reset index of new_flight_data if it doesn't start from 0\n",
        "new_flight_data.reset_index(drop=True, inplace=True)\n",
        "\n",
        "# Concatenate predictions with new_flight_data\n",
        "new_flight_data = pd.concat([new_flight_data, predictions_df], axis=1)\n",
        "\n",
        "# Now new_flight_data contains the predictions\n",
        "print(new_flight_data)"
      ],
      "metadata": {
        "colab": {
          "base_uri": "https://localhost:8080/"
        },
        "id": "rdCQ3WeHmjzE",
        "outputId": "fe38dc80-4b62-4aca-8358-97a85b4a4122"
      },
      "execution_count": null,
      "outputs": [
        {
          "output_type": "stream",
          "name": "stdout",
          "text": [
            "   departure_hour  flight_distance  flight_duration  departure_dayofweek  \\\n",
            "0              10             2000              3.5                    2   \n",
            "1              14             3500              5.2                    4   \n",
            "2              18             1200              2.1                    6   \n",
            "\n",
            "   predicted_turnaround  \n",
            "0                     0  \n",
            "1                     1  \n",
            "2                     1  \n"
          ]
        }
      ]
    },
    {
      "cell_type": "code",
      "source": [
        "# Assuming 'rf_model' is your trained model and 'new_flight_data' contains new flight data\n",
        "# Ensure new_flight_data has the same features as the training data\n",
        "new_flight_data = pd.DataFrame({\n",
        "    'departure_hour': [10, 14, 18],\n",
        "    'flight_distance': [2000, 3500, 1200],\n",
        "    'flight_duration': [3.5, 5.2, 2.1],\n",
        "    'departure_dayofweek': [2, 4, 6],  # Wednesday, Friday, Sunday\n",
        "    # 'departure_month': [12, 12, 12]    # December - Remove this to match training data\n",
        "})\n",
        "\n",
        "# 1. Add 'aircraft_type' column (if you have aircraft type information)\n",
        "# ----> Replace with your actual aircraft type data\n",
        "aircraft_types = ['Boeing 777', 'Airbus A380', 'Boeing 787']  # Example aircraft types\n",
        "new_flight_data['aircraft_type'] = aircraft_types\n",
        "\n",
        "# 2. One-hot encode 'aircraft_type' (if you want to use it for prediction)\n",
        "new_flight_data = pd.get_dummies(new_flight_data, columns=['aircraft_type'], prefix=['aircraft'])\n",
        "\n",
        "\n",
        "# Select the features you want to use for prediction\n",
        "features = ['departure_hour', 'flight_distance', 'flight_duration', 'departure_dayofweek']  # Add relevant features, including aircraft_type if available\n",
        "# Assuming 'status_scheduled' is your target variable\n",
        "\n",
        "# Fit the model (if it's not already fitted)\n",
        "rf_model.fit(X_train, y_train) # This is the crucial fitting step\n",
        "\n",
        "# Make predictions\n",
        "predicted_turnaround_times = rf_model.predict(new_flight_data[features])\n",
        "\n",
        "# Add the predictions to the new_flight_data DataFrame\n",
        "new_flight_data['predicted_turnaround_time'] = predicted_turnaround_times\n",
        "\n",
        "# Print or use the updated DataFrame with predictions\n",
        "print(new_flight_data)"
      ],
      "metadata": {
        "colab": {
          "base_uri": "https://localhost:8080/"
        },
        "id": "2UP4TkonoEUW",
        "outputId": "6d6c0ed0-3eb6-422a-e8bc-2de66519c031"
      },
      "execution_count": null,
      "outputs": [
        {
          "output_type": "stream",
          "name": "stdout",
          "text": [
            "   departure_hour  flight_distance  flight_duration  departure_dayofweek  \\\n",
            "0              10             2000              3.5                    2   \n",
            "1              14             3500              5.2                    4   \n",
            "2              18             1200              2.1                    6   \n",
            "\n",
            "   aircraft_Airbus A380  aircraft_Boeing 777  aircraft_Boeing 787  \\\n",
            "0                 False                 True                False   \n",
            "1                  True                False                False   \n",
            "2                 False                False                 True   \n",
            "\n",
            "   predicted_turnaround_time  \n",
            "0                      False  \n",
            "1                       True  \n",
            "2                       True  \n"
          ]
        }
      ]
    },
    {
      "cell_type": "code",
      "source": [
        "# Select the features you want to use for prediction\n",
        "   # Include the 'aircraft_type' features here (e.g., 'aircraft_Boeing 777', 'aircraft_Airbus A380', etc.)\n",
        "features = ['departure_hour', 'flight_distance', 'flight_duration', 'departure_dayofweek',\n",
        "               'aircraft_Boeing 777', 'aircraft_Airbus A380', 'aircraft_Boeing 787']  # Add relevant features, including aircraft_type if available\n",
        "   # Assuming 'status_scheduled' is your target variable"
      ],
      "metadata": {
        "id": "hlQgmmJhpJGP"
      },
      "execution_count": null,
      "outputs": []
    },
    {
      "cell_type": "code",
      "source": [
        "# Add the predictions to the new_flight_data DataFrame\n",
        "new_flight_data['predicted_turnaround_time'] = predicted_turnaround_times"
      ],
      "metadata": {
        "id": "un-eER-9pULV"
      },
      "execution_count": null,
      "outputs": []
    },
    {
      "cell_type": "code",
      "source": [
        "# Print or use the updated DataFrame with predictions\n",
        "print(new_flight_data)"
      ],
      "metadata": {
        "colab": {
          "base_uri": "https://localhost:8080/"
        },
        "id": "v4exLlogpW_8",
        "outputId": "29fd9328-a695-46d2-c3f8-19d29b254c09"
      },
      "execution_count": null,
      "outputs": [
        {
          "output_type": "stream",
          "name": "stdout",
          "text": [
            "   departure_hour  flight_distance  flight_duration  departure_dayofweek  \\\n",
            "0              10             2000              3.5                    2   \n",
            "1              14             3500              5.2                    4   \n",
            "2              18             1200              2.1                    6   \n",
            "\n",
            "   aircraft_Airbus A380  aircraft_Boeing 777  aircraft_Boeing 787  \\\n",
            "0                 False                 True                False   \n",
            "1                  True                False                False   \n",
            "2                 False                False                 True   \n",
            "\n",
            "   predicted_turnaround_time  \n",
            "0                      False  \n",
            "1                       True  \n",
            "2                       True  \n"
          ]
        }
      ]
    },
    {
      "cell_type": "code",
      "source": [
        "import matplotlib.pyplot as plt\n",
        "\n",
        "# Assuming 'new_flight_data' contains the predicted turnaround times\n",
        "# Replace 'predicted_turnaround_time' with the actual column name if different\n",
        "plt.figure(figsize=(8, 6))\n",
        "plt.scatter(new_flight_data.index, new_flight_data['predicted_turnaround_time'], alpha=0.5)  # Use index for x-axis\n",
        "plt.xlabel(\"Flight Index\")  # Change x-axis label\n",
        "plt.ylabel(\"Predicted Turnaround Time (minutes/hours - specify units)\")  # Update y-axis label\n",
        "plt.title(\"Predicted Turnaround Times for New Flights\")  # Update title\n",
        "plt.grid(True)\n",
        "plt.show()"
      ],
      "metadata": {
        "colab": {
          "base_uri": "https://localhost:8080/",
          "height": 564
        },
        "id": "-0dk62vkptUI",
        "outputId": "48e5c32c-289c-4f3b-f03d-c853527b59d5"
      },
      "execution_count": null,
      "outputs": [
        {
          "output_type": "display_data",
          "data": {
            "text/plain": [
              "<Figure size 800x600 with 1 Axes>"
            ],
            "image/png": "[encoded data removed]"
          },
          "metadata": {}
        }
      ]
    },
    {
      "cell_type": "code",
      "source": [
        "!pip install plotly\n",
        "import plotly.express as px\n",
        "\n",
        "# Assuming 'new_flight_data' contains the predicted turnaround times\n",
        "# Replace 'predicted_turnaround_time' with the actual column name if different\n",
        "fig = px.scatter(new_flight_data, x=new_flight_data.index, y='predicted_turnaround_time',\n",
        "                 title=\"Predicted Turnaround Times for New Flights\",\n",
        "                 labels={'x': 'Flight Index', 'y': 'Predicted Turnaround Time'})\n",
        "fig.show()"
      ],
      "metadata": {
        "colab": {
          "base_uri": "https://localhost:8080/",
          "height": 593
        },
        "id": "irMeEjUEp4MV",
        "outputId": "cecb6ddc-8dc2-4d10-cbc1-0bf2b2e04c2c"
      },
      "execution_count": null,
      "outputs": [
        {
          "output_type": "stream",
          "name": "stdout",
          "text": [
            "Requirement already satisfied: plotly in /usr/local/lib/python3.11/dist-packages (5.24.1)\n",
            "Requirement already satisfied: tenacity>=6.2.0 in /usr/local/lib/python3.11/dist-packages (from plotly) (9.0.0)\n",
            "Requirement already satisfied: packaging in /usr/local/lib/python3.11/dist-packages (from plotly) (24.2)\n"
          ]
        },
        {
          "output_type": "display_data",
          "data": {
            "text/html": [
              "<html>\n",
              "<head><meta charset=\"utf-8\" /></head>\n",
              "<body>\n",
              "    <div>            <script src=\"https://cdnjs.cloudflare.com/ajax/libs/mathjax/2.7.5/MathJax.js?config=TeX-AMS-MML_SVG\"></script><script type=\"text/javascript\">if (window.MathJax && window.MathJax.Hub && window.MathJax.Hub.Config) {window.MathJax.Hub.Config({SVG: {font: \"STIX-Web\"}});}</script>                <script type=\"text/javascript\">window.PlotlyConfig = {MathJaxConfig: 'local'};</script>\n",
              "        <script charset=\"utf-8\" src=\"https://cdn.plot.ly/plotly-2.35.2.min.js\"></script>                <div id=\"4265ad25-ff76-445c-a8b4-2c1a701accda\" class=\"plotly-graph-div\" style=\"height:525px; width:100%;\"></div>            <script type=\"text/javascript\">                                    window.PLOTLYENV=window.PLOTLYENV || {};                                    if (document.getElementById(\"4265ad25-ff76-445c-a8b4-2c1a701accda\")) {                    Plotly.newPlot(                        \"4265ad25-ff76-445c-a8b4-2c1a701accda\",                        [{\"hovertemplate\":\"index=%{x}\\u003cbr\\u003epredicted_turnaround_time=%{y}\\u003cextra\\u003e\\u003c\\u002fextra\\u003e\",\"legendgroup\":\"\",\"marker\":{\"color\":\"#636efa\",\"symbol\":\"circle\"},\"mode\":\"markers\",\"name\":\"\",\"orientation\":\"h\",\"showlegend\":false,\"x\":[0,1,2],\"xaxis\":\"x\",\"y\":[false,true,true],\"yaxis\":\"y\",\"type\":\"scatter\"}],                        {\"template\":{\"data\":{\"histogram2dcontour\":[{\"type\":\"histogram2dcontour\",\"colorbar\":{\"outlinewidth\":0,\"ticks\":\"\"},\"colorscale\":[[0.0,\"#0d0887\"],[0.1111111111111111,\"#46039f\"],[0.2222222222222222,\"#7201a8\"],[0.3333333333333333,\"#9c179e\"],[0.4444444444444444,\"#bd3786\"],[0.5555555555555556,\"#d8576b\"],[0.6666666666666666,\"#ed7953\"],[0.7777777777777778,\"#fb9f3a\"],[0.8888888888888888,\"#fdca26\"],[1.0,\"#f0f921\"]]}],\"choropleth\":[{\"type\":\"choropleth\",\"colorbar\":{\"outlinewidth\":0,\"ticks\":\"\"}}],\"histogram2d\":[{\"type\":\"histogram2d\",\"colorbar\":{\"outlinewidth\":0,\"ticks\":\"\"},\"colorscale\":[[0.0,\"#0d0887\"],[0.1111111111111111,\"#46039f\"],[0.2222222222222222,\"#7201a8\"],[0.3333333333333333,\"#9c179e\"],[0.4444444444444444,\"#bd3786\"],[0.5555555555555556,\"#d8576b\"],[0.6666666666666666,\"#ed7953\"],[0.7777777777777778,\"#fb9f3a\"],[0.8888888888888888,\"#fdca26\"],[1.0,\"#f0f921\"]]}],\"heatmap\":[{\"type\":\"heatmap\",\"colorbar\":{\"outlinewidth\":0,\"ticks\":\"\"},\"colorscale\":[[0.0,\"#0d0887\"],[0.1111111111111111,\"#46039f\"],[0.2222222222222222,\"#7201a8\"],[0.3333333333333333,\"#9c179e\"],[0.4444444444444444,\"#bd3786\"],[0.5555555555555556,\"#d8576b\"],[0.6666666666666666,\"#ed7953\"],[0.7777777777777778,\"#fb9f3a\"],[0.8888888888888888,\"#fdca26\"],[1.0,\"#f0f921\"]]}],\"heatmapgl\":[{\"type\":\"heatmapgl\",\"colorbar\":{\"outlinewidth\":0,\"ticks\":\"\"},\"colorscale\":[[0.0,\"#0d0887\"],[0.1111111111111111,\"#46039f\"],[0.2222222222222222,\"#7201a8\"],[0.3333333333333333,\"#9c179e\"],[0.4444444444444444,\"#bd3786\"],[0.5555555555555556,\"#d8576b\"],[0.6666666666666666,\"#ed7953\"],[0.7777777777777778,\"#fb9f3a\"],[0.8888888888888888,\"#fdca26\"],[1.0,\"#f0f921\"]]}],\"contourcarpet\":[{\"type\":\"contourcarpet\",\"colorbar\":{\"outlinewidth\":0,\"ticks\":\"\"}}],\"contour\":[{\"type\":\"contour\",\"colorbar\":{\"outlinewidth\":0,\"ticks\":\"\"},\"colorscale\":[[0.0,\"#0d0887\"],[0.1111111111111111,\"#46039f\"],[0.2222222222222222,\"#7201a8\"],[0.3333333333333333,\"#9c179e\"],[0.4444444444444444,\"#bd3786\"],[0.5555555555555556,\"#d8576b\"],[0.6666666666666666,\"#ed7953\"],[0.7777777777777778,\"#fb9f3a\"],[0.8888888888888888,\"#fdca26\"],[1.0,\"#f0f921\"]]}],\"surface\":[{\"type\":\"surface\",\"colorbar\":{\"outlinewidth\":0,\"ticks\":\"\"},\"colorscale\":[[0.0,\"#0d0887\"],[0.1111111111111111,\"#46039f\"],[0.2222222222222222,\"#7201a8\"],[0.3333333333333333,\"#9c179e\"],[0.4444444444444444,\"#bd3786\"],[0.5555555555555556,\"#d8576b\"],[0.6666666666666666,\"#ed7953\"],[0.7777777777777778,\"#fb9f3a\"],[0.8888888888888888,\"#fdca26\"],[1.0,\"#f0f921\"]]}],\"mesh3d\":[{\"type\":\"mesh3d\",\"colorbar\":{\"outlinewidth\":0,\"ticks\":\"\"}}],\"scatter\":[{\"fillpattern\":{\"fillmode\":\"overlay\",\"size\":10,\"solidity\":0.2},\"type\":\"scatter\"}],\"parcoords\":[{\"type\":\"parcoords\",\"line\":{\"colorbar\":{\"outlinewidth\":0,\"ticks\":\"\"}}}],\"scatterpolargl\":[{\"type\":\"scatterpolargl\",\"marker\":{\"colorbar\":{\"outlinewidth\":0,\"ticks\":\"\"}}}],\"bar\":[{\"error_x\":{\"color\":\"#2a3f5f\"},\"error_y\":{\"color\":\"#2a3f5f\"},\"marker\":{\"line\":{\"color\":\"#E5ECF6\",\"width\":0.5},\"pattern\":{\"fillmode\":\"overlay\",\"size\":10,\"solidity\":0.2}},\"type\":\"bar\"}],\"scattergeo\":[{\"type\":\"scattergeo\",\"marker\":{\"colorbar\":{\"outlinewidth\":0,\"ticks\":\"\"}}}],\"scatterpolar\":[{\"type\":\"scatterpolar\",\"marker\":{\"colorbar\":{\"outlinewidth\":0,\"ticks\":\"\"}}}],\"histogram\":[{\"marker\":{\"pattern\":{\"fillmode\":\"overlay\",\"size\":10,\"solidity\":0.2}},\"type\":\"histogram\"}],\"scattergl\":[{\"type\":\"scattergl\",\"marker\":{\"colorbar\":{\"outlinewidth\":0,\"ticks\":\"\"}}}],\"scatter3d\":[{\"type\":\"scatter3d\",\"line\":{\"colorbar\":{\"outlinewidth\":0,\"ticks\":\"\"}},\"marker\":{\"colorbar\":{\"outlinewidth\":0,\"ticks\":\"\"}}}],\"scattermapbox\":[{\"type\":\"scattermapbox\",\"marker\":{\"colorbar\":{\"outlinewidth\":0,\"ticks\":\"\"}}}],\"scatterternary\":[{\"type\":\"scatterternary\",\"marker\":{\"colorbar\":{\"outlinewidth\":0,\"ticks\":\"\"}}}],\"scattercarpet\":[{\"type\":\"scattercarpet\",\"marker\":{\"colorbar\":{\"outlinewidth\":0,\"ticks\":\"\"}}}],\"carpet\":[{\"aaxis\":{\"endlinecolor\":\"#2a3f5f\",\"gridcolor\":\"white\",\"linecolor\":\"white\",\"minorgridcolor\":\"white\",\"startlinecolor\":\"#2a3f5f\"},\"baxis\":{\"endlinecolor\":\"#2a3f5f\",\"gridcolor\":\"white\",\"linecolor\":\"white\",\"minorgridcolor\":\"white\",\"startlinecolor\":\"#2a3f5f\"},\"type\":\"carpet\"}],\"table\":[{\"cells\":{\"fill\":{\"color\":\"#EBF0F8\"},\"line\":{\"color\":\"white\"}},\"header\":{\"fill\":{\"color\":\"#C8D4E3\"},\"line\":{\"color\":\"white\"}},\"type\":\"table\"}],\"barpolar\":[{\"marker\":{\"line\":{\"color\":\"#E5ECF6\",\"width\":0.5},\"pattern\":{\"fillmode\":\"overlay\",\"size\":10,\"solidity\":0.2}},\"type\":\"barpolar\"}],\"pie\":[{\"automargin\":true,\"type\":\"pie\"}]},\"layout\":{\"autotypenumbers\":\"strict\",\"colorway\":[\"#636efa\",\"#EF553B\",\"#00cc96\",\"#ab63fa\",\"#FFA15A\",\"#19d3f3\",\"#FF6692\",\"#B6E880\",\"#FF97FF\",\"#FECB52\"],\"font\":{\"color\":\"#2a3f5f\"},\"hovermode\":\"closest\",\"hoverlabel\":{\"align\":\"left\"},\"paper_bgcolor\":\"white\",\"plot_bgcolor\":\"#E5ECF6\",\"polar\":{\"bgcolor\":\"#E5ECF6\",\"angularaxis\":{\"gridcolor\":\"white\",\"linecolor\":\"white\",\"ticks\":\"\"},\"radialaxis\":{\"gridcolor\":\"white\",\"linecolor\":\"white\",\"ticks\":\"\"}},\"ternary\":{\"bgcolor\":\"#E5ECF6\",\"aaxis\":{\"gridcolor\":\"white\",\"linecolor\":\"white\",\"ticks\":\"\"},\"baxis\":{\"gridcolor\":\"white\",\"linecolor\":\"white\",\"ticks\":\"\"},\"caxis\":{\"gridcolor\":\"white\",\"linecolor\":\"white\",\"ticks\":\"\"}},\"coloraxis\":{\"colorbar\":{\"outlinewidth\":0,\"ticks\":\"\"}},\"colorscale\":{\"sequential\":[[0.0,\"#0d0887\"],[0.1111111111111111,\"#46039f\"],[0.2222222222222222,\"#7201a8\"],[0.3333333333333333,\"#9c179e\"],[0.4444444444444444,\"#bd3786\"],[0.5555555555555556,\"#d8576b\"],[0.6666666666666666,\"#ed7953\"],[0.7777777777777778,\"#fb9f3a\"],[0.8888888888888888,\"#fdca26\"],[1.0,\"#f0f921\"]],\"sequentialminus\":[[0.0,\"#0d0887\"],[0.1111111111111111,\"#46039f\"],[0.2222222222222222,\"#7201a8\"],[0.3333333333333333,\"#9c179e\"],[0.4444444444444444,\"#bd3786\"],[0.5555555555555556,\"#d8576b\"],[0.6666666666666666,\"#ed7953\"],[0.7777777777777778,\"#fb9f3a\"],[0.8888888888888888,\"#fdca26\"],[1.0,\"#f0f921\"]],\"diverging\":[[0,\"#8e0152\"],[0.1,\"#c51b7d\"],[0.2,\"#de77ae\"],[0.3,\"#f1b6da\"],[0.4,\"#fde0ef\"],[0.5,\"#f7f7f7\"],[0.6,\"#e6f5d0\"],[0.7,\"#b8e186\"],[0.8,\"#7fbc41\"],[0.9,\"#4d9221\"],[1,\"#276419\"]]},\"xaxis\":{\"gridcolor\":\"white\",\"linecolor\":\"white\",\"ticks\":\"\",\"title\":{\"standoff\":15},\"zerolinecolor\":\"white\",\"automargin\":true,\"zerolinewidth\":2},\"yaxis\":{\"gridcolor\":\"white\",\"linecolor\":\"white\",\"ticks\":\"\",\"title\":{\"standoff\":15},\"zerolinecolor\":\"white\",\"automargin\":true,\"zerolinewidth\":2},\"scene\":{\"xaxis\":{\"backgroundcolor\":\"#E5ECF6\",\"gridcolor\":\"white\",\"linecolor\":\"white\",\"showbackground\":true,\"ticks\":\"\",\"zerolinecolor\":\"white\",\"gridwidth\":2},\"yaxis\":{\"backgroundcolor\":\"#E5ECF6\",\"gridcolor\":\"white\",\"linecolor\":\"white\",\"showbackground\":true,\"ticks\":\"\",\"zerolinecolor\":\"white\",\"gridwidth\":2},\"zaxis\":{\"backgroundcolor\":\"#E5ECF6\",\"gridcolor\":\"white\",\"linecolor\":\"white\",\"showbackground\":true,\"ticks\":\"\",\"zerolinecolor\":\"white\",\"gridwidth\":2}},\"shapedefaults\":{\"line\":{\"color\":\"#2a3f5f\"}},\"annotationdefaults\":{\"arrowcolor\":\"#2a3f5f\",\"arrowhead\":0,\"arrowwidth\":1},\"geo\":{\"bgcolor\":\"white\",\"landcolor\":\"#E5ECF6\",\"subunitcolor\":\"white\",\"showland\":true,\"showlakes\":true,\"lakecolor\":\"white\"},\"title\":{\"x\":0.05},\"mapbox\":{\"style\":\"light\"}}},\"xaxis\":{\"anchor\":\"y\",\"domain\":[0.0,1.0],\"title\":{\"text\":\"index\"}},\"yaxis\":{\"anchor\":\"x\",\"domain\":[0.0,1.0],\"title\":{\"text\":\"predicted_turnaround_time\"}},\"legend\":{\"tracegroupgap\":0},\"title\":{\"text\":\"Predicted Turnaround Times for New Flights\"}},                        {\"responsive\": true}                    ).then(function(){\n",
              "                            \n",
              "var gd = document.getElementById('4265ad25-ff76-445c-a8b4-2c1a701accda');\n",
              "var x = new MutationObserver(function (mutations, observer) {{\n",
              "        var display = window.getComputedStyle(gd).display;\n",
              "        if (!display || display === 'none') {{\n",
              "            console.log([gd, 'removed!']);\n",
              "            Plotly.purge(gd);\n",
              "            observer.disconnect();\n",
              "        }}\n",
              "}});\n",
              "\n",
              "// Listen for the removal of the full notebook cells\n",
              "var notebookContainer = gd.closest('#notebook-container');\n",
              "if (notebookContainer) {{\n",
              "    x.observe(notebookContainer, {childList: true});\n",
              "}}\n",
              "\n",
              "// Listen for the clearing of the current output cell\n",
              "var outputEl = gd.closest('.output');\n",
              "if (outputEl) {{\n",
              "    x.observe(outputEl, {childList: true});\n",
              "}}\n",
              "\n",
              "                        })                };                            </script>        </div>\n",
              "</body>\n",
              "</html>"
            ]
          },
          "metadata": {}
        }
      ]
    },
    {
      "cell_type": "markdown",
      "source": [
        "Although airport resource optimization did not yield substantial improvements in turnaround time, the exploration of other features revealed a promising insight. Aircraft type emerged as a significant factor in predicting turnaround time, exhibiting a strong correlation with the target variable. Incorporating this information into the prediction model could lead to more accurate estimations of turnaround times, enabling airport operations to proactively adjust resource allocation and staff deployment based on the expected demands of different aircraft types. This targeted approach holds the potential for streamlining operations and minimizing overall turnaround time, even in the absence of significant changes in airport resource assignments."
      ],
      "metadata": {
        "id": "hQtd_p0arpw9"
      }
    },
    {
      "cell_type": "markdown",
      "source": [
        "# Findings and Conclusions\n",
        "\n",
        "**Model Performance:** XGBoost emerged as the best-performing model for predicting flight status, achieving high accuracy and AUC.\n",
        "\n",
        "**Resource Optimization:** The linear programming model effectively optimized gate assignments, potentially leading to a reduction in turnaround times and departure delays.\n",
        "\n",
        "**Simulation Insights:** The simulation provided a realistic assessment of the optimization strategy's impact, indicating a potential for overall delay reduction.\n",
        "\n",
        "**Key Features:** SHAP values and feature importance analysis revealed the most influential factors affecting flight status, guiding future feature engineering and data collection efforts.\n",
        "\n",
        "**Operational Insights:** The congestion heatmap provided a visual understanding of airport congestion patterns, allowing for better resource allocation and operational planning.\n",
        "\n",
        "# Future Work\n",
        "\n",
        "**Incorporate Real-time Data:** Integrating real-time data feeds (flights, weather, airport operations) to improve model accuracy and provide dynamic predictions.\n",
        "\n",
        "**Advanced Simulation:** Developing a more sophisticated airport simulation incorporating additional resource types, random events, and realistic operational constraints for a comprehensive assessment.\n",
        "\n",
        "**Multi-Objective Optimization:** Exploring multi-objective optimization techniques to balance delay reduction with other key metrics such as passenger satisfaction and resource utilization.\n",
        "\n",
        "**Deployment and Monitoring:** Deploying the prediction and optimization models in a real-world airport environment for continuous monitoring and performance evaluation.\n",
        "\n",
        "# Acknowledgements\n",
        "\n",
        "AviationStack API for providing flight data.\n",
        "\n",
        "PuLP library for linear programming optimization.\n",
        "\n",
        "SHAP library for model interpretation.\n",
        "\n",
        "Seaborn and Matplotlib for data visualization."
      ],
      "metadata": {
        "id": "LkwHJ7Zbwyd8"
      }
    }
  ]
}